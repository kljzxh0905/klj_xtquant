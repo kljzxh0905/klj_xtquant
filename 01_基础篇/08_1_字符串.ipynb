{
 "cells": [
  {
   "cell_type": "code",
   "execution_count": 1,
   "metadata": {},
   "outputs": [
    {
     "name": "stdout",
     "output_type": "stream",
     "text": [
      "Hello world\n",
      "Hello World\n",
      "HELLO WORLD\n",
      "hello world\n"
     ]
    }
   ],
   "source": [
    "# 大小写相关操作\n",
    "str1 = \"hello world\"\n",
    "\n",
    "# .capitalize() 首字母大写\n",
    "print(str1.capitalize())\n",
    "\n",
    "# .title() 每个单词首字母大写\n",
    "print(str1.title())\n",
    "\n",
    "# .upper() 全部大写\n",
    "print(str1.upper())\n",
    "\n",
    "# .lower() 全部小写\n",
    "print(str1.lower())"
   ]
  },
  {
   "cell_type": "code",
   "execution_count": 2,
   "metadata": {},
   "outputs": [
    {
     "name": "stdout",
     "output_type": "stream",
     "text": [
      "0\n",
      "13\n",
      "0\n",
      "13\n",
      "2\n"
     ]
    }
   ],
   "source": [
    "# 查找操作\n",
    "str2 = \"hello world, hello python\"\n",
    "\n",
    "# .find() 查找字符串，返回第一个匹配的索引\n",
    "print(str2.find(\"hello\"))\n",
    "\n",
    "# .rfind() 查找字符串，返回最后一个匹配的索引\n",
    "print(str2.rfind(\"hello\"))\n",
    "\n",
    "# .index() 查找字符串，返回第一个匹配的索引\n",
    "print(str2.index(\"hello\"))\n",
    "\n",
    "# .rindex() 查找字符串，返回最后一个匹配的索引\n",
    "print(str2.rindex(\"hello\"))\n",
    "\n",
    "# .count() 统计字符串出现的次数\n",
    "print(str2.count(\"hello\"))"
   ]
  },
  {
   "cell_type": "code",
   "execution_count": 6,
   "metadata": {},
   "outputs": [
    {
     "name": "stdout",
     "output_type": "stream",
     "text": [
      "6\n",
      "-1\n",
      "6\n",
      "7\n",
      "7\n"
     ]
    }
   ],
   "source": [
    "# 查找操作，找不到返回-1\n",
    "print(str2.find(\"world\"))\n",
    "print(str2.find(\"world1\"))\n",
    "print(str2.index(\"world\"))\n",
    "# print(str2.index(\"world1\")) # ValueError: substring not found\n",
    "print(str2.find(\"o\", 5, 10))\n",
    "print(str2.index(\"o\", 5, 10)) # ValueError: substring not found"
   ]
  },
  {
   "cell_type": "code",
   "execution_count": 7,
   "metadata": {},
   "outputs": [
    {
     "name": "stdout",
     "output_type": "stream",
     "text": [
      "False\n",
      "False\n",
      "False\n",
      "False\n",
      "True\n",
      "True\n"
     ]
    }
   ],
   "source": [
    "# 性质判断\n",
    "str3 = \"hello world\"\n",
    "\n",
    "# .isalpha() 判断是否全是字母\n",
    "print(str3.isalpha())\n",
    "\n",
    "# .isdigit() 判断是否全是数字\n",
    "print(str3.isdigit())\n",
    "\n",
    "# .isalnum() 判断是否全是字母或数字\n",
    "print(str3.isalnum())\n",
    "\n",
    "# .isspace() 判断是否全是空格\n",
    "print(str3.isspace())\n",
    "\n",
    "# .startswith() 判断是否以指定字符串开头\n",
    "print(str3.startswith(\"hello\"))\n",
    "\n",
    "# .endswith() 判断是否以指定字符串结尾\n",
    "print(str3.endswith(\"world\"))"
   ]
  },
  {
   "cell_type": "code",
   "execution_count": 9,
   "metadata": {},
   "outputs": [
    {
     "name": "stdout",
     "output_type": "stream",
     "text": [
      "0 : h\n",
      "1 : e\n",
      "2 : l\n",
      "3 : l\n",
      "4 : o\n",
      "5 :  \n",
      "6 : w\n",
      "7 : o\n",
      "8 : r\n",
      "9 : l\n",
      "10 : d\n"
     ]
    }
   ],
   "source": [
    "# 遍历字符串，打印出 index 和 value\n",
    "for index, value in enumerate(str3):\n",
    "    print(f\"{index} : {value}\")"
   ]
  },
  {
   "cell_type": "code",
   "execution_count": 10,
   "metadata": {},
   "outputs": [
    {
     "name": "stdout",
     "output_type": "stream",
     "text": [
      "<class 'enumerate'>\n"
     ]
    }
   ],
   "source": [
    "print(type(enumerate(str3)))"
   ]
  },
  {
   "cell_type": "code",
   "execution_count": null,
   "metadata": {},
   "outputs": [
    {
     "name": "stdout",
     "output_type": "stream",
     "text": [
      "****hello, world****\n",
      "hello, world********\n",
      "********hello, world\n",
      "00000000hello, world\n",
      "00033\n",
      "-0033\n"
     ]
    }
   ],
   "source": [
    "# 字符串对齐补零\n",
    "str4 = \"hello, world\"\n",
    "\n",
    "# .center() 居中\n",
    "print(str4.center(20, \"*\"))\n",
    "\n",
    "# .ljust() 左对齐\n",
    "print(str4.ljust(20, \"*\"))\n",
    "\n",
    "# .rjust() 右对齐\n",
    "print(str4.rjust(20, \"*\"))\n",
    "\n",
    "# .zfill() 补零\n",
    "print(str4.zfill(20))\n",
    "print('33'.zfill(5))\n",
    "print('-33'.zfill(5))"
   ]
  },
  {
   "cell_type": "code",
   "execution_count": 13,
   "metadata": {},
   "outputs": [
    {
     "name": "stdout",
     "output_type": "stream",
     "text": [
      "321 * 123 = 39483\n"
     ]
    }
   ],
   "source": [
    "# % 格式化字符串\n",
    "\n",
    "a = 321\n",
    "b = 123\n",
    "print(\"%d * %d = %d\" % (a, b, a * b))"
   ]
  },
  {
   "cell_type": "code",
   "execution_count": 14,
   "metadata": {},
   "outputs": [
    {
     "name": "stdout",
     "output_type": "stream",
     "text": [
      "321 * 123 = 39483\n"
     ]
    }
   ],
   "source": [
    "# format 格式化字符串\n",
    "print(\"{} * {} = {}\".format(a, b, a * b))"
   ]
  },
  {
   "cell_type": "code",
   "execution_count": 15,
   "metadata": {},
   "outputs": [
    {
     "name": "stdout",
     "output_type": "stream",
     "text": [
      "321 * 123 = 39483\n"
     ]
    }
   ],
   "source": [
    "# f-string 格式化字符串\n",
    "print(f\"{a} * {b} = {a * b}\")"
   ]
  },
  {
   "cell_type": "code",
   "execution_count": 34,
   "metadata": {},
   "outputs": [
    {
     "name": "stdout",
     "output_type": "stream",
     "text": [
      "3.14\n",
      "+3.14\n",
      "-1\n",
      "3\n",
      "0000000123\n",
      "123xxxxxxx\n",
      "   123    \n",
      "       123\n",
      "123       \n",
      "123,456,789\n",
      "12.30%\n",
      "1.23e+08\n",
      "1.23E+08\n",
      "0x7b\n",
      "0X7B\n",
      "0b1111011\n",
      "0o173\n",
      "123\n"
     ]
    }
   ],
   "source": [
    "number_pi = 3.1415926\n",
    "number_1 = 123\n",
    "number_2 = 123456789\n",
    "number_3 = 0.123\n",
    "number_4 = -1\n",
    "\n",
    "print(f\"{number_pi:.2f}\")    # 保留两位小数\n",
    "print(f\"{number_pi:+.2f}\")   # 保留两位小数，显示正负号\n",
    "print(f\"{number_4:+.0f}\")    # 不保留小数，显示正负号\n",
    "print(f\"{number_pi:.0f}\")    # 不保留小数\n",
    "print(f\"{number_1:0>10}\")    # 用0填充，右对齐，总长度为10\n",
    "print(f\"{number_1:x<10}\")    # 用x填充，左对齐，总长度为10\n",
    "print(f\"{number_1: ^10}\")    # 用空格填充，居中对齐，总长度为10\n",
    "print(f\"{number_1: >10}\")    # 用空格填充，右对齐，总长度为10\n",
    "print(f\"{number_1: <10}\")    # 用空格填充，左对齐，总长度为10\n",
    "print(f\"{number_2:,}\")       # 使用逗号作为千位分隔符\n",
    "print(f\"{number_3:.2%}\")     # 转换为百分比格式，保留两位小数\n",
    "print(f\"{number_2:.2e}\")     # 科学计数法表示，保留两位小数\n",
    "print(f\"{number_2:.2E}\")     # 科学计数法表示，保留两位小数（大写E）\n",
    "print(f\"{number_1:#x}\")      # 十六进制表示，带前缀0x\n",
    "print(f\"{number_1:#X}\")      # 十六进制表示，带前缀0X（大写）\n",
    "print(f\"{number_1:#b}\")      # 二进制表示，带前缀0b\n",
    "print(f\"{number_1:#o}\")      # 八进制表示，带前缀0o\n",
    "print(f\"{number_1:#d}\")      # 十进制表示，带前缀0d（实际上没有前缀）"
   ]
  },
  {
   "cell_type": "code",
   "execution_count": 35,
   "metadata": {},
   "outputs": [
    {
     "name": "stdout",
     "output_type": "stream",
     "text": [
      "hello world\n",
      "hello world    \n",
      "    hello world\n"
     ]
    }
   ],
   "source": [
    "# 修剪字符串\n",
    "str5 = \"    hello world    \"\n",
    "print(str5.strip())\n",
    "print(str5.lstrip())\n",
    "print(str5.rstrip())"
   ]
  },
  {
   "cell_type": "code",
   "execution_count": 36,
   "metadata": {},
   "outputs": [
    {
     "name": "stdout",
     "output_type": "stream",
     "text": [
      "tuling_python@126.com\n"
     ]
    }
   ],
   "source": [
    "str6 = \"    tuling_python@126.com  \\t\\r\\n\"\n",
    "print(str6.strip())"
   ]
  },
  {
   "cell_type": "code",
   "execution_count": 38,
   "metadata": {},
   "outputs": [
    {
     "name": "stdout",
     "output_type": "stream",
     "text": [
      "hello python\n",
      "hell0 world\n",
      "hell0 w0rld\n"
     ]
    }
   ],
   "source": [
    "# 替换字符串\n",
    "str7 = \"hello world\"\n",
    "print(str7.replace(\"world\", \"python\"))\n",
    "print(str7.replace(\"o\", \"0\", 1))\n",
    "print(str7.replace(\"o\", \"0\", 2))"
   ]
  },
  {
   "cell_type": "code",
   "execution_count": 44,
   "metadata": {},
   "outputs": [
    {
     "name": "stdout",
     "output_type": "stream",
     "text": [
      "['I', 'love', 'python']\n",
      "I love python\n",
      "kuanglinjian love python and java\n",
      "kuanglinjian#love#python#and#java\n"
     ]
    }
   ],
   "source": [
    "# 拆分与连接字符串\n",
    "str8 = \"I love python\"\n",
    "words = str8.split(\" \")\n",
    "print(words)\n",
    "\n",
    "str9 = \" \".join(words)\n",
    "print(str9)\n",
    "\n",
    "str_list = [\"kuanglinjian\", \"love\", \"python\", \"and\", \"java\"]\n",
    "str10 = \" \".join(str_list)\n",
    "str11 = \"#\".join(str_list)\n",
    "print(str10)\n",
    "print(str11)"
   ]
  },
  {
   "cell_type": "code",
   "execution_count": 46,
   "metadata": {},
   "outputs": [
    {
     "name": "stdout",
     "output_type": "stream",
     "text": [
      "b'\\xe9\\xa1\\xbe\\xe5\\xae\\x89'\n",
      "b'\\xb9\\xcb\\xb0\\xb2'\n"
     ]
    }
   ],
   "source": [
    "# 编码与解码\n",
    "str12 = \"顾安\"\n",
    "str12_utf8 = str12.encode(\"utf-8\")\n",
    "print(str12_utf8)\n",
    "str12_gbk = str12.encode(\"gbk\")\n",
    "print(str12_gbk)"
   ]
  },
  {
   "cell_type": "code",
   "execution_count": 47,
   "metadata": {},
   "outputs": [
    {
     "name": "stdout",
     "output_type": "stream",
     "text": [
      "顾安\n",
      "顾安\n"
     ]
    }
   ],
   "source": [
    "print(str12_utf8.decode(\"utf-8\"))\n",
    "print(str12_gbk.decode(\"gbk\"))"
   ]
  }
 ],
 "metadata": {
  "kernelspec": {
   "display_name": "base",
   "language": "python",
   "name": "python3"
  },
  "language_info": {
   "codemirror_mode": {
    "name": "ipython",
    "version": 3
   },
   "file_extension": ".py",
   "mimetype": "text/x-python",
   "name": "python",
   "nbconvert_exporter": "python",
   "pygments_lexer": "ipython3",
   "version": "3.12.7"
  }
 },
 "nbformat": 4,
 "nbformat_minor": 2
}
