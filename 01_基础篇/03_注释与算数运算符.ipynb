{
 "cells": [
  {
   "cell_type": "code",
   "execution_count": 2,
   "metadata": {},
   "outputs": [
    {
     "name": "stdout",
     "output_type": "stream",
     "text": [
      "hello world\n",
      "hello python\n",
      "hello python\n",
      "hello world\n"
     ]
    }
   ],
   "source": [
    "# 注释的作用?\n",
    "# 1. 说明代码的作用\n",
    "# 2. 提高代码的可读性\n",
    "\n",
    "# 注释的分类\n",
    "# 1. 单行注释\n",
    "# 2. 多行注释\n",
    "\n",
    "# 单行注释\n",
    "# 1. 以#开头\n",
    "# 2. #后面的内容都是注释\n",
    "# 3. 单行注释可以出现在代码的任意位置\n",
    "\n",
    "# 多行注释\n",
    "# 1. 以三个单引号或者三个双引号开始和结束\n",
    "# 2. 三个引号之间的内容都是注释\n",
    "# 3. 多行注释一般出现在代码的开头\n",
    "\n",
    "# 代码的作用\n",
    "# 1. 代码是用来实现某个功能的\n",
    "# 2. 代码是用来解决某个问题的\n",
    "\n",
    "# 这是一个单行注释\n",
    "print(\"hello world\")\n",
    "\n",
    "# 在代码后面增加一个单行注释\n",
    "print(\"hello python\")  # 这是一个单行注释\n",
    "\n",
    "# 多行注释\n",
    "'''\n",
    "这是一个多行注释，也可以用来写文档，说明代码的作用\n",
    "'''\n",
    "\n",
    "print(\"hello python\")\n",
    "\"\"\"\n",
    "这是一个多行注释，也可以用来写文档，说明代码的作用\n",
    "\"\"\"\n",
    "\n",
    "print(\"hello world\")"
   ]
  },
  {
   "cell_type": "code",
   "execution_count": null,
   "metadata": {},
   "outputs": [],
   "source": [
    "# 关于代码规范\n",
    "# 1. 代码中的缩进是4个空格\n",
    "# 2. 代码中的空行可以增加代码的可读性\n",
    "# 3. 代码中的空格可以增加代码的可读性\n",
    "# 4. 代码中的注释可以增加代码的可读性\n",
    "# 5. 代码中的命名规范可以增加代码的可读性"
   ]
  },
  {
   "cell_type": "code",
   "execution_count": 3,
   "metadata": {},
   "outputs": [
    {
     "name": "stdout",
     "output_type": "stream",
     "text": [
      "2\n",
      "0\n",
      "6\n",
      "3.3333333333333335\n",
      "3\n",
      "1\n",
      "8\n",
      "9\n"
     ]
    }
   ],
   "source": [
    "# 算术运算符\n",
    "# 1. + 加法运算符\n",
    "# 2. - 减法运算符\n",
    "# 3. * 乘法运算符\n",
    "# 4. / 除法运算符\n",
    "# 5. // 整除运算符\n",
    "# 6. % 取余运算符\n",
    "# 7. ** 幂运\n",
    "# 8. () 括号\n",
    "\n",
    "# 加法运算\n",
    "print(1 + 1)\n",
    "\n",
    "# 减法运算\n",
    "print(1 - 1)\n",
    "\n",
    "# 乘法运算\n",
    "print(2 * 3)\n",
    "\n",
    "# 除法运算\n",
    "print(10 / 3)\n",
    "\n",
    "# 整除运算\n",
    "print(10 // 3)\n",
    "\n",
    "# 取余运算\n",
    "print(10 % 3)\n",
    "\n",
    "# 幂运算\n",
    "print(2 ** 3)\n",
    "\n",
    "# 括号\n",
    "print((1 + 2) * 3)"
   ]
  },
  {
   "cell_type": "code",
   "execution_count": null,
   "metadata": {},
   "outputs": [],
   "source": [
    "# 算术运算符的优先级\n",
    "# 1. ()\n",
    "# 2. **\n",
    "# 3. * / // %\n",
    "# 4. + -\n"
   ]
  },
  {
   "cell_type": "code",
   "execution_count": 12,
   "metadata": {},
   "outputs": [
    {
     "name": "stdout",
     "output_type": "stream",
     "text": [
      "16\n",
      "10.0\n",
      "10\n",
      "0\n",
      "16\n",
      "64\n",
      "8\n"
     ]
    }
   ],
   "source": [
    "number = 10 + 3 * 2\n",
    "print(number)\n",
    "\n",
    "number2 = 20 * 2 / 4\n",
    "print(number2)\n",
    "\n",
    "number3 = 20 * 2 // 4\n",
    "print(number3)\n",
    "\n",
    "number4 = 20 * 2 % 4\n",
    "print(number4)\n",
    "\n",
    "number5 = 2 ** 3 * 2\n",
    "print(number5)\n",
    "\n",
    "number6 = 2 ** (3 * 2)\n",
    "print(number6)\n",
    "\n",
    "number7 = 2 + 3 * 2\n",
    "print(number7)\n",
    "\n"
   ]
  },
  {
   "cell_type": "code",
   "execution_count": 14,
   "metadata": {},
   "outputs": [
    {
     "name": "stdout",
     "output_type": "stream",
     "text": [
      "123456\n",
      "123\n",
      "<class 'str'>\n",
      "<class 'str'>\n"
     ]
    }
   ],
   "source": [
    "# 变量的基本使用\n",
    "# 程序就是用来处理数据的，而变量就是用来存储数据的\n",
    "\n",
    "# 变量定义的语法\n",
    "# 变量名 = 值\n",
    "# 变量名就是变量的名字，值就是变量存储的数据\n",
    "\n",
    "# 变量的类型\n",
    "# 1. 数字类型\n",
    "# 2. 字符串类型\n",
    "# 3. 列表类型\n",
    "# 4. 元组类型\n",
    "# 5. 字典类型\n",
    "# 6. 集合类型\n",
    "# 7. 布尔类型\n",
    "\n",
    "# 变量的命名规范\n",
    "# 1. 变量名只能包含字母、数字、下划线\n",
    "# 2. 变量名不能以数字开头\n",
    "# 3. 变量名不能是python中的关键字\n",
    "# 4. 变量名要有意义\n",
    "# 5. 变量名要使用小写字母\n",
    "# 6. 多个单词之间使用下划线连接\n",
    "# 7. 变量名要尽量简洁\n",
    "\n",
    "qq_number = \"123456\"\n",
    "qq_password = \"123\"\n",
    "print(qq_number)\n",
    "print(qq_password)\n",
    "\n",
    "print(type(qq_number))\n",
    "print(type(qq_password))"
   ]
  },
  {
   "cell_type": "code",
   "execution_count": 17,
   "metadata": {},
   "outputs": [
    {
     "name": "stdout",
     "output_type": "stream",
     "text": [
      "63.75\n",
      "58.75\n"
     ]
    }
   ],
   "source": [
    "# 价格\n",
    "price = 8.5\n",
    "# 重量\n",
    "weight = 7.5\n",
    "# 总价\n",
    "money = price * weight\n",
    "print(money)\n",
    "# 返回5元\n",
    "money = money - 5\n",
    "print(money)"
   ]
  },
  {
   "cell_type": "code",
   "execution_count": null,
   "metadata": {},
   "outputs": [],
   "source": [
    "# 小明的个人信息\n",
    "# 姓名\n",
    "name = \"小明\"\n",
    "# 年龄\n",
    "age = 18\n",
    "# 性别\n",
    "gender = True\n",
    "# 身高\n",
    "height = 1.75\n",
    "# 体重\n",
    "weight = 75.0"
   ]
  },
  {
   "cell_type": "code",
   "execution_count": 18,
   "metadata": {},
   "outputs": [
    {
     "name": "stdout",
     "output_type": "stream",
     "text": [
      "20\n",
      "0\n",
      "100\n",
      "1.0\n",
      "1\n",
      "13.14\n",
      "6.859999999999999\n",
      "31.400000000000002\n",
      "3.184713375796178\n",
      "3.0\n",
      "11\n",
      "9\n",
      "10\n",
      "10.0\n",
      "10\n",
      "6.28\n",
      "0.0\n",
      "9.8596\n",
      "1.0\n",
      "1.0\n",
      "4.140000000000001\n",
      "2.14\n",
      "3.14\n",
      "3.14\n",
      "3.0\n",
      "2\n",
      "0\n",
      "1\n",
      "1.0\n",
      "1\n"
     ]
    }
   ],
   "source": [
    "# 不同类型变量之间的运算\n",
    "i = 10\n",
    "f = 3.14\n",
    "b = True\n",
    "\n",
    "# 整数和整数之间的运算\n",
    "print(i + i)\n",
    "print(i - i)\n",
    "print(i * i)\n",
    "print(i / i)\n",
    "print(i // i)\n",
    "\n",
    "# 整数和浮点数之间的运算\n",
    "print(i + f)\n",
    "print(i - f)\n",
    "print(i * f)\n",
    "print(i / f)\n",
    "print(i // f)\n",
    "\n",
    "# 整数和布尔值之间的运算\n",
    "print(i + b)\n",
    "print(i - b)\n",
    "print(i * b)\n",
    "print(i / b)\n",
    "print(i // b)\n",
    "\n",
    "# 浮点数和浮点数之间的运算\n",
    "print(f + f)\n",
    "print(f - f)\n",
    "print(f * f)\n",
    "print(f / f)\n",
    "print(f // f)\n",
    "\n",
    "# 浮点数和布尔值之间的运算\n",
    "print(f + b)\n",
    "print(f - b)\n",
    "print(f * b)\n",
    "print(f / b)\n",
    "print(f // b)\n",
    "\n",
    "# 布尔值和布尔值之间的运算\n",
    "print(b + b)\n",
    "print(b - b)\n",
    "print(b * b)\n",
    "print(b / b)\n",
    "print(b // b)\n",
    "\n",
    "# 字符串类型\n",
    "# 字符串是用来表示文本信息的\n",
    "# 字符串是用来存储文本信息的\n",
    "# 字符串是用来处理文本信息的\n",
    "\n"
   ]
  },
  {
   "cell_type": "code",
   "execution_count": 19,
   "metadata": {},
   "outputs": [
    {
     "name": "stdout",
     "output_type": "stream",
     "text": [
      "张三\n"
     ]
    }
   ],
   "source": [
    "# 字符串变量之间使用+进行拼接\n",
    "first_name = \"张\"\n",
    "last_name = \"三\"\n",
    "full_name = first_name + last_name\n",
    "print(full_name)"
   ]
  },
  {
   "cell_type": "code",
   "execution_count": 20,
   "metadata": {},
   "outputs": [
    {
     "name": "stdout",
     "output_type": "stream",
     "text": [
      "**************************************************\n"
     ]
    }
   ],
   "source": [
    "# 字符串变量可以和整数使用*进行重复\n",
    "print(\"*\" * 50)"
   ]
  },
  {
   "cell_type": "code",
   "execution_count": null,
   "metadata": {},
   "outputs": [],
   "source": [
    "#数字型变量和字符串变量之间不能进行运算\n",
    "# print(1 + \"1\") # TypeError: unsupported operand type(s) for +: 'int' and 'str'"
   ]
  },
  {
   "cell_type": "code",
   "execution_count": 22,
   "metadata": {},
   "outputs": [
    {
     "name": "stdout",
     "output_type": "stream",
     "text": [
      "匡林建\n",
      "20\n",
      "<class 'str'>\n"
     ]
    }
   ],
   "source": [
    "# 变量的输入 input\n",
    "# input函数用来获取用户的输入\n",
    "# input函数的返回值是一个字符串\n",
    "# input函数的语法 input(\"提示信息\")\n",
    "\n",
    "name = input(\"请输入你的名字:\")\n",
    "print(name)\n",
    "\n",
    "data = input(\"请输入一个数字:\")\n",
    "print(data)\n",
    "print(type(data))"
   ]
  },
  {
   "cell_type": "code",
   "execution_count": null,
   "metadata": {},
   "outputs": [
    {
     "name": "stdout",
     "output_type": "stream",
     "text": [
      "42.312999999999995\n",
      "str({:.2f})\n",
      "42.31\n",
      "42.31\n",
      "42.31\n",
      "42.31\n",
      "<class 'float'>\n"
     ]
    }
   ],
   "source": [
    "# 变量输入演练————超市买苹果增强版\n",
    "# 1. 重量\n",
    "# 2. 价格\n",
    "# 3. 返回金额\n",
    "# 4. 总价\n",
    "\n",
    "# 重量\n",
    "weight = float(input(\"请输入苹果的重量:\"))\n",
    "# 价格\n",
    "price = float(input(\"请输入苹果的价格:\"))\n",
    "# 返回金额\n",
    "money = float(input(\"请输入返回金额:\"))\n",
    "# 总价\n",
    "total_price = weight * price - money\n",
    "print(total_price)\n",
    "print(\"{:.2f}\".format(total_price))\n",
    "print(\"%.2f\" % total_price)\n",
    "print(round(total_price, 2))\n",
    "print(f\"{total_price:.2f}\")\n",
    "print(type(total_price))"
   ]
  },
  {
   "cell_type": "code",
   "execution_count": null,
   "metadata": {},
   "outputs": [],
   "source": [
    "# input函数相当于c++中的cin\n",
    "# print函数相当于c++中的cout\n",
    "# type函数相当于c++中的typeid"
   ]
  }
 ],
 "metadata": {
  "kernelspec": {
   "display_name": "base",
   "language": "python",
   "name": "python3"
  },
  "language_info": {
   "codemirror_mode": {
    "name": "ipython",
    "version": 3
   },
   "file_extension": ".py",
   "mimetype": "text/x-python",
   "name": "python",
   "nbconvert_exporter": "python",
   "pygments_lexer": "ipython3",
   "version": "3.12.7"
  }
 },
 "nbformat": 4,
 "nbformat_minor": 2
}
