{
 "cells": [
  {
   "cell_type": "code",
   "execution_count": null,
   "metadata": {},
   "outputs": [],
   "source": [
    "import time\n",
    "\n",
    "from xtquant import xtdata"
   ]
  },
  {
   "cell_type": "code",
   "execution_count": null,
   "metadata": {},
   "outputs": [],
   "source": [
    "code = '000016.SZ'\n",
    "print('load data for', code)"
   ]
  },
  {
   "cell_type": "code",
   "execution_count": null,
   "metadata": {},
   "outputs": [],
   "source": [
    "#取全推数据\n",
    "full_tick = xtdata.get_full_tick([code])\n",
    "print('全推数据 日线最新值', full_tick)"
   ]
  },
  {
   "cell_type": "code",
   "execution_count": null,
   "metadata": {},
   "outputs": [],
   "source": [
    "#下载历史数据 下载接口本身不返回数据\n",
    "xtdata.download_history_data(code, period='1m', start_time='20250314', end_time='20250318')"
   ]
  },
  {
   "cell_type": "code",
   "execution_count": null,
   "metadata": {},
   "outputs": [
    {
     "name": "stdout",
     "output_type": "stream",
     "text": [
      "回调触发 {'000016.SZ': [{'time': 1742278200000, 'open': 5.33, 'high': 5.33, 'low': 5.32, 'close': 5.33, 'volume': 100, 'amount': 53284.0, 'settlementPrice': 0.0, 'openInterest': 13, 'dr': 1.0, 'totaldr': 1.0, 'preClose': 5.32, 'suspendFlag': 0}]}\n",
      "回调触发 {'000016.SZ': [{'time': 1742278200000, 'open': 5.33, 'high': 5.33, 'low': 5.32, 'close': 5.33, 'volume': 100, 'amount': 53284.0, 'settlementPrice': 0.0, 'openInterest': 13, 'dr': 1.0, 'totaldr': 1.0, 'preClose': 5.32, 'suspendFlag': 0}]}\n",
      "回调触发 {'000016.SZ': [{'time': 1742278200000, 'open': 5.33, 'high': 5.33, 'low': 5.32, 'close': 5.33, 'volume': 100, 'amount': 53284.0, 'settlementPrice': 0.0, 'openInterest': 13, 'dr': 1.0, 'totaldr': 1.0, 'preClose': 5.32, 'suspendFlag': 0}]}\n",
      "回调触发 {'000016.SZ': [{'time': 1742278200000, 'open': 5.33, 'high': 5.33, 'low': 5.32, 'close': 5.33, 'volume': 384, 'amount': 204580.0, 'settlementPrice': 0.0, 'openInterest': 13, 'dr': 1.0, 'totaldr': 1.0, 'preClose': 5.32, 'suspendFlag': 0}]}\n",
      "回调触发 {'000016.SZ': [{'time': 1742278200000, 'open': 5.33, 'high': 5.33, 'low': 5.32, 'close': 5.33, 'volume': 384, 'amount': 204580.0, 'settlementPrice': 0.0, 'openInterest': 13, 'dr': 1.0, 'totaldr': 1.0, 'preClose': 5.32, 'suspendFlag': 0}]}\n",
      "回调触发 {'000016.SZ': [{'time': 1742278200000, 'open': 5.33, 'high': 5.33, 'low': 5.32, 'close': 5.33, 'volume': 384, 'amount': 204580.0, 'settlementPrice': 0.0, 'openInterest': 13, 'dr': 1.0, 'totaldr': 1.0, 'preClose': 5.32, 'suspendFlag': 0}]}\n",
      "回调触发 {'000016.SZ': [{'time': 1742278200000, 'open': 5.33, 'high': 5.33, 'low': 5.32, 'close': 5.33, 'volume': 384, 'amount': 204580.0, 'settlementPrice': 0.0, 'openInterest': 13, 'dr': 1.0, 'totaldr': 1.0, 'preClose': 5.32, 'suspendFlag': 0}]}\n",
      "回调触发 {'000016.SZ': [{'time': 1742278200000, 'open': 5.33, 'high': 5.33, 'low': 5.32, 'close': 5.33, 'volume': 384, 'amount': 204580.0, 'settlementPrice': 0.0, 'openInterest': 13, 'dr': 1.0, 'totaldr': 1.0, 'preClose': 5.32, 'suspendFlag': 0}]}\n",
      "回调触发 {'000016.SZ': [{'time': 1742278200000, 'open': 5.33, 'high': 5.33, 'low': 5.32, 'close': 5.33, 'volume': 384, 'amount': 204580.0, 'settlementPrice': 0.0, 'openInterest': 13, 'dr': 1.0, 'totaldr': 1.0, 'preClose': 5.32, 'suspendFlag': 0}]}\n",
      "回调触发 {'000016.SZ': [{'time': 1742278200000, 'open': 5.33, 'high': 5.33, 'low': 5.32, 'close': 5.33, 'volume': 442, 'amount': 235493.0, 'settlementPrice': 0.0, 'openInterest': 13, 'dr': 1.0, 'totaldr': 1.0, 'preClose': 5.32, 'suspendFlag': 0}]}\n",
      "回调触发 {'000016.SZ': [{'time': 1742278200000, 'open': 5.33, 'high': 5.33, 'low': 5.32, 'close': 5.33, 'volume': 442, 'amount': 235493.0, 'settlementPrice': 0.0, 'openInterest': 13, 'dr': 1.0, 'totaldr': 1.0, 'preClose': 5.32, 'suspendFlag': 0}]}\n",
      "回调触发 {'000016.SZ': [{'time': 1742278200000, 'open': 5.33, 'high': 5.33, 'low': 5.32, 'close': 5.33, 'volume': 442, 'amount': 235493.0, 'settlementPrice': 0.0, 'openInterest': 13, 'dr': 1.0, 'totaldr': 1.0, 'preClose': 5.32, 'suspendFlag': 0}]}\n"
     ]
    }
   ],
   "source": [
    "#订阅最新行情\n",
    "def callback_func(data):\n",
    "    print('回调触发', data)\n",
    "\n",
    "xtdata.subscribe_quote(code, period='1m', count=-1, callback= callback_func)\n",
    "# 返回的订阅号\n",
    "sub_id = xtdata.subscribe_quote(code, period='1m', count=-1, callback= callback_func)\n",
    "print('订阅号', sub_id)\n",
    "\n",
    "\n",
    "data = xtdata.get_market_data(['close'], [code], period='1m', start_time='20230701')\n",
    "print('一次性取数据', data)\n",
    "\n",
    "#死循环 阻塞主线程退出\n",
    "# xtdata.run()"
   ]
  },
  {
   "cell_type": "code",
   "execution_count": null,
   "metadata": {},
   "outputs": [],
   "source": [
    "# 取消订阅\n",
    "xtdata.unsubscribe_quote(sub_id)\n",
    "print('取消订阅')"
   ]
  }
 ],
 "metadata": {
  "kernelspec": {
   "display_name": "base",
   "language": "python",
   "name": "python3"
  },
  "language_info": {
   "codemirror_mode": {
    "name": "ipython",
    "version": 3
   },
   "file_extension": ".py",
   "mimetype": "text/x-python",
   "name": "python",
   "nbconvert_exporter": "python",
   "pygments_lexer": "ipython3",
   "version": "3.12.7"
  }
 },
 "nbformat": 4,
 "nbformat_minor": 2
}
