{
 "cells": [
  {
   "cell_type": "code",
   "execution_count": 2,
   "metadata": {},
   "outputs": [
    {
     "name": "stdout",
     "output_type": "stream",
     "text": [
      "Python 版本： 3.12.7 | packaged by Anaconda, Inc. | (main, Oct  4 2024, 13:17:27) [MSC v.1929 64 bit (AMD64)]\n"
     ]
    }
   ],
   "source": [
    "# 导入 xtdatacenter 模块\n",
    "import sys\n",
    "\n",
    "print(\"Python 版本：\", sys.version)\n",
    "\n",
    "\n",
    "import time\n",
    "import pandas as pd\n",
    "from xtquant import xtdatacenter as xtdc\n",
    "from xtquant import xtdata"
   ]
  },
  {
   "cell_type": "code",
   "execution_count": 3,
   "metadata": {},
   "outputs": [],
   "source": [
    "'''\n",
    "设置用于登录行情服务的token,此接口应该先于 init_quote 调用\n",
    "\n",
    "token可以从投研用户中心获取\n",
    "https://xuntou.net/#/userInfo\n",
    "'''\n",
    "xtdc.set_token('c61c6069fb7bf4ac349e94bf1f34611c6528b1fc')"
   ]
  },
  {
   "cell_type": "code",
   "execution_count": 4,
   "metadata": {},
   "outputs": [
    {
     "name": "stdout",
     "output_type": "stream",
     "text": [
      "['115.231.218.73:55310', '115.231.218.79:55310', '42.228.16.211:55300', '42.228.16.210:55300', '36.99.48.20:55300', '36.99.48.21:55300']\n"
     ]
    }
   ],
   "source": [
    "'''\n",
    "设置连接池,使服务器只在连接池内优选\n",
    "\n",
    "建议将VIP服务器设为连接池\n",
    "'''\n",
    "addr_list = [\n",
    "    '115.231.218.73:55310', \n",
    "    '115.231.218.79:55310', \n",
    "    '42.228.16.211:55300',\n",
    "    '42.228.16.210:55300',\n",
    "    '36.99.48.20:55300',\n",
    "    '36.99.48.21:55300'\n",
    "    ]\n",
    "xtdc.set_allow_optmize_address(addr_list)\n",
    "\n",
    "xtdc.set_kline_mirror_enabled(True) # 开启K线全推功能(vip),以获取全市场实时K线数据\n",
    "print(addr_list)"
   ]
  },
  {
   "cell_type": "code",
   "execution_count": 5,
   "metadata": {},
   "outputs": [
    {
     "name": "stdout",
     "output_type": "stream",
     "text": [
      "***** xtdata连接成功 *****\n",
      "服务信息: {'tag': 'xtquant', 'version': '1.0'}\n",
      "服务地址: 127.0.0.1:58621\n",
      "数据路径: d:\\miniqmt-demo\\data\\datadir\n",
      "设置xtdata.enable_hello = False可隐藏此消息\n",
      "\n",
      "-----连接上了------\n",
      "None\n"
     ]
    }
   ],
   "source": [
    "\"\"\"\n",
    "初始化\n",
    "\"\"\"\n",
    "xtdc.init()\n",
    "## 监听端口\n",
    "port = xtdc.listen(port = 58621) # 指定固定端口进行连接\n",
    "# port = xtdc.listen(port = (58620, 58630))[1] 通过指定port范围，可以让xtdc在范围内自动寻找可用端口\n",
    "\n",
    "# 确保 port 是整数类型\n",
    "if isinstance(port, tuple):\n",
    "    port = port[1]\n",
    "elif isinstance(port, float):\n",
    "    port = int(port)\n",
    "\n",
    "xtdata.connect(port=port)\n",
    "\n",
    "print('-----连接上了------')\n",
    "print(xtdata.data_dir)"
   ]
  },
  {
   "cell_type": "code",
   "execution_count": 7,
   "metadata": {},
   "outputs": [
    {
     "name": "stdout",
     "output_type": "stream",
     "text": [
      "0_ FX_L1 {'ip': '115.231.218.79', 'port': 55310, 'username': '', 'pwd': ''}\n",
      "0_BJ_L1 {'ip': '36.99.48.21', 'port': 55300, 'username': '', 'pwd': ''}\n",
      "0_BKZS_L1 {'ip': '36.99.48.21', 'port': 55300, 'username': '', 'pwd': ''}\n",
      "0_CICC_L1 {'ip': '115.231.218.79', 'port': 55310, 'username': '', 'pwd': ''}\n",
      "0_CSI_L1 {'ip': '115.231.218.79', 'port': 55310, 'username': '', 'pwd': ''}\n",
      "0_DF_L1 {'ip': '36.99.48.21', 'port': 55300, 'username': '', 'pwd': ''}\n",
      "0_DF_L2 {'ip': '36.99.48.21', 'port': 55300, 'username': '', 'pwd': ''}\n",
      "0_GF_L1 {'ip': '36.99.48.21', 'port': 55300, 'username': '', 'pwd': ''}\n",
      "0_GI_L1 {'ip': '36.99.48.21', 'port': 55300, 'username': '', 'pwd': ''}\n",
      "0_HGT_L1 {'ip': '36.99.48.21', 'port': 55300, 'username': '', 'pwd': ''}\n",
      "0_HK_L1 {'ip': '36.99.48.21', 'port': 55300, 'username': '', 'pwd': ''}\n",
      "0_HK_L2 {'ip': '36.99.48.21', 'port': 55300, 'username': '', 'pwd': ''}\n",
      "0_IF_L1 {'ip': '36.99.48.21', 'port': 55300, 'username': '', 'pwd': ''}\n",
      "0_IF_L2 {'ip': '36.99.48.21', 'port': 55300, 'username': '', 'pwd': ''}\n",
      "0_INE_L1 {'ip': '36.99.48.21', 'port': 55300, 'username': '', 'pwd': ''}\n",
      "0_INE_L2 {'ip': '36.99.48.21', 'port': 55300, 'username': '', 'pwd': ''}\n",
      "0_LSE_L1 {'ip': '115.231.218.79', 'port': 55310, 'username': '', 'pwd': ''}\n",
      "0_NEEQ_L1 {'ip': '36.99.48.21', 'port': 55300, 'username': '', 'pwd': ''}\n",
      "0_SF_L1 {'ip': '36.99.48.21', 'port': 55300, 'username': '', 'pwd': ''}\n",
      "0_SF_L2 {'ip': '36.99.48.21', 'port': 55300, 'username': '', 'pwd': ''}\n",
      "0_SGT_L1 {'ip': '36.99.48.21', 'port': 55300, 'username': '', 'pwd': ''}\n",
      "0_SHO_L1 {'ip': '36.99.48.21', 'port': 55300, 'username': '', 'pwd': ''}\n",
      "0_SH_L1 {'ip': '36.99.48.21', 'port': 55300, 'username': '', 'pwd': ''}\n",
      "0_SPOT_L1 {'ip': '36.99.48.21', 'port': 55300, 'username': '', 'pwd': ''}\n",
      "0_SZO_L1 {'ip': '36.99.48.21', 'port': 55300, 'username': '', 'pwd': ''}\n",
      "0_SZ_L1 {'ip': '36.99.48.21', 'port': 55300, 'username': '', 'pwd': ''}\n",
      "0_VIX_L1 {'ip': '36.99.48.21', 'port': 55300, 'username': '', 'pwd': ''}\n",
      "0_WP.AMEX_L1 {'ip': '115.231.218.79', 'port': 55310, 'username': '', 'pwd': ''}\n",
      "0_WP.BATS_L1 {'ip': '115.231.218.79', 'port': 55310, 'username': '', 'pwd': ''}\n",
      "0_WP.CBOT_L1 {'ip': '115.231.218.79', 'port': 55310, 'username': '', 'pwd': ''}\n",
      "0_WP.CME_L1 {'ip': '115.231.218.79', 'port': 55310, 'username': '', 'pwd': ''}\n",
      "0_WP.COMEX_L1 {'ip': '115.231.218.79', 'port': 55310, 'username': '', 'pwd': ''}\n",
      "0_WP.HKFEA_L1 {'ip': '115.231.218.79', 'port': 55310, 'username': '', 'pwd': ''}\n",
      "0_WP.HKFEB_L1 {'ip': '115.231.218.79', 'port': 55310, 'username': '', 'pwd': ''}\n",
      "0_WP.HKFE_L1 {'ip': '115.231.218.79', 'port': 55310, 'username': '', 'pwd': ''}\n",
      "0_WP.NASDAQ_L1 {'ip': '115.231.218.79', 'port': 55310, 'username': '', 'pwd': ''}\n",
      "0_WP.NYMEX_L1 {'ip': '115.231.218.79', 'port': 55310, 'username': '', 'pwd': ''}\n",
      "0_WP.NYSE_L1 {'ip': '115.231.218.79', 'port': 55310, 'username': '', 'pwd': ''}\n",
      "0_WP.SGX_L1 {'ip': '115.231.218.79', 'port': 55310, 'username': '', 'pwd': ''}\n",
      "0_WP_L1 {'ip': '115.231.218.79', 'port': 55310, 'username': '', 'pwd': ''}\n",
      "0_ZF_L1 {'ip': '36.99.48.21', 'port': 55300, 'username': '', 'pwd': ''}\n",
      "0_ZF_L2 {'ip': '36.99.48.21', 'port': 55300, 'username': '', 'pwd': ''}\n",
      "5_SH_L1 {'ip': '115.231.218.73', 'port': 55310, 'username': '', 'pwd': ''}\n",
      "5_SZ_L1 {'ip': '115.231.218.73', 'port': 55310, 'username': '', 'pwd': ''}\n"
     ]
    },
    {
     "ename": "KeyboardInterrupt",
     "evalue": "",
     "output_type": "error",
     "traceback": [
      "\u001b[1;31m---------------------------------------------------------------------------\u001b[0m",
      "\u001b[1;31mKeyboardInterrupt\u001b[0m                         Traceback (most recent call last)",
      "Cell \u001b[1;32mIn[7], line 6\u001b[0m\n\u001b[0;32m      3\u001b[0m \u001b[38;5;28;01mfor\u001b[39;00m k, v \u001b[38;5;129;01min\u001b[39;00m servers\u001b[38;5;241m.\u001b[39mitems():\n\u001b[0;32m      4\u001b[0m     \u001b[38;5;28mprint\u001b[39m(k, v)\n\u001b[1;32m----> 6\u001b[0m xtdata\u001b[38;5;241m.\u001b[39mrun()\n",
      "File \u001b[1;32md:\\miniqmt-demo\\xtquant\\xtdata.py:1251\u001b[0m, in \u001b[0;36mrun\u001b[1;34m()\u001b[0m\n\u001b[0;32m   1249\u001b[0m client \u001b[38;5;241m=\u001b[39m get_client()\n\u001b[0;32m   1250\u001b[0m \u001b[38;5;28;01mwhile\u001b[39;00m \u001b[38;5;28;01mTrue\u001b[39;00m:\n\u001b[1;32m-> 1251\u001b[0m     _TIME_\u001b[38;5;241m.\u001b[39msleep(\u001b[38;5;241m3\u001b[39m)\n\u001b[0;32m   1252\u001b[0m     \u001b[38;5;28;01mif\u001b[39;00m \u001b[38;5;129;01mnot\u001b[39;00m client\u001b[38;5;241m.\u001b[39mis_connected():\n\u001b[0;32m   1253\u001b[0m         \u001b[38;5;28;01mraise\u001b[39;00m \u001b[38;5;167;01mException\u001b[39;00m(\u001b[38;5;124m'\u001b[39m\u001b[38;5;124m行情服务连接断开\u001b[39m\u001b[38;5;124m'\u001b[39m)\n",
      "\u001b[1;31mKeyboardInterrupt\u001b[0m: "
     ]
    }
   ],
   "source": [
    "servers = xtdata.get_quote_server_status()\n",
    "# print(servers)\n",
    "for k, v in servers.items():\n",
    "    print(k, v)\n",
    "\n",
    "xtdata.run()"
   ]
  }
 ],
 "metadata": {
  "kernelspec": {
   "display_name": "base",
   "language": "python",
   "name": "python3"
  },
  "language_info": {
   "codemirror_mode": {
    "name": "ipython",
    "version": 3
   },
   "file_extension": ".py",
   "mimetype": "text/x-python",
   "name": "python",
   "nbconvert_exporter": "python",
   "pygments_lexer": "ipython3",
   "version": "3.12.7"
  }
 },
 "nbformat": 4,
 "nbformat_minor": 2
}
