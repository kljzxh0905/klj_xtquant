{
 "cells": [
  {
   "cell_type": "code",
   "execution_count": null,
   "metadata": {},
   "outputs": [],
   "source": [
    "import time\n",
    "from xtquant import xtdata\n",
    "import pandas as pd\n",
    "from xtquant import xtdatacenter as xtdc"
   ]
  },
  {
   "cell_type": "code",
   "execution_count": null,
   "metadata": {},
   "outputs": [],
   "source": [
    "#用token方式连接，不需要账号密码\n",
    "xtdc.set_token('c61c6069fb7bf4ac349e94bf1f34611c6528b1fc')"
   ]
  },
  {
   "cell_type": "code",
   "execution_count": null,
   "metadata": {},
   "outputs": [],
   "source": [
    "#其他连接方式，需要账号密码\n",
    "info = {\"ip\": '115.231.218.73', \"port\": 55300, \"username\": '13697560905', \"pwd\": 'ttyrc33a10'}"
   ]
  },
  {
   "cell_type": "code",
   "execution_count": null,
   "metadata": {},
   "outputs": [],
   "source": [
    "connect_success = 0\n",
    "def func(d):\n",
    "    ip = d.get('ip', '')\n",
    "    port = d.get('port')\n",
    "    status = d.get('status', 'disconnected')\n",
    "\n",
    "    global connect_success\n",
    "    if ip == info['ip'] and port == info['port']:\n",
    "        if status == 'connected':\n",
    "            connect_success = 1\n",
    "        else:\n",
    "            connect_success = 2"
   ]
  },
  {
   "cell_type": "code",
   "execution_count": null,
   "metadata": {},
   "outputs": [],
   "source": [
    "# 注册连接回调信息\n",
    "xtdata.watch_quote_server_status(func)"
   ]
  },
  {
   "cell_type": "code",
   "execution_count": null,
   "metadata": {},
   "outputs": [],
   "source": [
    "# 行情连接\n",
    "qs = xtdata.QuoteServer(info)\n",
    "qs.connect()"
   ]
  },
  {
   "cell_type": "code",
   "execution_count": null,
   "metadata": {},
   "outputs": [],
   "source": [
    "# 获取当前数据连接站点\n",
    "data_server_info = xtdata.get_quote_server_status()"
   ]
  },
  {
   "cell_type": "code",
   "execution_count": null,
   "metadata": {},
   "outputs": [],
   "source": [
    "# 显示当前数据连接站点\n",
    "if 1:\n",
    "    for k,v in data_server_info.items():\n",
    "        print(f\"data:{k}, connect info:{v.info}\")"
   ]
  },
  {
   "cell_type": "code",
   "execution_count": null,
   "metadata": {},
   "outputs": [],
   "source": [
    "# 等待连接状态\n",
    "while connect_success == 0:\n",
    "    time.sleep(0.3)\n",
    "\n",
    "if connect_success == 2:\n",
    "    print(\"连接失败\")"
   ]
  }
 ],
 "metadata": {
  "kernelspec": {
   "display_name": "base",
   "language": "python",
   "name": "python3"
  },
  "language_info": {
   "codemirror_mode": {
    "name": "ipython",
    "version": 3
   },
   "file_extension": ".py",
   "mimetype": "text/x-python",
   "name": "python",
   "nbconvert_exporter": "python",
   "pygments_lexer": "ipython3",
   "version": "3.12.7"
  }
 },
 "nbformat": 4,
 "nbformat_minor": 2
}
