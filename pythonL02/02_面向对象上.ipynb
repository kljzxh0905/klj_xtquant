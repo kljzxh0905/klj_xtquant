{
 "cells": [
  {
   "cell_type": "code",
   "execution_count": null,
   "metadata": {},
   "outputs": [],
   "source": [
    "# 什么叫面向对象编程？\n",
    "# 面向对象编程是一种程序设计范式，它以类和对象为基础，通过封装、继承、多态等特性来提高代码的复用性、灵活性和扩展性。\n",
    "# 面向对象编程的主要特点有：\n",
    "# 类和对象：类是对具有相同属性和方法的对象的抽象，对象是类的实例。\n",
    "# 封装：封装是指隐藏对象的属性和实现细节，仅对外提供公共访问方式。\n",
    "# 继承：继承是指子类继承父类的属性和方法。\n",
    "# 多态：多态是指不同类的对象对同一消息作出响应。\n",
    "# 面向对象编程的实现方式有多种，如Python、Java、C++、C#等。"
   ]
  },
  {
   "cell_type": "code",
   "execution_count": null,
   "metadata": {},
   "outputs": [],
   "source": [
    "# object 对象\n",
    "# class 类\n",
    "# encapsulation 封装\n",
    "# inheritance 继承\n",
    "# polymorphism 多态"
   ]
  },
  {
   "cell_type": "code",
   "execution_count": null,
   "metadata": {},
   "outputs": [],
   "source": [
    "# 创建一个学生类\n",
    "class Student:\n",
    "    # 类属性\n",
    "    count = 0\n",
    "\n",
    "    # 构造方法\n",
    "    def __init__(self, name, age):\n",
    "        # 实例属性\n",
    "        self.name = name\n",
    "        self.age = age\n",
    "        # 类属性\n",
    "        Student.count += 1\n",
    "\n",
    "    # 实例方法\n",
    "    def study(self, course_name):\n",
    "        print(f'{self.name}正在学习{course_name}, {self.name}今年{self.age}岁')\n",
    "\n",
    "    # 静态方法\n",
    "    @staticmethod\n",
    "    def plus(a, b):\n",
    "        return a + b\n",
    "\n",
    "    # 类方法\n",
    "    @classmethod\n",
    "    def get_count(cls):\n",
    "        return cls.count\n",
    "    \n",
    "    "
   ]
  },
  {
   "cell_type": "code",
   "execution_count": 24,
   "metadata": {},
   "outputs": [
    {
     "name": "stdout",
     "output_type": "stream",
     "text": [
      "Alice正在学习数学, Alice今年20岁\n",
      "Bob正在学习英语, Bob今年21岁\n",
      "Cindy正在学习物理, Cindy今年22岁\n",
      "11 + 22 = 33\n",
      "学生总数为: 3\n"
     ]
    }
   ],
   "source": [
    "# 重置类属性 count\n",
    "Student.count = 0\n",
    "\n",
    "# 创建学生实例(对象)\n",
    "student1 = Student('Alice', 20)\n",
    "student2 = Student('Bob', 21)\n",
    "student3 = Student('Cindy', 22)\n",
    "\n",
    "# 调用实例方法\n",
    "student1.study('数学')\n",
    "student2.study('英语')\n",
    "student3.study('物理')\n",
    "\n",
    "# 调用静态方法\n",
    "result = Student.plus(11, 22)\n",
    "print(f\"11 + 22 = {result}\")\n",
    "\n",
    "# 调用类方法\n",
    "count = Student.get_count()\n",
    "print(f'学生总数为: {count}')"
   ]
  },
  {
   "cell_type": "code",
   "execution_count": 13,
   "metadata": {},
   "outputs": [
    {
     "name": "stdout",
     "output_type": "stream",
     "text": [
      "<__main__.Student object at 0x000001BBBDE340B0>\n"
     ]
    }
   ],
   "source": [
    "stu1 = Student('kuanglinjiang', 18)\n",
    "print(stu1)"
   ]
  },
  {
   "cell_type": "code",
   "execution_count": null,
   "metadata": {},
   "outputs": [],
   "source": [
    "# 创建一个学生类 包含__str__方法\n",
    "class Student_str:\n",
    "    # 类属性\n",
    "    count = 0\n",
    "\n",
    "    # 构造方法\n",
    "    def __init__(self, name, age):\n",
    "        # 实例属性\n",
    "        self.name = name\n",
    "        self.age = age\n",
    "        # 类属性\n",
    "        Student.count += 1\n",
    "\n",
    "    # 实例方法\n",
    "    def study(self, course_name):\n",
    "        print(f'{self.name}正在学习{course_name}')\n",
    "\n",
    "    # 静态方法\n",
    "    @staticmethod\n",
    "    def plus(a, b):\n",
    "        return a + b\n",
    "\n",
    "    # 类方法\n",
    "    @classmethod\n",
    "    def get_count(cls):\n",
    "        return cls.count\n",
    "    \n",
    "    # 重写__str__方法\n",
    "    def __str__(self):\n",
    "        return f'{self.name}的年龄为{self.age}'"
   ]
  },
  {
   "cell_type": "code",
   "execution_count": null,
   "metadata": {},
   "outputs": [
    {
     "name": "stdout",
     "output_type": "stream",
     "text": [
      "kuanglinjiang的年龄为18\n"
     ]
    }
   ],
   "source": [
    "stu1 = Student_str('kuanglinjiang', 18)\n",
    "print(stu1)"
   ]
  },
  {
   "cell_type": "code",
   "execution_count": 16,
   "metadata": {},
   "outputs": [],
   "source": [
    "# 创建一个学生类 包含__repr__方法\n",
    "class Student_repr:\n",
    "    # 类属性\n",
    "    count = 0\n",
    "\n",
    "    # 构造方法\n",
    "    def __init__(self, name, age):\n",
    "        # 实例属性\n",
    "        self.name = name\n",
    "        self.age = age\n",
    "        # 类属性\n",
    "        Student.count += 1\n",
    "\n",
    "    # 实例方法\n",
    "    def study(self, course_name):\n",
    "        print(f'{self.name}正在学习{course_name}')\n",
    "\n",
    "    # 静态方法\n",
    "    @staticmethod\n",
    "    def plus(a, b):\n",
    "        return a + b\n",
    "\n",
    "    # 类方法\n",
    "    @classmethod\n",
    "    def get_count(cls):\n",
    "        return cls.count    \n",
    "    \n",
    "    # 重写__repr__方法\n",
    "    def __repr__(self):\n",
    "        return f'{self.name}的年龄为{self.age}'"
   ]
  },
  {
   "cell_type": "code",
   "execution_count": 17,
   "metadata": {},
   "outputs": [
    {
     "name": "stdout",
     "output_type": "stream",
     "text": [
      "kuanglinjiang的年龄为18\n"
     ]
    }
   ],
   "source": [
    "stu2 = Student_repr('kuanglinjiang', 18)\n",
    "print(stu2)"
   ]
  },
  {
   "cell_type": "code",
   "execution_count": 18,
   "metadata": {},
   "outputs": [],
   "source": [
    "# 创建一个学生类，包含__str__和__repr__方法\n",
    "class Student_str_repr:\n",
    "    # 类属性\n",
    "    count = 0\n",
    "\n",
    "    # 构造方法\n",
    "    def __init__(self, name, age):\n",
    "        # 实例属性\n",
    "        self.name = name\n",
    "        self.age = age\n",
    "        # 类属性\n",
    "        Student.count += 1\n",
    "\n",
    "    # 实例方法\n",
    "    def study(self, course_name):\n",
    "        print(f'{self.name}正在学习{course_name}')\n",
    "\n",
    "    # 静态方法\n",
    "    @staticmethod\n",
    "    def plus(a, b):\n",
    "        return a + b\n",
    "\n",
    "    # 类方法\n",
    "    @classmethod\n",
    "    def get_count(cls):\n",
    "        return cls.count    \n",
    "    \n",
    "    # 重写__str__方法\n",
    "    def __str__(self):\n",
    "        return f'{self.name}的年龄为{self.age},这是__str__方法'\n",
    "    \n",
    "    # 重写__repr__方法\n",
    "    def __repr__(self):\n",
    "        return f'{self.name}的年龄为{self.age},这是__repr__方法'"
   ]
  },
  {
   "cell_type": "code",
   "execution_count": 19,
   "metadata": {},
   "outputs": [
    {
     "name": "stdout",
     "output_type": "stream",
     "text": [
      "kuanglinjiang的年龄为18,这是__str__方法\n",
      "kuanglinjiang的年龄为18,这是__repr__方法\n"
     ]
    }
   ],
   "source": [
    "stu3 = Student_str_repr('kuanglinjiang', 18)\n",
    "print(stu3)\n",
    "print(repr(stu3))"
   ]
  },
  {
   "cell_type": "code",
   "execution_count": 20,
   "metadata": {},
   "outputs": [
    {
     "name": "stdout",
     "output_type": "stream",
     "text": [
      "0x1bbbde36e70 0x1bbbde37680 0x1bbbde33fb0\n"
     ]
    }
   ],
   "source": [
    "print(hex(id(stu3)),hex(id(stu2)),hex(id(stu1)))"
   ]
  },
  {
   "cell_type": "code",
   "execution_count": 21,
   "metadata": {},
   "outputs": [
    {
     "name": "stdout",
     "output_type": "stream",
     "text": [
      "['ArithmeticError', 'AssertionError', 'AttributeError', 'BaseException', 'BaseExceptionGroup', 'BlockingIOError', 'BrokenPipeError', 'BufferError', 'BytesWarning', 'ChildProcessError', 'ConnectionAbortedError', 'ConnectionError', 'ConnectionRefusedError', 'ConnectionResetError', 'DeprecationWarning', 'EOFError', 'Ellipsis', 'EncodingWarning', 'EnvironmentError', 'Exception', 'ExceptionGroup', 'False', 'FileExistsError', 'FileNotFoundError', 'FloatingPointError', 'FutureWarning', 'GeneratorExit', 'IOError', 'ImportError', 'ImportWarning', 'IndentationError', 'IndexError', 'InterruptedError', 'IsADirectoryError', 'KeyError', 'KeyboardInterrupt', 'LookupError', 'MemoryError', 'ModuleNotFoundError', 'NameError', 'None', 'NotADirectoryError', 'NotImplemented', 'NotImplementedError', 'OSError', 'OverflowError', 'PendingDeprecationWarning', 'PermissionError', 'ProcessLookupError', 'RecursionError', 'ReferenceError', 'ResourceWarning', 'RuntimeError', 'RuntimeWarning', 'StopAsyncIteration', 'StopIteration', 'SyntaxError', 'SyntaxWarning', 'SystemError', 'SystemExit', 'TabError', 'TimeoutError', 'True', 'TypeError', 'UnboundLocalError', 'UnicodeDecodeError', 'UnicodeEncodeError', 'UnicodeError', 'UnicodeTranslateError', 'UnicodeWarning', 'UserWarning', 'ValueError', 'Warning', 'WindowsError', 'ZeroDivisionError', '__IPYTHON__', '__build_class__', '__debug__', '__doc__', '__import__', '__loader__', '__name__', '__package__', '__spec__', 'abs', 'aiter', 'all', 'anext', 'any', 'ascii', 'bin', 'bool', 'breakpoint', 'bytearray', 'bytes', 'callable', 'chr', 'classmethod', 'compile', 'complex', 'copyright', 'credits', 'delattr', 'dict', 'dir', 'display', 'divmod', 'enumerate', 'eval', 'exec', 'execfile', 'filter', 'float', 'format', 'frozenset', 'get_ipython', 'getattr', 'globals', 'hasattr', 'hash', 'help', 'hex', 'id', 'input', 'int', 'isinstance', 'issubclass', 'iter', 'len', 'license', 'list', 'locals', 'map', 'max', 'memoryview', 'min', 'next', 'object', 'oct', 'open', 'ord', 'pow', 'print', 'property', 'range', 'repr', 'reversed', 'round', 'runfile', 'set', 'setattr', 'slice', 'sorted', 'staticmethod', 'str', 'sum', 'super', 'tuple', 'type', 'vars', 'zip']\n"
     ]
    }
   ],
   "source": [
    "import builtins\n",
    "print(dir(builtins))"
   ]
  },
  {
   "cell_type": "code",
   "execution_count": 2,
   "metadata": {},
   "outputs": [],
   "source": [
    "# 类初始化方法\n",
    "class Student_init:\n",
    "    '''学生'''\n",
    "    count = 0\n",
    "\n",
    "    def __init__(self, name, age, score, address):\n",
    "        '''初始化方法'''\n",
    "        self.name = name\n",
    "        self.age = age\n",
    "        self.score = score\n",
    "        self.address = address        \n",
    "        Student_init.count += 1\n",
    "\n",
    "    def study(self, course_name):\n",
    "        '''学习'''\n",
    "        # 在方法中访问实例属性，需要使用 self.属性。参数 course_name 是方法study的参数，直接使用即可\n",
    "        print(f'{self.name} 正在学习 {course_name}, {self.name} 今年 {self.age} 岁, 成绩为 {self.score}, 住址为 {self.address}')\n",
    "\n",
    "    def play(self, game_name):\n",
    "        '''玩游戏'''\n",
    "        print(f'{self.name}正在玩{game_name}')\n",
    "\n",
    "    @staticmethod\n",
    "    def plus(a, b):\n",
    "        '''加法'''\n",
    "        return a + b\n",
    "    \n",
    "    @classmethod\n",
    "    def get_count(cls):\n",
    "        '''获取学生总数'''\n",
    "        return cls.count\n",
    "    \n",
    "    # 重写__str__方法\n",
    "    def __str__(self):\n",
    "        return f'{self.name} 的年龄为 {self.age},分数是 {self.score},家庭地址是 {self.address},这是__str__方法'"
   ]
  },
  {
   "cell_type": "code",
   "execution_count": 3,
   "metadata": {},
   "outputs": [
    {
     "name": "stdout",
     "output_type": "stream",
     "text": [
      "Alice 的年龄为 20,分数是 100,家庭地址是 北京,这是__str__方法\n",
      "Alice 20 100 北京\n",
      "99\n",
      "Bob\n",
      "Bob 的年龄为 20,分数是 99,家庭地址是 北京,这是__str__方法\n"
     ]
    }
   ],
   "source": [
    "# 类的 __init__ 方法有两个作用：\n",
    "# 1. 初始化实例属性\n",
    "# 2. 为实例属性设置初始值\n",
    "stu1 = Student_init('Alice', 20, 100, '北京')\n",
    "print(stu1)\n",
    "print(stu1.name, stu1.age, stu1.score, stu1.address)\n",
    "stu1.score = 99\n",
    "print(stu1.score)\n",
    "stu1.name = 'Bob'\n",
    "print(stu1.name)\n",
    "print(stu1)"
   ]
  },
  {
   "cell_type": "code",
   "execution_count": 5,
   "metadata": {},
   "outputs": [
    {
     "name": "stdout",
     "output_type": "stream",
     "text": [
      "Bob 正在学习 数学, Bob 今年 20 岁, 成绩为 99, 住址为 北京\n",
      "Bob正在玩王者荣耀\n"
     ]
    }
   ],
   "source": [
    "stu1.study('数学')\n",
    "stu1.play('王者荣耀')"
   ]
  },
  {
   "cell_type": "code",
   "execution_count": 6,
   "metadata": {},
   "outputs": [],
   "source": [
    "# 在类中使用内置的方法 __repr__\n",
    "# 创建一个学生类，使用内置方法 __repr__ 等方法\n",
    "\n",
    "class Student_builtin:\n",
    "    '''内置方法学习'''\n",
    "    count = 0\n",
    "\n",
    "    # 初始化方法\n",
    "    def __init__(self, name, age):\n",
    "        self.name = name\n",
    "        self.age = age\n",
    "        Student_builtin.count += 1\n",
    "\n",
    "    # 实例方法\n",
    "    def study(self, course_name):\n",
    "        print(f'{self.name}正在学习{course_name}')\n",
    "\n",
    "    # 静态方法\n",
    "    @staticmethod\n",
    "    def plus(a, b):\n",
    "        return a + b\n",
    "    \n",
    "    # 类方法\n",
    "    @classmethod\n",
    "    def get_count(cls):\n",
    "        return cls.count\n",
    "    \n",
    "    # 重写__str__方法\n",
    "    def __str__(self):\n",
    "        return f'{self.name}的年龄为{self.age}'\n",
    "    \n",
    "    # 重写__repr__方法\n",
    "    def __repr__(self):\n",
    "        return f'{self.name}的年龄为{self.age}'\n",
    "    \n",
    "    # 重写__del__方法\n",
    "    def __del__(self):\n",
    "        print(f'{self.name}被删除')\n",
    "\n",
    "    # 重写__len__方法\n",
    "    def __len__(self):\n",
    "        return len(self.name)\n",
    "    \n",
    "    # 重写__call__方法\n",
    "    def __call__(self):\n",
    "        print(f'{self.name}正在调用__call__方法')"
   ]
  },
  {
   "cell_type": "code",
   "execution_count": 8,
   "metadata": {},
   "outputs": [
    {
     "name": "stdout",
     "output_type": "stream",
     "text": [
      "Alice被删除\n",
      "Alice的年龄为20\n",
      "Alice的年龄为20\n",
      "5\n",
      "Alice正在调用__call__方法\n"
     ]
    }
   ],
   "source": [
    "stu4 = Student_builtin('Alice', 20)\n",
    "print(stu4)\n",
    "print(repr(stu4))\n",
    "print(len(stu4))\n",
    "stu4()"
   ]
  },
  {
   "cell_type": "code",
   "execution_count": null,
   "metadata": {},
   "outputs": [],
   "source": [
    "# 类的可见性\n",
    "# 在类中，属性和方法有不同的可见性，主要有三种：\n",
    "# 1. 公有属性和方法：在类的外部可以直接访问。\n",
    "# 2. 私有属性和方法：在类的外部不能直接访问，需要在类的内部使用。\n",
    "# 3. 保护属性和方法：在类的外部不能直接访问，但可以在子类中访问。\n",
    "\n",
    "# 类的属性装饰器\n",
    "# 在类中，属性装饰器可以用来设置属性的可见性，主要有两种：\n",
    "# 1. @property：将方法转换为只读属性。\n",
    "# 2. @property.setter：将方法转换为可写属性。\n",
    "\n",
    "# 创建一个学生类，包含公有属性、私有属性和保护属性\n",
    "class Student_visibility:\n",
    "    '''学生类'''\n",
    "    count = 0\n",
    "\n",
    "    def __init__(self, name, age):\n",
    "        self.name = name # 公有属性 public\n",
    "        self.age = age # 公有属性 public\n",
    "        self.__score = 0 # 私有属性 private\n",
    "        self._address = '北京' # 保护属性 protected\n",
    "        Student_visibility.count += 1\n",
    "\n",
    "    def study(self, course_name):\n",
    "        print(f'{self.name}正在学习{course_name}')\n",
    "    '''\n",
    "    @property\n",
    "    def score(self):\n",
    "        return self.__score\n",
    "\n",
    "    @score.setter\n",
    "    def score(self, score):\n",
    "        if score < 0:\n",
    "            self.__score = 0\n",
    "        elif score > 100:\n",
    "            self.__score = 100\n",
    "        else:\n",
    "            self.__score = score\n",
    "    '''\n",
    "        \n",
    "    def set_score(self, score):\n",
    "        if score < 0:\n",
    "            self.__score = 0\n",
    "        elif score > 100:\n",
    "            self.__score = 100\n",
    "        else:\n",
    "            self.__score = score\n",
    "\n",
    "    def get_score(self):\n",
    "        return self.__score\n",
    "\n",
    "\n",
    "    def __str__(self):\n",
    "        return f'{self.name}的年龄为{self.age},成绩为{self.__score},住址为{self._address}'"
   ]
  },
  {
   "cell_type": "code",
   "execution_count": 22,
   "metadata": {},
   "outputs": [
    {
     "name": "stdout",
     "output_type": "stream",
     "text": [
      "Alice的年龄为20,成绩为0,住址为北京\n",
      "上海\n",
      "100\n"
     ]
    }
   ],
   "source": [
    "# 创建学生实例\n",
    "stu5 = Student_visibility('Alice', 20)\n",
    "print(stu5)\n",
    "\n",
    "# 访问保护属性\n",
    "stu5._address = '上海'\n",
    "print(stu5._address)\n",
    "\n",
    "# 访问私有属性\n",
    "# print(stu5.__score) AttributeError: 'Student_visibility' object has no attribute '__score'\n",
    "\n",
    "# stu5._Student_visibility__score = 100 # 通过这种方式可以访问私有属性,但不推荐\n",
    "# print(stu5._Student_visibility__score)\n",
    "\n",
    "# 使用类方法访问私有属性(推荐)\n",
    "stu5.set_score(100)\n",
    "print(stu5.get_score())"
   ]
  },
  {
   "cell_type": "code",
   "execution_count": 23,
   "metadata": {},
   "outputs": [],
   "source": [
    "# 创建一个学生类，包含公有属性、私有属性和保护属性\n",
    "class Student_visibility_property:\n",
    "    '''学生类'''\n",
    "    count = 0\n",
    "\n",
    "    def __init__(self, name, age):\n",
    "        self.name = name # 公有属性 public\n",
    "        self.age = age # 公有属性 public\n",
    "        self.__score = 0 # 私有属性 private\n",
    "        self._address = '北京' # 保护属性 protected\n",
    "        Student_visibility.count += 1\n",
    "\n",
    "    def study(self, course_name):\n",
    "        print(f'{self.name}正在学习{course_name}')\n",
    "    \n",
    "    @property\n",
    "    def score(self):\n",
    "        return self.__score\n",
    "\n",
    "    @score.setter\n",
    "    def score(self, score):\n",
    "        if score < 0:\n",
    "            self.__score = 0\n",
    "        elif score > 100:\n",
    "            self.__score = 100\n",
    "        else:\n",
    "            self.__score = score\n",
    "        \n",
    "    def __str__(self):\n",
    "        return f'{self.name}的年龄为{self.age},成绩为{self.__score},住址为{self._address}'"
   ]
  },
  {
   "cell_type": "code",
   "execution_count": 24,
   "metadata": {},
   "outputs": [
    {
     "name": "stdout",
     "output_type": "stream",
     "text": [
      "Alice的年龄为20,成绩为0,住址为北京\n",
      "99\n",
      "100\n",
      "0\n"
     ]
    }
   ],
   "source": [
    "# 创建学生实例\n",
    "stu6 = Student_visibility_property('Alice', 20)\n",
    "print(stu6)\n",
    "\n",
    "# 访问私有和修改私有属性 __score\n",
    "stu6.score = 99\n",
    "print(stu6.score)\n",
    "\n",
    "stu6.score = 101\n",
    "print(stu6.score)\n",
    "\n",
    "stu6.score = -1\n",
    "print(stu6.score)"
   ]
  }
 ],
 "metadata": {
  "kernelspec": {
   "display_name": "base",
   "language": "python",
   "name": "python3"
  },
  "language_info": {
   "codemirror_mode": {
    "name": "ipython",
    "version": 3
   },
   "file_extension": ".py",
   "mimetype": "text/x-python",
   "name": "python",
   "nbconvert_exporter": "python",
   "pygments_lexer": "ipython3",
   "version": "3.12.7"
  }
 },
 "nbformat": 4,
 "nbformat_minor": 2
}
