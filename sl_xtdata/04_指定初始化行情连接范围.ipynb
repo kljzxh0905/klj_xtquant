{
 "cells": [
  {
   "cell_type": "code",
   "execution_count": 1,
   "metadata": {},
   "outputs": [
    {
     "name": "stdout",
     "output_type": "stream",
     "text": [
      "listen port: 58622\n",
      "------连接上了------\n",
      "***** xtdata连接成功 *****\n",
      "服务信息: {'tag': 'xtquant', 'version': '1.0'}\n",
      "服务地址: 127.0.0.1:58622\n",
      "数据路径: d:\\miniqmt-demo\\data\\datadir\n",
      "设置xtdata.enable_hello = False可隐藏此消息\n",
      "\n"
     ]
    }
   ],
   "source": [
    "if 1:\n",
    "    from xtquant import xtdatacenter as xtdc\n",
    "    import xtquant.xtdata as xtdata\n",
    "    import code\n",
    "\n",
    "    ## 设置数据目录\n",
    "    xtdc.set_data_home_dir('data')\n",
    "\n",
    "    ## 设置token\n",
    "    token = \"c61c6069fb7bf4ac349e94bf1f34611c6528b1fc\"\n",
    "    xtdc.set_token(token)\n",
    "\n",
    "    ## 限定行情站点的优选范围\n",
    "    opt_list = [\n",
    "        '115.231.218.73:55310',\n",
    "        '115.231.218.79:55310',\n",
    "        '42.228.16.210:55300',\n",
    "        '42.228.16.211:55300',\n",
    "        '36.99.48.20:55300',\n",
    "        '36.99.48.21:55300',\n",
    "    ]\n",
    "    xtdc.set_allow_optmize_address(opt_list)\n",
    "\n",
    "    ## 开启指定市场的K线全推\n",
    "    xtdc.set_kline_mirror_markets(['SH', 'SZ', 'BJ'])\n",
    "\n",
    "    ## 设置要初始化的市场列表\n",
    "    init_markets = [\n",
    "        'SH', 'SZ', 'BJ',\n",
    "        #'DF', 'GF', 'IF', 'SF', 'ZF', 'INE',\n",
    "        #'SHO', 'SZO',\n",
    "    ]\n",
    "    xtdc.set_init_markets(init_markets)\n",
    "\n",
    "    ## 初始化xtdc模块\n",
    "    xtdc.init(start_local_service = False)\n",
    "\n",
    "    ## 监听端口\n",
    "    #xtdc.listen(port = 58620)\n",
    "    # listen_port = xtdc.listen(port = (58620, 58650))\n",
    "    listen_port = xtdc.listen(port = 58622) # 指定固定端口进行连接\n",
    "    # port = xtdc.listen(port = (58620, 58630))[1] 通过指定port范围，可以让xtdc在范围内自动寻找可用端口\n",
    "\n",
    "    # 确保 port 是整数类型\n",
    "    if isinstance(listen_port, tuple):\n",
    "        port = listen_port[1]\n",
    "    elif isinstance(listen_port, float):\n",
    "        port = int(listen_port)\n",
    "    #import code; code.interact(local = locals())\n",
    "    print('listen port:', port)\n",
    "    print(\"------连接上了------\")\n",
    "    xtdata.connect(port = port)\n",
    "\n",
    "    # code.interact(local = locals()) # 进入交互模式"
   ]
  }
 ],
 "metadata": {
  "kernelspec": {
   "display_name": "base",
   "language": "python",
   "name": "python3"
  },
  "language_info": {
   "codemirror_mode": {
    "name": "ipython",
    "version": 3
   },
   "file_extension": ".py",
   "mimetype": "text/x-python",
   "name": "python",
   "nbconvert_exporter": "python",
   "pygments_lexer": "ipython3",
   "version": "3.12.7"
  }
 },
 "nbformat": 4,
 "nbformat_minor": 2
}
