{
 "cells": [
  {
   "cell_type": "code",
   "execution_count": 1,
   "metadata": {},
   "outputs": [],
   "source": [
    "import time, datetime, traceback, sys\n",
    "from xtquant import xtdata\n",
    "from xtquant.xttrader import XtQuantTrader, XtQuantTraderCallback\n",
    "from xtquant.xttype import StockAccount\n",
    "from xtquant import xtconstant"
   ]
  },
  {
   "cell_type": "code",
   "execution_count": 2,
   "metadata": {},
   "outputs": [
    {
     "name": "stdout",
     "output_type": "stream",
     "text": [
      "***** xtdata连接成功 *****\n",
      "服务信息: {'tag': 'sp3', 'version': '1.0'}\n",
      "服务地址: 127.0.0.1:58610\n",
      "数据路径: D:\\国金QMT交易端模拟\\bin.x64/../userdata_mini/datadir\n",
      "设置xtdata.enable_hello = False可隐藏此消息\n",
      "\n"
     ]
    }
   ],
   "source": [
    "# 定义一个类 创建类的实例 作为状态的容器\n",
    "class _a():\n",
    "    pass\n",
    "\n",
    "\n",
    "A = _a()\n",
    "A.bought_list = []\n",
    "A.hsa = xtdata.get_stock_list_in_sector('沪深A股')"
   ]
  },
  {
   "cell_type": "code",
   "execution_count": 3,
   "metadata": {},
   "outputs": [],
   "source": [
    "def interact():\n",
    "    \"\"\"执行后进入repl模式\"\"\"\n",
    "    import code\n",
    "    code.InteractiveConsole(locals=globals()).interact()"
   ]
  },
  {
   "cell_type": "code",
   "execution_count": 4,
   "metadata": {},
   "outputs": [],
   "source": [
    "xtdata.download_sector_data()"
   ]
  },
  {
   "cell_type": "code",
   "execution_count": 5,
   "metadata": {},
   "outputs": [],
   "source": [
    "def f(data):\n",
    "    print(data)\n",
    "    now = datetime.datetime.now()\n",
    "    for stock in data:\n",
    "        if stock not in A.hsa:\n",
    "            continue\n",
    "        cuurent_price = data[stock][0]['close']\n",
    "        pre_price = data[stock][0]['preClose']\n",
    "        ratio = cuurent_price / pre_price - 1 if pre_price > 0 else 0\n",
    "        if ratio > 0.09 and stock not in A.bought_list:\n",
    "            print(f\"{now} 最新价 买入 {stock} 100股\")\n",
    "            async_seq = xt_trader.order_stock_async(acc, stock, xtconstant.STOCK_BUY, 100, xtconstant.LATEST_PRICE, -1,\n",
    "                                                    'strategy_name', stock)\n",
    "            A.bought_list.append(stock)"
   ]
  },
  {
   "cell_type": "code",
   "execution_count": 6,
   "metadata": {},
   "outputs": [],
   "source": [
    "class MyXtQuantTraderCallback(XtQuantTraderCallback):\n",
    "    def on_disconnected(self):\n",
    "        \"\"\"\n",
    "        连接断开\n",
    "        :return:\n",
    "        \"\"\"\n",
    "        print(datetime.datetime.now(), '连接断开回调')\n",
    "\n",
    "    def on_stock_order(self, order):\n",
    "        \"\"\"\n",
    "        委托回报推送\n",
    "        :param order: XtOrder对象\n",
    "        :return:\n",
    "        \"\"\"\n",
    "        print(datetime.datetime.now(), '委托回调', order.order_remark)\n",
    "\n",
    "    def on_stock_trade(self, trade):\n",
    "        \"\"\"\n",
    "        成交变动推送\n",
    "        :param trade: XtTrade对象\n",
    "        :return:\n",
    "        \"\"\"\n",
    "        print(datetime.datetime.now(), '成交回调', trade.order_remark)\n",
    "\n",
    "    def on_order_error(self, order_error):\n",
    "        \"\"\"\n",
    "        委托失败推送\n",
    "        :param order_error:XtOrderError 对象\n",
    "        :return:\n",
    "        \"\"\"\n",
    "        # print(\"on order_error callback\")\n",
    "        # print(order_error.order_id, order_error.error_id, order_error.error_msg)\n",
    "        print(f\"委托报错回调 {order_error.order_remark} {order_error.error_msg}\")\n",
    "\n",
    "    def on_cancel_error(self, cancel_error):\n",
    "        \"\"\"\n",
    "        撤单失败推送\n",
    "        :param cancel_error: XtCancelError 对象\n",
    "        :return:\n",
    "        \"\"\"\n",
    "        print(datetime.datetime.now(), sys._getframe().f_code.co_name)\n",
    "\n",
    "    def on_order_stock_async_response(self, response):\n",
    "        \"\"\"\n",
    "        异步下单回报推送\n",
    "        :param response: XtOrderResponse 对象\n",
    "        :return:\n",
    "        \"\"\"\n",
    "        print(f\"异步委托回调 {response.order_remark}\")\n",
    "\n",
    "    def on_cancel_order_stock_async_response(self, response):\n",
    "        \"\"\"\n",
    "        :param response: XtCancelOrderResponse 对象\n",
    "        :return:\n",
    "        \"\"\"\n",
    "        print(datetime.datetime.now(), sys._getframe().f_code.co_name)\n",
    "\n",
    "    def on_account_status(self, status):\n",
    "        \"\"\"\n",
    "        :param response: XtAccountStatus 对象\n",
    "        :return:\n",
    "        \"\"\"\n",
    "        print(datetime.datetime.now(), sys._getframe().f_code.co_name)"
   ]
  },
  {
   "cell_type": "code",
   "execution_count": 7,
   "metadata": {},
   "outputs": [
    {
     "name": "stdout",
     "output_type": "stream",
     "text": [
      "start\n",
      "到这了 <xtquant.xttrader.XtQuantTrader object at 0x0000028F4B220BC0>\n"
     ]
    }
   ],
   "source": [
    "print(\"start\")\n",
    "# 指定客户端所在路径, 券商端指定到 userdata_mini文件夹\n",
    "# 注意：如果是连接投研端进行交易，文件目录需要指定到f\"{安装目录}\\userdata\"\n",
    "path = r'D:\\国金QMT交易端模拟\\userdata_mini\\datadir'\n",
    "# 生成session id 整数类型 同时运行的策略不能重复\n",
    "session_id = int(time.time())\n",
    "xt_trader = XtQuantTrader(path, session_id)\n",
    "# 开启主动请求接口的专用线程 开启后在on_stock_xxx回调函数里调用XtQuantTrader.query_xxx函数不会卡住回调线程，但是查询和推送的数据在时序上会变得不确定\n",
    "# 详见: http://docs.thinktrader.net/vip/pages/ee0e9b/#开启主动请求接口的专用线程\n",
    "# xt_trader.set_relaxed_response_order_enabled(True)\n",
    "print(\"到这了\", xt_trader)"
   ]
  },
  {
   "cell_type": "code",
   "execution_count": 8,
   "metadata": {},
   "outputs": [
    {
     "name": "stdout",
     "output_type": "stream",
     "text": [
      "到这了 <xtquant.xttype.StockAccount object at 0x0000028F4B8DFCB0>\n"
     ]
    }
   ],
   "source": [
    "# 创建资金账号为 800068 的证券账号对象 股票账号为STOCK 信用CREDIT 期货FUTURE\n",
    "acc = StockAccount('39021176', 'STOCK')\n",
    "print(\"到这了\", acc)"
   ]
  },
  {
   "cell_type": "code",
   "execution_count": 9,
   "metadata": {},
   "outputs": [],
   "source": [
    "# 创建交易回调类对象，并声明接收回调\n",
    "callback = MyXtQuantTraderCallback()\n",
    "xt_trader.register_callback(callback)"
   ]
  },
  {
   "cell_type": "code",
   "execution_count": 10,
   "metadata": {},
   "outputs": [],
   "source": [
    "# 启动交易线程\n",
    "xt_trader.start()"
   ]
  },
  {
   "cell_type": "code",
   "execution_count": 11,
   "metadata": {},
   "outputs": [
    {
     "name": "stdout",
     "output_type": "stream",
     "text": [
      "建立交易连接，返回0表示连接成功 -1\n"
     ]
    }
   ],
   "source": [
    "# 建立交易连接，返回0表示连接成功\n",
    "connect_result = xt_trader.connect()\n",
    "print('建立交易连接，返回0表示连接成功', connect_result)"
   ]
  },
  {
   "cell_type": "code",
   "execution_count": 12,
   "metadata": {},
   "outputs": [
    {
     "name": "stdout",
     "output_type": "stream",
     "text": [
      "对交易回调进行订阅，订阅后可以收到交易主推，返回0表示订阅成功 -1\n"
     ]
    }
   ],
   "source": [
    "# 对交易回调进行订阅，订阅后可以收到交易主推，返回0表示订阅成功\n",
    "subscribe_result = xt_trader.subscribe(acc)\n",
    "print('对交易回调进行订阅，订阅后可以收到交易主推，返回0表示订阅成功', subscribe_result)"
   ]
  },
  {
   "cell_type": "code",
   "execution_count": null,
   "metadata": {},
   "outputs": [
    {
     "name": "stderr",
     "output_type": "stream",
     "text": [
      "Python 3.12.7 | packaged by Anaconda, Inc. | (main, Oct  4 2024, 13:17:27) [MSC v.1929 64 bit (AMD64)] on win32\n",
      "Type \"help\", \"copyright\", \"credits\" or \"license\" for more information.\n",
      "(InteractiveConsole)\n"
     ]
    }
   ],
   "source": [
    "#订阅的品种列表\n",
    "code_list = ['600000.SH', '000001.SZ']\n",
    "for code in code_list:\n",
    "    xtdata.subscribe_quote(code, '1d', callback = f)\n",
    "# 阻塞主线程退出\n",
    "xt_trader.run_forever()\n",
    "# 如果使用vscode pycharm等本地编辑器 可以进入交互模式 方便调试 （把上一行的run_forever注释掉 否则不会执行到这里）\n",
    "# interact()"
   ]
  }
 ],
 "metadata": {
  "kernelspec": {
   "display_name": "base",
   "language": "python",
   "name": "python3"
  },
  "language_info": {
   "codemirror_mode": {
    "name": "ipython",
    "version": 3
   },
   "file_extension": ".py",
   "mimetype": "text/x-python",
   "name": "python",
   "nbconvert_exporter": "python",
   "pygments_lexer": "ipython3",
   "version": "3.12.7"
  }
 },
 "nbformat": 4,
 "nbformat_minor": 2
}
