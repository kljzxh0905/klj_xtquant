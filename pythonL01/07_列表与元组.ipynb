{
 "cells": [
  {
   "cell_type": "code",
   "execution_count": null,
   "metadata": {},
   "outputs": [],
   "source": [
    "# 什么是列表？\n",
    "# 列表是一个有序的集合，可以随时添加和删除其中的元素，在 c++ 中称为 vector\n",
    "# 列表用 [] 表示，元素之间用逗号隔开\n",
    "# 列表中的元素可以是不同的数据类型，如整数、浮点数、字符串、列表等\n",
    "# 列表的元素可以通过索引访问，索引从 0 开始，负数表示从后往前，-1 表示最后一个元素，如果索引超出范围会报错\n",
    "# 列表的长度可以通过 len() 函数获取"
   ]
  },
  {
   "cell_type": "code",
   "execution_count": null,
   "metadata": {},
   "outputs": [],
   "source": [
    "name_list = ['zhangsan', 'lisi', 'wangwu', 'zhaoliu']\n",
    "print(name_list)"
   ]
  },
  {
   "cell_type": "code",
   "execution_count": null,
   "metadata": {},
   "outputs": [],
   "source": [
    "# 访问列表元素\n",
    "print(name_list[0])\n",
    "print(name_list[-1])"
   ]
  },
  {
   "cell_type": "code",
   "execution_count": null,
   "metadata": {},
   "outputs": [],
   "source": [
    "# 增加元素\n",
    "# 在列表末尾添加元素\n",
    "name_list.append('sunqi')\n",
    "print(name_list)\n",
    "\n",
    "# 插入元素\n",
    "name_list.insert(1, 'kanglinjian')\n",
    "print(name_list)\n",
    "\n",
    "# 扩展列表\n",
    "name_list.extend(['朱鲜花', '匡吴楚涛'])\n",
    "print(name_list)"
   ]
  },
  {
   "cell_type": "code",
   "execution_count": null,
   "metadata": {},
   "outputs": [],
   "source": [
    "# 删除元素\n",
    "# 删除指定元素\n",
    "name_list.remove('kanglinjian')\n",
    "print(name_list)\n",
    "\n",
    "# 删除指定索引的元素\n",
    "name_list.pop(1)\n",
    "print(name_list)\n",
    "\n",
    "# 删除最后一个元素\n",
    "name_list.pop()\n",
    "print(name_list)\n",
    "\n",
    "# 删除所有元素\n",
    "name_list.clear()\n",
    "print(name_list)"
   ]
  },
  {
   "cell_type": "code",
   "execution_count": null,
   "metadata": {},
   "outputs": [],
   "source": [
    "name_list = ['zhangsan', 'lisi', 'wangwu', 'zhaoliu']"
   ]
  },
  {
   "cell_type": "code",
   "execution_count": null,
   "metadata": {},
   "outputs": [],
   "source": [
    "# 修改元素\n",
    "name_list[0] = 'sunqi'\n",
    "print(name_list)"
   ]
  },
  {
   "cell_type": "code",
   "execution_count": null,
   "metadata": {},
   "outputs": [],
   "source": [
    "# 统计元素出现的次数\n",
    "print(name_list.count('sunqi'))\n",
    "\n",
    "# 获取元素的索引\n",
    "print(name_list.index('sunqi'))\n",
    "\n",
    "# 列表的长度\n",
    "print(len(name_list))\n",
    "\n",
    "name_list.append('sunqi')\n",
    "\n",
    "# 统计元素出现的次数\n",
    "print(name_list.count('sunqi'))"
   ]
  },
  {
   "cell_type": "code",
   "execution_count": null,
   "metadata": {},
   "outputs": [],
   "source": [
    "# list 的排序\n",
    "# 默认升序排序\n",
    "name_list.sort()\n",
    "print(name_list)\n",
    "\n",
    "# 降序排序\n",
    "name_list.sort(reverse=True)\n",
    "print(name_list)\n",
    "\n",
    "# 反转列表\n",
    "name_list.reverse()\n",
    "print(name_list)"
   ]
  },
  {
   "cell_type": "code",
   "execution_count": null,
   "metadata": {},
   "outputs": [],
   "source": [
    "# del 删除列表\n",
    "del name_list\n",
    "# print(name_list)  # NameError: name 'name_list' is not defined"
   ]
  },
  {
   "cell_type": "code",
   "execution_count": null,
   "metadata": {},
   "outputs": [],
   "source": [
    "name_list = ['zhangsan', 'lisi', 'wangwu', 'zhaoliu']\n",
    "\n",
    "# del 删除指定索引的元素\n",
    "del name_list[0]    # 删除第一个元素\n",
    "print(name_list)"
   ]
  },
  {
   "cell_type": "code",
   "execution_count": null,
   "metadata": {},
   "outputs": [],
   "source": [
    "# remove 删除指定元素\n",
    "name_list.remove('lisi')\n",
    "print(name_list)"
   ]
  },
  {
   "cell_type": "code",
   "execution_count": null,
   "metadata": {},
   "outputs": [],
   "source": [
    "name_list.remove('zhaoliu')\n",
    "print(name_list)"
   ]
  },
  {
   "cell_type": "code",
   "execution_count": null,
   "metadata": {},
   "outputs": [],
   "source": [
    "# 遍历列表\n",
    "# 创建一个数字列表\n",
    "number_list = [11, 9, 3, 67, 12,96, 37, 18, 55]\n",
    "\n",
    "# 遍历列表\n",
    "for number in number_list:\n",
    "    print(number)"
   ]
  },
  {
   "cell_type": "code",
   "execution_count": null,
   "metadata": {},
   "outputs": [],
   "source": [
    "# 创建一个字符串列表\n",
    "str_list = ['hello', 'world', 'python', 'java', 'c++']\n",
    "\n",
    "# 遍历列表\n",
    "for str in str_list:\n",
    "    print(str)"
   ]
  },
  {
   "cell_type": "code",
   "execution_count": null,
   "metadata": {},
   "outputs": [],
   "source": [
    "# 创建一个字符串与数字混合的列表\n",
    "mix_list = ['hello', 3, 5.6, 'world', 9, 8.4]\n",
    "\n",
    "# 遍历列表\n",
    "for mix in mix_list:\n",
    "    print(mix)\n",
    "    print(type(mix))"
   ]
  },
  {
   "cell_type": "code",
   "execution_count": null,
   "metadata": {},
   "outputs": [],
   "source": [
    "# 创建一个元组列表\n",
    "tuple_list = [(1, 2), (3, 4), (5, 6)]\n",
    "\n",
    "# 遍历列表\n",
    "for i in tuple_list:\n",
    "    print(i)\n",
    "    print(type(i))"
   ]
  },
  {
   "cell_type": "code",
   "execution_count": null,
   "metadata": {},
   "outputs": [],
   "source": [
    "# 打印元组中的元素\n",
    "for i in tuple_list:\n",
    "    for j in i:\n",
    "        print(j)"
   ]
  },
  {
   "cell_type": "code",
   "execution_count": null,
   "metadata": {},
   "outputs": [],
   "source": [
    "# 什么是元组？\n",
    "# 元组是一个有序的集合，一旦创建就不能修改，类似于 c++ 中的 pair\n",
    "# 元组用 () 表示，元素之间用逗号隔开\n",
    "# 元组中的元素可以是不同的数据类型，如整数、浮点数、字符串、列表等\n",
    "# 元组的元素可以通过索引访问，索引从 0 开始，负数表示从后往前，-1 表示最后一个元素，如果索引超出范围会报错\n",
    "# 元组的长度可以通过 len() 函数获取\n",
    "# 元组中只有一个元素时，需要在元素后面加上逗号，否则会被当作其他类型处理\n",
    "\n",
    "# 创建元组\n",
    "int_tuple = (1, 2, 3, 4, 5)\n",
    "print(int_tuple)"
   ]
  },
  {
   "cell_type": "code",
   "execution_count": null,
   "metadata": {},
   "outputs": [],
   "source": [
    "# 定义一个元组\n",
    "info_data = ('zhangsan', 18, 1.75, 'zhangsan')\n",
    "print(info_data)\n",
    "print(type(info_data))\n",
    "\n",
    "# 定义一个空元组\n",
    "empty_tuple = ()\n",
    "print(empty_tuple)\n",
    "print(type(empty_tuple))\n",
    "\n",
    "# 定义一个只有一个元素的元组\n",
    "single_tuple = (1,)\n",
    "print(single_tuple)\n",
    "print(type(single_tuple))"
   ]
  },
  {
   "cell_type": "code",
   "execution_count": null,
   "metadata": {},
   "outputs": [],
   "source": [
    "# 访问元组元素\n",
    "print(info_data[0])\n",
    "print(info_data[-2])\n",
    "print(info_data.index(18))\n",
    "print(info_data.count('zhangsan'))"
   ]
  },
  {
   "cell_type": "code",
   "execution_count": null,
   "metadata": {},
   "outputs": [],
   "source": [
    "# 元组的长度\n",
    "print(len(info_data))\n",
    "\n",
    "# 元组的遍历\n",
    "for item in info_data:\n",
    "    print(item)"
   ]
  },
  {
   "cell_type": "code",
   "execution_count": 1,
   "metadata": {},
   "outputs": [
    {
     "name": "stdout",
     "output_type": "stream",
     "text": [
      "<class 'tuple'>\n",
      "<class 'list'>\n",
      "['zhangsan', 18, 1.75, 'zhangsan']\n",
      "<class 'tuple'>\n"
     ]
    }
   ],
   "source": [
    "# 元组转换为列表\n",
    "info_data = ('zhangsan', 18, 1.75, 'zhangsan')\n",
    "print(type(info_data))\n",
    "info_list = list(info_data)\n",
    "print(type(info_list))\n",
    "print(info_list)\n",
    "info_data = tuple(info_list)\n",
    "print(type(info_data))"
   ]
  },
  {
   "cell_type": "code",
   "execution_count": 2,
   "metadata": {},
   "outputs": [
    {
     "name": "stdout",
     "output_type": "stream",
     "text": [
      "['False', 'None', 'True', 'and', 'as', 'assert', 'async', 'await', 'break', 'class', 'continue', 'def', 'del', 'elif', 'else', 'except', 'finally', 'for', 'from', 'global', 'if', 'import', 'in', 'is', 'lambda', 'nonlocal', 'not', 'or', 'pass', 'raise', 'return', 'try', 'while', 'with', 'yield']\n"
     ]
    }
   ],
   "source": [
    "import keyword\n",
    "print(keyword.kwlist)"
   ]
  },
  {
   "cell_type": "code",
   "execution_count": 4,
   "metadata": {},
   "outputs": [
    {
     "name": "stdout",
     "output_type": "stream",
     "text": [
      "['ArithmeticError', 'AssertionError', 'AttributeError', 'BaseException', 'BaseExceptionGroup', 'BlockingIOError', 'BrokenPipeError', 'BufferError', 'BytesWarning', 'ChildProcessError', 'ConnectionAbortedError', 'ConnectionError', 'ConnectionRefusedError', 'ConnectionResetError', 'DeprecationWarning', 'EOFError', 'Ellipsis', 'EncodingWarning', 'EnvironmentError', 'Exception', 'ExceptionGroup', 'False', 'FileExistsError', 'FileNotFoundError', 'FloatingPointError', 'FutureWarning', 'GeneratorExit', 'IOError', 'ImportError', 'ImportWarning', 'IndentationError', 'IndexError', 'InterruptedError', 'IsADirectoryError', 'KeyError', 'KeyboardInterrupt', 'LookupError', 'MemoryError', 'ModuleNotFoundError', 'NameError', 'None', 'NotADirectoryError', 'NotImplemented', 'NotImplementedError', 'OSError', 'OverflowError', 'PendingDeprecationWarning', 'PermissionError', 'ProcessLookupError', 'RecursionError', 'ReferenceError', 'ResourceWarning', 'RuntimeError', 'RuntimeWarning', 'StopAsyncIteration', 'StopIteration', 'SyntaxError', 'SyntaxWarning', 'SystemError', 'SystemExit', 'TabError', 'TimeoutError', 'True', 'TypeError', 'UnboundLocalError', 'UnicodeDecodeError', 'UnicodeEncodeError', 'UnicodeError', 'UnicodeTranslateError', 'UnicodeWarning', 'UserWarning', 'ValueError', 'Warning', 'WindowsError', 'ZeroDivisionError', '__IPYTHON__', '__build_class__', '__debug__', '__doc__', '__import__', '__loader__', '__name__', '__package__', '__spec__', 'abs', 'aiter', 'all', 'anext', 'any', 'ascii', 'bin', 'bool', 'breakpoint', 'bytearray', 'bytes', 'callable', 'chr', 'classmethod', 'compile', 'complex', 'copyright', 'credits', 'delattr', 'dict', 'dir', 'display', 'divmod', 'enumerate', 'eval', 'exec', 'execfile', 'filter', 'float', 'format', 'frozenset', 'get_ipython', 'getattr', 'globals', 'hasattr', 'hash', 'help', 'hex', 'id', 'input', 'int', 'isinstance', 'issubclass', 'iter', 'len', 'license', 'list', 'locals', 'map', 'max', 'memoryview', 'min', 'next', 'object', 'oct', 'open', 'ord', 'pow', 'print', 'property', 'range', 'repr', 'reversed', 'round', 'runfile', 'set', 'setattr', 'slice', 'sorted', 'staticmethod', 'str', 'sum', 'super', 'tuple', 'type', 'vars', 'zip']\n",
      "161\n"
     ]
    }
   ],
   "source": [
    "# 如何打印出python的内置函数\n",
    "import builtins\n",
    "print(dir(builtins))\n",
    "print(len(dir(builtins)))"
   ]
  }
 ],
 "metadata": {
  "kernelspec": {
   "display_name": "base",
   "language": "python",
   "name": "python3"
  },
  "language_info": {
   "codemirror_mode": {
    "name": "ipython",
    "version": 3
   },
   "file_extension": ".py",
   "mimetype": "text/x-python",
   "name": "python",
   "nbconvert_exporter": "python",
   "pygments_lexer": "ipython3",
   "version": "3.12.7"
  }
 },
 "nbformat": 4,
 "nbformat_minor": 2
}
