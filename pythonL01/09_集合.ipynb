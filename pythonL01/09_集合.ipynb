{
 "cells": [
  {
   "cell_type": "code",
   "execution_count": 1,
   "metadata": {},
   "outputs": [],
   "source": [
    "# 什么是集合？\n",
    "# 集合是一个无序的、不重复的数据组合，它的主要作用如下：\n",
    "# 1.去重，把一个列表变成集合，就自动去重了。\n",
    "# 2.关系测试，测试两组数据之前的交集、差集、并集等关系。\n",
    "# 集合是可变的数据类型，可以添加或删除元素，有两种定义方式：\n",
    "# 1.使用{}定义，类似于字典，但是只有key没有value。\n",
    "# 2.使用set()函数定义。\n"
   ]
  },
  {
   "cell_type": "code",
   "execution_count": null,
   "metadata": {},
   "outputs": [
    {
     "name": "stdout",
     "output_type": "stream",
     "text": [
      "set()\n",
      "{1, 2, 3, 4, 5}\n",
      "{1, 2, 3, 4, 5, 6}\n"
     ]
    }
   ],
   "source": [
    "# 创建集合\n",
    "# 创建集合的两种方式\n",
    "# 创建一个空集合\n",
    "s = set()\n",
    "print(s) # set()\n",
    "\n",
    "# 创建一个非空集合\n",
    "s = {1, 2, 3, 4, 5}\n",
    "print(s) # {1, 2, 3, 4, 5}\n",
    "\n",
    "# 集合的特点\n",
    "# 集合是无序的\n",
    "# 集合是不重复的\n",
    "# 集合是无序的，所以没有索引，也不能切片\n",
    "# 集合是可变的，可以添加或删除元素\n",
    "# 集合是无序的，所以不能通过索引来访问元素\n",
    "# 集合是不重复的，集合中的元素不能重复\n",
    "\n",
    "s = {1, 2, 3, 3, 4, 5, 6, 6}\n",
    "print(s) # {1, 2, 3, 4, 5, 6} 重复的元素会被自动去掉"
   ]
  },
  {
   "cell_type": "code",
   "execution_count": 6,
   "metadata": {},
   "outputs": [
    {
     "name": "stdout",
     "output_type": "stream",
     "text": [
      "{'hello'}\n",
      "{'h', 'l', 'e', 'o'}\n"
     ]
    }
   ],
   "source": [
    "set1 = {\"hello\"}\n",
    "print(set1) # {'hello'}\n",
    "\n",
    "set2 = set(\"hello\")\n",
    "print(set2) # {'h', 'e', 'l', 'o'} 会把字符串中的每个字符都添加到集合中"
   ]
  },
  {
   "cell_type": "code",
   "execution_count": 7,
   "metadata": {},
   "outputs": [
    {
     "name": "stdout",
     "output_type": "stream",
     "text": [
      "{1, 2, 3, 4, 5, 6}\n"
     ]
    }
   ],
   "source": [
    "data_list = [1, 2, 3, 3, 4, 5, 6, 6]\n",
    "s = set(data_list)\n",
    "print(s) # {1, 2, 3, 4, 5, 6} 通过列表创建集合"
   ]
  },
  {
   "cell_type": "code",
   "execution_count": 8,
   "metadata": {},
   "outputs": [
    {
     "name": "stdout",
     "output_type": "stream",
     "text": [
      "{3, 5, 6, 9, 10, 12, 15, 18}\n"
     ]
    }
   ],
   "source": [
    "# 集合推导式\n",
    "# 集合也支持推导式，集合推导式的语法与列表推导式类似，只是集合使用{}来定义。\n",
    "set1 = {num for num in range(1, 20) if num % 3 == 0 or num % 5 == 0} # 3的倍数或者5的倍数\n",
    "print(set1) # {3, 5, 6, 9, 10, 12, 15, 18} "
   ]
  },
  {
   "cell_type": "code",
   "execution_count": 9,
   "metadata": {},
   "outputs": [
    {
     "name": "stdout",
     "output_type": "stream",
     "text": [
      "3\n",
      "5\n",
      "6\n",
      "9\n",
      "10\n",
      "12\n",
      "15\n",
      "18\n"
     ]
    }
   ],
   "source": [
    "# 遍历集合\n",
    "# 遍历集合和遍历列表类似，可以使用for循环来遍历集合中的元素。\n",
    "for num in set1:\n",
    "    print(num)"
   ]
  },
  {
   "cell_type": "code",
   "execution_count": 10,
   "metadata": {},
   "outputs": [
    {
     "name": "stdout",
     "output_type": "stream",
     "text": [
      "True\n",
      "False\n",
      "False\n",
      "True\n",
      "True\n",
      "False\n",
      "True\n"
     ]
    }
   ],
   "source": [
    "# 集合的运算\n",
    "# python 为集合提供了丰富的运算符， 主要包括： 成员运算符、关系运算符、逻辑运算符。\n",
    "# 成员运算符\n",
    "# in 和 not in\n",
    "# in 判断一个元素是否在集合中，如果在集合中返回 True，否则返回 False。\n",
    "# not in 判断一个元素是否不在集合中，如果不在集合中返回 True，否则返回 False。\n",
    "s = {1, 2, 3, 4, 5}\n",
    "print(1 in s) # True\n",
    "print(6 in s) # False\n",
    "print(1 not in s) # False\n",
    "print(6 not in s) # True\n",
    "\n",
    "set2 = {'python', 'java', 'c', 'c++', 'go', 'swift'}\n",
    "print('python' in set2) # True\n",
    "print('ruby' in set2) # False\n",
    "print('ruby' not in set2) # True\n",
    "\n"
   ]
  },
  {
   "cell_type": "code",
   "execution_count": 12,
   "metadata": {},
   "outputs": [
    {
     "name": "stdout",
     "output_type": "stream",
     "text": [
      "{4, 5}\n",
      "{4, 5}\n",
      "{1, 2, 3, 4, 5, 6, 7, 8}\n",
      "{1, 2, 3, 4, 5, 6, 7, 8}\n",
      "{1, 2, 3}\n",
      "{1, 2, 3}\n",
      "{1, 2, 3, 6, 7, 8}\n",
      "{1, 2, 3, 6, 7, 8}\n",
      "True\n"
     ]
    }
   ],
   "source": [
    "# 关系运算符\n",
    "# 集合之间可以进行关系运算，主要包括：交集、并集、差集、对称差集。\n",
    "# 交集\n",
    "# 交集就是两个集合中都有的元素，使用 & 运算符或者 intersection() 方法。\n",
    "set1 = {1, 2, 3, 4, 5}\n",
    "set2 = {4, 5, 6, 7, 8}\n",
    "print(set1 & set2) # {4, 5}\n",
    "print(set1.intersection(set2)) # {4, 5}\n",
    "\n",
    "# 并集\n",
    "# 并集就是两个集合中所有的元素，使用 | 运算符或者 union() 方法。\n",
    "print(set1 | set2) # {1, 2, 3, 4, 5, 6, 7, 8}\n",
    "print(set1.union(set2)) # {1, 2, 3, 4, 5, 6, 7, 8}\n",
    "\n",
    "# 差集\n",
    "# 差集就是两个集合中不重复的元素，使用 - 运算符或者 difference() 方法。\n",
    "print(set1 - set2) # {1, 2, 3}\n",
    "print(set1.difference(set2)) # {1, 2, 3}\n",
    "\n",
    "# 对称差集\n",
    "# 对称差集就是两个集合中不重复的元素，使用 ^ 运算符或者 symmetric_difference() 方法。\n",
    "print(set1 ^ set2) # {1, 2, 3, 6, 7, 8}\n",
    "print(set1.symmetric_difference(set2)) # {1, 2, 3, 6, 7, 8}\n",
    "\n",
    "# 对称差集也可以理解为两个集合的并集减去交集。\n",
    "print(set1 ^ set2 == (set1 | set2) - (set1 & set2)) # True"
   ]
  },
  {
   "cell_type": "code",
   "execution_count": 16,
   "metadata": {},
   "outputs": [
    {
     "name": "stdout",
     "output_type": "stream",
     "text": [
      "True\n",
      "True\n",
      "True\n",
      "True\n",
      "--------------------\n",
      "True\n",
      "False\n",
      "True\n",
      "False\n",
      "True\n",
      "--------------------\n",
      "True\n",
      "True\n",
      "True\n",
      "True\n",
      "False\n",
      "False\n"
     ]
    }
   ],
   "source": [
    "# 逻辑运算符\n",
    "# 逻辑运算符主要包括：子集、超集。\n",
    "# 子集\n",
    "# 子集就是一个集合中的所有元素都在另一个集合中，使用 <= 运算符或者 issubset() 方法。\n",
    "set1 = {1, 2, 3}\n",
    "set2 = {1, 2, 3, 4, 5}\n",
    "print(set1 <= set2) # True\n",
    "print(set1.issubset(set2)) # True\n",
    "\n",
    "# 超集\n",
    "# 超集就是一个集合包含另一个集合中的所有元素，使用 >= 运算符或者 issuperset() 方法。\n",
    "print(set2 >= set1) # True\n",
    "print(set2.issuperset(set1)) # True\n",
    "\n",
    "print(\"--------------------\")\n",
    "\n",
    "# == 和 is 的区别\n",
    "# == 用于判断两个集合的元素是否相同\n",
    "# is 用于判断两个集合是否是同一个对象\n",
    "set1 = {1, 2, 3}\n",
    "set2 = {3, 2, 1}\n",
    "print(set1 == set2) # True\n",
    "print(set1 is set2) # False\n",
    "\n",
    "set3 = set1\n",
    "print(set1 is set3) # True\n",
    "\n",
    "# != 和 is not 的区别\n",
    "# != 用于判断两个集合的元素是否不相同\n",
    "# is not 用于判断两个集合是否不是同一个对象\n",
    "print(set1 != set2) # False\n",
    "print(set1 is not set2) # True\n",
    "\n",
    "print(\"--------------------\")\n",
    "\n",
    "# < 和 <= 的区别\n",
    "# < 用于判断一个集合是否是另一个集合的真子集\n",
    "# <= 用于判断一个集合是否是另一个集合的子集\n",
    "set1 = {1, 2}\n",
    "set2 = {1, 2, 3}\n",
    "print(set1 < set2) # True\n",
    "print(set1 <= set2) # True\n",
    "print(set1.issubset(set2)) # True\n",
    "print(set2.issuperset(set1)) # True\n",
    "print(set1 > set2) # False\n",
    "print(set1 >= set2) # False"
   ]
  },
  {
   "cell_type": "code",
   "execution_count": 21,
   "metadata": {},
   "outputs": [
    {
     "name": "stdout",
     "output_type": "stream",
     "text": [
      "{1, 2, 3}\n",
      "{1, 2, 3, 4, 5, 6}\n",
      "--------------------\n",
      "{2, 3, 4, 5, 6}\n",
      "{3, 4, 5, 6}\n",
      "{3, 4, 5, 6}\n",
      "--------------------\n",
      "{4, 5, 6}\n",
      "set()\n",
      "{1, 2, 3}\n",
      "--------------------\n",
      "100在集合中\n",
      "{33, 1, 22, 55, 1000}\n"
     ]
    }
   ],
   "source": [
    "# 集合的方法\n",
    "# 集合的方法主要包括：add()、remove()、discard()、pop()、clear()、copy()、update()。\n",
    "# 创建一个空集合\n",
    "s = set()\n",
    "\n",
    "# add() 方法用于向集合中添加元素\n",
    "s.add(1)\n",
    "s.add(2)\n",
    "s.add(3)\n",
    "print(s) # {1, 2, 3}\n",
    "\n",
    "# update() 方法用于向集合中添加多个元素\n",
    "s.update([4, 5, 6])\n",
    "print(s) # {1, 2, 3, 4, 5, 6}\n",
    "\n",
    "print(\"--------------------\")\n",
    "\n",
    "# remove() 方法用于删除集合中的指定元素，如果元素不存在则会抛出异常\n",
    "s.remove(1)\n",
    "print(s) # {2, 3, 4, 5, 6}\n",
    "# s.remove(7) # KeyError: 7\n",
    "\n",
    "# discard() 方法用于删除集合中的指定元素，如果元素不存在则不会抛出异常\n",
    "s.discard(2)\n",
    "print(s) # {3, 4, 5, 6}\n",
    "s.discard(7)\n",
    "print(s) # {3, 4, 5, 6}\n",
    "\n",
    "print(\"--------------------\")\n",
    "\n",
    "# pop() 方法用于删除集合中的任意一个元素\n",
    "s.pop()\n",
    "print(s) # {4, 5, 6}\n",
    "\n",
    "# clear() 方法用于清空集合\n",
    "s.clear()\n",
    "print(s) # set()\n",
    "\n",
    "# copy() 方法用于复制一个集合\n",
    "s = {1, 2, 3}\n",
    "s1 = s.copy()\n",
    "print(s1) # {1, 2, 3}\n",
    "\n",
    "print(\"--------------------\")\n",
    "set1 = {33, 1, 100, 55, 1000, 22}\n",
    "if 100 in set1:\n",
    "    print(\"100在集合中\")\n",
    "    set1.remove(100)\n",
    "    print(set1)\n"
   ]
  },
  {
   "cell_type": "code",
   "execution_count": 23,
   "metadata": {},
   "outputs": [
    {
     "name": "stdout",
     "output_type": "stream",
     "text": [
      "True\n",
      "False\n",
      "True\n"
     ]
    }
   ],
   "source": [
    "# 判断两个集合是否有交集可以使用 isdisjoint() 方法，如果没有交集则返回 True，否则返回 False。\n",
    "set1 = {1, 2, 3}\n",
    "set2 = {4, 5, 6}\n",
    "print(set1.isdisjoint(set2)) # True\n",
    "\n",
    "set1 = {'Java', 'Python', 'C', 'C++'}\n",
    "set2 = {'Python', 'Ruby', 'Go', 'Swift'}\n",
    "set3 = {'Java', 'C', 'C++'}\n",
    "print(set1.isdisjoint(set2)) # False\n",
    "print(set3.isdisjoint(set2)) # True\n"
   ]
  },
  {
   "cell_type": "code",
   "execution_count": 27,
   "metadata": {},
   "outputs": [
    {
     "name": "stdout",
     "output_type": "stream",
     "text": [
      "['__and__', '__class__', '__class_getitem__', '__contains__', '__delattr__', '__dir__', '__doc__', '__eq__', '__format__', '__ge__', '__getattribute__', '__getstate__', '__gt__', '__hash__', '__iand__', '__init__', '__init_subclass__', '__ior__', '__isub__', '__iter__', '__ixor__', '__le__', '__len__', '__lt__', '__ne__', '__new__', '__or__', '__rand__', '__reduce__', '__reduce_ex__', '__repr__', '__ror__', '__rsub__', '__rxor__', '__setattr__', '__sizeof__', '__str__', '__sub__', '__subclasshook__', '__xor__', 'add', 'clear', 'copy', 'difference', 'difference_update', 'discard', 'intersection', 'intersection_update', 'isdisjoint', 'issubset', 'issuperset', 'pop', 'remove', 'symmetric_difference', 'symmetric_difference_update', 'union', 'update']\n",
      "57\n"
     ]
    }
   ],
   "source": [
    "print(dir(set)) # 查看集合的所有方法\n",
    "print(len(dir(set))) # 查看集合的所有方法的个数"
   ]
  },
  {
   "cell_type": "code",
   "execution_count": 29,
   "metadata": {},
   "outputs": [
    {
     "name": "stdout",
     "output_type": "stream",
     "text": [
      "frozenset({1, 2, 3, 4, 5})\n",
      "frozenset({1, 3, 5, 7})\n",
      "frozenset({1, 2, 3, 4, 5})\n",
      "frozenset({1, 3, 5})\n",
      "frozenset({1, 3, 5})\n",
      "frozenset({1, 2, 3, 4, 5, 7})\n",
      "frozenset({1, 2, 3, 4, 5, 7})\n",
      "frozenset({7})\n",
      "frozenset({7})\n",
      "frozenset({2, 4, 7})\n",
      "frozenset({2, 4, 7})\n"
     ]
    }
   ],
   "source": [
    "# 不可变集合\n",
    "# python 提供了一个不可变集合 frozenset，不可变集合的元素不能修改，添加或删除。\n",
    "# 创建一个不可变集合\n",
    "s = frozenset([1, 2, 3, 4, 5])\n",
    "print(s) # frozenset({1, 2, 3, 4, 5})\n",
    "\n",
    "# s.add(6) # AttributeError: 'frozenset' object has no attribute 'add'\n",
    "# s.remove(1) # AttributeError: 'frozenset' object has no attribute 'remove'\n",
    "# s.discard(2) # AttributeError: 'frozenset' object has no attribute 'discard'\n",
    "# s.pop() # AttributeError: 'frozenset' object has no attribute 'pop'\n",
    "# s.clear() # AttributeError: 'frozenset' object has no attribute 'clear'\n",
    "\n",
    "# 不可变集合的方法\n",
    "# 不可变集合的方法主要包括：copy()、difference()、intersection()、isdisjoint()、issubset()、issuperset()、symmetric_difference()、union()。\n",
    "# 创建一个不可变集合\n",
    "set1 = frozenset({1, 3, 5, 7})\n",
    "set2 = frozenset(range(1, 6))\n",
    "print(set1) # frozenset({1, 3, 5, 7})\n",
    "print(set2) # frozenset({1, 2, 3, 4, 5})\n",
    "\n",
    "# 交集\n",
    "print(set1 & set2) # frozenset({1, 3, 5})\n",
    "print(set1.intersection(set2)) # frozenset({1, 3, 5})\n",
    "\n",
    "# 并集\n",
    "print(set1 | set2) # frozenset({1, 2, 3, 4, 5, 7})\n",
    "print(set1.union(set2)) # frozenset({1, 2, 3, 4, 5, 7})\n",
    "\n",
    "# 差集\n",
    "print(set1 - set2) # frozenset({7})\n",
    "print(set1.difference(set2)) # frozenset({7})\n",
    "\n",
    "# 对称差集\n",
    "print(set1 ^ set2) # frozenset({2, 4, 7})\n",
    "print(set1.symmetric_difference(set2)) # frozenset({2, 4, 7})"
   ]
  },
  {
   "cell_type": "code",
   "execution_count": 31,
   "metadata": {},
   "outputs": [
    {
     "name": "stdout",
     "output_type": "stream",
     "text": [
      "{(1, 2, 3), 4, 5}\n"
     ]
    }
   ],
   "source": [
    "# 简单总结\n",
    "# Python中的集合底层使用了哈希存储的方式，所以集合中的元素是无序的，不重复的。\n",
    "# 集合是一种容器，元素必须是哈希类型，所以集合中的元素不能是列表、字典等可变类型。\n",
    "# set1 = {[1, 2, 3], 4, 5} # TypeError: unhashable type: 'list'\n",
    "# set2 = {{'name': 'Tom', 'age': 18}, 4, 5} # TypeError: unhashable type: 'dict'\n",
    "set3 = {(1, 2, 3), 4, 5}\n",
    "print(set3) # {(1, 2, 3), 4, 5}\n",
    "\n",
    "# 与list不同的地方，集合是无序的，不能通过索引来访问元素，也不能切片。\n",
    "# 与tuple不同的地方，集合是可变的，可以添加或删除元素。\n",
    "# 与字典不同的地方，集合是无序的，只有key没有value。\n",
    "# 集合的主要作用是去重，关系测试，集合的运算等。"
   ]
  }
 ],
 "metadata": {
  "kernelspec": {
   "display_name": "base",
   "language": "python",
   "name": "python3"
  },
  "language_info": {
   "codemirror_mode": {
    "name": "ipython",
    "version": 3
   },
   "file_extension": ".py",
   "mimetype": "text/x-python",
   "name": "python",
   "nbconvert_exporter": "python",
   "pygments_lexer": "ipython3",
   "version": "3.12.7"
  }
 },
 "nbformat": 4,
 "nbformat_minor": 2
}
