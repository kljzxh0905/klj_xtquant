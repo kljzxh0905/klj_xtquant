{
 "cells": [
  {
   "cell_type": "code",
   "execution_count": 1,
   "metadata": {},
   "outputs": [
    {
     "name": "stdout",
     "output_type": "stream",
     "text": [
      "小明成绩提升了18.1%\n"
     ]
    }
   ],
   "source": [
    "# 变量的格式化输出\n",
    "# 1. %s 字符串\n",
    "# 2. %d 整数\n",
    "# 3. %f 浮点数\n",
    "# 4. %x 十六进制整数\n",
    "# 5. %% 输出%\n",
    "\n",
    "s1 = 72\n",
    "s2 = 85\n",
    "r = (s2 - s1) / s1 * 100\n",
    "print('小明成绩提升了%.1f%%' % r)"
   ]
  },
  {
   "cell_type": "code",
   "execution_count": 2,
   "metadata": {},
   "outputs": [
    {
     "name": "stdout",
     "output_type": "stream",
     "text": [
      "我的名字叫 小明，请多多关照！\n"
     ]
    }
   ],
   "source": [
    "# 定义字符串变量 name，输出 我的名字叫 小明，请多多关照！\n",
    "name = '小明'\n",
    "print('我的名字叫 %s，请多多关照！' % name)"
   ]
  },
  {
   "cell_type": "code",
   "execution_count": 3,
   "metadata": {},
   "outputs": [
    {
     "name": "stdout",
     "output_type": "stream",
     "text": [
      "我的学号是 000001\n"
     ]
    }
   ],
   "source": [
    "# 定义整数变量 student_no，输出 我的学号是 000001\n",
    "student_no = 1\n",
    "print('我的学号是 %06d' % student_no)"
   ]
  },
  {
   "cell_type": "code",
   "execution_count": 4,
   "metadata": {},
   "outputs": [
    {
     "name": "stdout",
     "output_type": "stream",
     "text": [
      "苹果单价 9.00 元/斤，购买了 5.00 斤，需要支付 45.00\n"
     ]
    }
   ],
   "source": [
    "# 定义小数 price、weight、money，输出 苹果单价 9.00 元/斤，购买了 5.00 斤，需要支付 45\n",
    "price = 9\n",
    "weight = 5\n",
    "money = price * weight\n",
    "print('苹果单价 %.2f 元/斤，购买了 %.2f 斤，需要支付 %.2f' % (price, weight, money))"
   ]
  },
  {
   "cell_type": "code",
   "execution_count": 5,
   "metadata": {},
   "outputs": [
    {
     "name": "stdout",
     "output_type": "stream",
     "text": [
      "数据比例是 10.00%\n"
     ]
    }
   ],
   "source": [
    "# 定义一个小数 scale，输出 数据比例是 10.00%\n",
    "scale = 0.1\n",
    "print('数据比例是 %.2f%%' % (scale * 100))"
   ]
  },
  {
   "cell_type": "code",
   "execution_count": 6,
   "metadata": {},
   "outputs": [
    {
     "name": "stdout",
     "output_type": "stream",
     "text": [
      "八进制输出:0o144\n",
      "十六进制输出:0x64\n",
      "二进制输出: 0b1100100\n"
     ]
    }
   ],
   "source": [
    "# 整数格式化输出\n",
    "num = 100\n",
    "print(\"八进制输出:0o%o\" % (num))\n",
    "print(\"十六进制输出:0x%x\" % (num))\n",
    "print(\"二进制输出:\", bin(num))"
   ]
  },
  {
   "cell_type": "code",
   "execution_count": 7,
   "metadata": {},
   "outputs": [
    {
     "name": "stdout",
     "output_type": "stream",
     "text": [
      "['False', 'None', 'True', 'and', 'as', 'assert', 'async', 'await', 'break', 'class', 'continue', 'def', 'del', 'elif', 'else', 'except', 'finally', 'for', 'from', 'global', 'if', 'import', 'in', 'is', 'lambda', 'nonlocal', 'not', 'or', 'pass', 'raise', 'return', 'try', 'while', 'with', 'yield']\n"
     ]
    }
   ],
   "source": [
    "import keyword\n",
    "print(keyword.kwlist)"
   ]
  },
  {
   "cell_type": "code",
   "execution_count": 8,
   "metadata": {},
   "outputs": [
    {
     "name": "stdout",
     "output_type": "stream",
     "text": [
      "标准输出:3.141593\n",
      "保留小数点后1位:3.1\n",
      "保留小数点后2位:3.14\n",
      "保留小数点后3位:3.142\n",
      "科学计数法:3.141593e+00\n",
      "科学计数法:3.14e+00\n"
     ]
    }
   ],
   "source": [
    "# 浮点数格式化输出\n",
    "f = 3.1415926\n",
    "print(\"标准输出:%f\" % f) # 默认保留6位小数\n",
    "print(\"保留小数点后1位:%.1f\" % f)\n",
    "print(\"保留小数点后2位:%.2f\" % f)\n",
    "print(\"保留小数点后3位:%.3f\" % f)\n",
    "print(\"科学计数法:%e\" % f)\n",
    "print(\"科学计数法:%.2e\" % f)\n",
    "\n"
   ]
  },
  {
   "cell_type": "code",
   "execution_count": 9,
   "metadata": {},
   "outputs": [
    {
     "name": "stdout",
     "output_type": "stream",
     "text": [
      "标准字符串输出:www.baidu.com\n",
      "固定空间输出右对齐:       www.baidu.com\n",
      "固定空间输出左对齐:www.baidu.com       \n",
      "固定空间输出居中:   www.baidu.com    \n",
      "截取字符串输出:www.b\n",
      "固定空间截取:       www.\n",
      "固定空间截取: www.      \n"
     ]
    }
   ],
   "source": [
    "# 字符串格式化输出\n",
    "s = 'www.baidu.com'\n",
    "print(\"标准字符串输出:%s\" % s)\n",
    "print(\"固定空间输出右对齐:%20s\" % s)\n",
    "print(\"固定空间输出左对齐:%-20s\" % s)\n",
    "print(\"固定空间输出居中:%s\" % s.center(20))\n",
    "print(\"截取字符串输出:%.5s\" % s)\n",
    "print(\"固定空间截取: %10.4s\" % s)\n",
    "print(\"固定空间截取: %-10.4s\" % s)"
   ]
  },
  {
   "cell_type": "code",
   "execution_count": 10,
   "metadata": {},
   "outputs": [
    {
     "name": "stdout",
     "output_type": "stream",
     "text": [
      "format格式化输出:www.baidu.com\n",
      "小明的年龄是: 18 岁.\n",
      "100转成十六进制是: 0x64\n",
      "100转成八进制是: 0o144\n",
      "100转成二进制是: 0b1100100\n"
     ]
    }
   ],
   "source": [
    "# format格式化输出\n",
    "print(\"format格式化输出:{}\".format(s))\n",
    "print(\"小明的年龄是: {} 岁.\".format(18))\n",
    "print(\"100转成十六进制是: 0x{:x}\".format(100))\n",
    "print(\"100转成八进制是: 0o{:o}\".format(100))\n",
    "print(\"100转成二进制是: 0b{:b}\".format(100))"
   ]
  },
  {
   "cell_type": "code",
   "execution_count": 11,
   "metadata": {},
   "outputs": [
    {
     "name": "stdout",
     "output_type": "stream",
     "text": [
      "标准输出:3.141593\n",
      "保留小数点后1位:3.1\n",
      "保留小数点后2位:3.14\n",
      "保留小数点后3位:3.142\n"
     ]
    }
   ],
   "source": [
    "# format 浮点数格式化输出\n",
    "print(\"标准输出:{:f}\".format(f)) # 默认保留6位小数\n",
    "print(\"保留小数点后1位:{:.1f}\".format(f))\n",
    "print(\"保留小数点后2位:{:.2f}\".format(f))\n",
    "print(\"保留小数点后3位:{:.3f}\".format(f))"
   ]
  },
  {
   "cell_type": "code",
   "execution_count": 12,
   "metadata": {},
   "outputs": [
    {
     "name": "stdout",
     "output_type": "stream",
     "text": [
      "科学计数法:3.141593e+00\n",
      "科学计数法:3.14e+00\n"
     ]
    }
   ],
   "source": [
    "# format 指数格式化输出\n",
    "print(\"科学计数法:{:e}\".format(f))\n",
    "print(\"科学计数法:{:.2e}\".format(f))"
   ]
  },
  {
   "cell_type": "code",
   "execution_count": 13,
   "metadata": {},
   "outputs": [
    {
     "name": "stdout",
     "output_type": "stream",
     "text": [
      "标准字符串输出:www.baidu.com\n",
      "固定空间输出右对齐:       www.baidu.com\n",
      "固定空间输出左对齐:www.baidu.com       \n",
      "固定空间输出居中:   www.baidu.com    \n",
      "固定空间输出居中两边填充特定字符:***www.baidu.com****\n",
      "截取字符串输出:www.b\n",
      "固定空间截取:      www.\n"
     ]
    }
   ],
   "source": [
    "# format 字符串格式化输出\n",
    "print(\"标准字符串输出:{}\".format(s))\n",
    "print(\"固定空间输出右对齐:{:>20}\".format(s))\n",
    "print(\"固定空间输出左对齐:{:<20}\".format(s))\n",
    "print(\"固定空间输出居中:{:^20}\".format(s))\n",
    "print(\"固定空间输出居中两边填充特定字符:{:*^20}\".format(s)) # 只能填充一个字符\n",
    "print(\"截取字符串输出:{:.5}\".format(s))\n",
    "print(\"固定空间截取:{:>10.4}\".format(s))"
   ]
  },
  {
   "cell_type": "code",
   "execution_count": 14,
   "metadata": {},
   "outputs": [
    {
     "name": "stdout",
     "output_type": "stream",
     "text": [
      "f-string格式化输出:www.baidu.com\n",
      "小明的年龄是: 18 岁.\n",
      "100转成十六进制是: 0x64\n",
      "100转成八进制是: 0o144\n",
      "100转成二进制是: 0b1100100\n",
      "标准输出:3.1415926\n",
      "保留小数点后1位:3.1\n",
      "保留小数点后2位:3.14\n",
      "保留小数点后3位:3.142\n",
      "科学计数法:3.141593e+00\n",
      "科学计数法:3.14e+00\n",
      "标准字符串输出:www.baidu.com\n",
      "固定空间输出右对齐:       www.baidu.com\n",
      "固定空间输出左对齐:www.baidu.com       \n",
      "固定空间输出居中:   www.baidu.com    \n",
      "截取字符串输出:www.b\n",
      "固定空间截取:      www.\n",
      "固定空间截取:******www.\n",
      "固定空间截取:www.******\n",
      "Hello, 小明! You have 45.00 dollars.\n"
     ]
    }
   ],
   "source": [
    "# f - string 格式化输出\n",
    "print(f\"f-string格式化输出:{s}\")\n",
    "print(f\"小明的年龄是: {18} 岁.\")\n",
    "print(f\"100转成十六进制是: 0x{100:x}\")\n",
    "print(f\"100转成八进制是: 0o{100:o}\")\n",
    "print(f\"100转成二进制是: 0b{100:b}\")\n",
    "print(f\"标准输出:{f}\") # 默认保留6位小数\n",
    "print(f\"保留小数点后1位:{f:.1f}\")\n",
    "print(f\"保留小数点后2位:{f:.2f}\")\n",
    "print(f\"保留小数点后3位:{f:.3f}\")\n",
    "print(f\"科学计数法:{f:e}\")\n",
    "print(f\"科学计数法:{f:.2e}\")\n",
    "print(f\"标准字符串输出:{s}\")\n",
    "print(f\"固定空间输出右对齐:{s:>20}\")\n",
    "print(f\"固定空间输出左对齐:{s:<20}\")\n",
    "print(f\"固定空间输出居中:{s:^20}\")\n",
    "print(f\"截取字符串输出:{s:.5}\")\n",
    "print(f\"固定空间截取:{s:>10.4}\")\n",
    "print(f\"固定空间截取:{s:*>10.4}\")\n",
    "print(f\"固定空间截取:{s:*<10.4}\")\n",
    "print(f\"Hello, {name}! You have {money:.2f} dollars.\")"
   ]
  }
 ],
 "metadata": {
  "kernelspec": {
   "display_name": "base",
   "language": "python",
   "name": "python3"
  },
  "language_info": {
   "codemirror_mode": {
    "name": "ipython",
    "version": 3
   },
   "file_extension": ".py",
   "mimetype": "text/x-python",
   "name": "python",
   "nbconvert_exporter": "python",
   "pygments_lexer": "ipython3",
   "version": "3.12.7"
  }
 },
 "nbformat": 4,
 "nbformat_minor": 2
}
