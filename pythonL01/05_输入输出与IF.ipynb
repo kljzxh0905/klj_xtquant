{
 "cells": [
  {
   "cell_type": "code",
   "execution_count": 1,
   "metadata": {},
   "outputs": [],
   "source": [
    "# 标识符与关键字\n",
    "# 标识符：由字母、数字、下划线组成，不能以数字开头，不能是关键字\n",
    "# 关键字：python中有35个关键字"
   ]
  },
  {
   "cell_type": "code",
   "execution_count": 2,
   "metadata": {},
   "outputs": [
    {
     "name": "stdout",
     "output_type": "stream",
     "text": [
      "可以进入网吧嗨皮\n",
      "我喜欢大保健\n"
     ]
    }
   ],
   "source": [
    "# if 语句\n",
    "# if 条件表达式:\n",
    "#     代码块\n",
    "\n",
    "# 定义年龄变量\n",
    "age = 18\n",
    "\n",
    "# 判断是否满18岁\n",
    "if age >= 18:\n",
    "    print(\"可以进入网吧嗨皮\")\n",
    "    print(\"我喜欢大保健\")\n",
    "else:\n",
    "    print(\"回家写作业吧\")"
   ]
  },
  {
   "cell_type": "code",
   "execution_count": 3,
   "metadata": {},
   "outputs": [
    {
     "name": "stdout",
     "output_type": "stream",
     "text": [
      "你还是回家喝奶吧\n"
     ]
    }
   ],
   "source": [
    "# 判断是否大于21岁\n",
    "if age >= 21:\n",
    "    print(\"可以喝酒\")\n",
    "else:\n",
    "    print(\"你还是回家喝奶吧\")"
   ]
  },
  {
   "cell_type": "code",
   "execution_count": 4,
   "metadata": {},
   "outputs": [
    {
     "name": "stdout",
     "output_type": "stream",
     "text": [
      "回家写作业吧\n"
     ]
    }
   ],
   "source": [
    "age = int(input(\"请输入你的年龄：\"))\n",
    "if age >= 18:\n",
    "    print(\"可以进入网吧嗨皮\")\n",
    "else:\n",
    "    print(\"回家写作业吧\")"
   ]
  },
  {
   "cell_type": "code",
   "execution_count": 5,
   "metadata": {},
   "outputs": [
    {
     "name": "stdout",
     "output_type": "stream",
     "text": [
      "['False', 'None', 'True', 'and', 'as', 'assert', 'async', 'await', 'break', 'class', 'continue', 'def', 'del', 'elif', 'else', 'except', 'finally', 'for', 'from', 'global', 'if', 'import', 'in', 'is', 'lambda', 'nonlocal', 'not', 'or', 'pass', 'raise', 'return', 'try', 'while', 'with', 'yield']\n"
     ]
    }
   ],
   "source": [
    "import keyword\n",
    "print(keyword.kwlist)"
   ]
  },
  {
   "cell_type": "code",
   "execution_count": 6,
   "metadata": {},
   "outputs": [
    {
     "name": "stdout",
     "output_type": "stream",
     "text": [
      "True\n",
      "False\n",
      "True\n",
      "False\n",
      "False\n",
      "True\n"
     ]
    }
   ],
   "source": [
    "# 逻辑运算\n",
    "# and 与\n",
    "# or 或\n",
    "# not 非\n",
    "# 逻辑运算的优先级：() > not > and > or\n",
    "# 逻辑运算的短路现象：如果通过前面的条件已经可以确定整个表达式的值，则后面的条件不再判断\n",
    "a = 1\n",
    "b = 2\n",
    "c = 3\n",
    "d = 4\n",
    "print(a < b and c < d)\n",
    "print(a < b and c > d)\n",
    "print(a < b or c > d)\n",
    "print(a > b or c > d)\n",
    "print(not a < b)\n",
    "print(not a > b)"
   ]
  },
  {
   "cell_type": "code",
   "execution_count": 7,
   "metadata": {},
   "outputs": [
    {
     "name": "stdout",
     "output_type": "stream",
     "text": [
      "不出门\n"
     ]
    }
   ],
   "source": [
    "天气 = False\n",
    "if not 天气:\n",
    "    print(\"不出门\")\n",
    "else:\n",
    "    print(\"出门\")"
   ]
  },
  {
   "cell_type": "code",
   "execution_count": null,
   "metadata": {},
   "outputs": [
    {
     "name": "stdout",
     "output_type": "stream",
     "text": [
      "年龄正确\n"
     ]
    }
   ],
   "source": [
    "age = 100\n",
    "\n",
    "if age >= 0 and age <= 120:\n",
    "    print(\"年龄正确\")\n",
    "else:\n",
    "    print(\"年龄不正确\")"
   ]
  },
  {
   "cell_type": "code",
   "execution_count": 9,
   "metadata": {},
   "outputs": [
    {
     "name": "stdout",
     "output_type": "stream",
     "text": [
      "考试通过\n"
     ]
    }
   ],
   "source": [
    "python_score = 80\n",
    "c_score = 60\n",
    "\n",
    "if python_score > 60 or c_score > 60:\n",
    "    print(\"考试通过\")\n",
    "else:\n",
    "    print(\"考试失败\")"
   ]
  },
  {
   "cell_type": "code",
   "execution_count": 10,
   "metadata": {},
   "outputs": [
    {
     "name": "stdout",
     "output_type": "stream",
     "text": [
      "非本公司人员，请勿入内\n"
     ]
    }
   ],
   "source": [
    "is_employee = False\n",
    "if not is_employee:\n",
    "    print(\"非本公司人员，请勿入内\")\n",
    "else:\n",
    "    print(\"欢迎光临\")"
   ]
  },
  {
   "cell_type": "code",
   "execution_count": 11,
   "metadata": {},
   "outputs": [
    {
     "name": "stdout",
     "output_type": "stream",
     "text": [
      "不及格\n"
     ]
    }
   ],
   "source": [
    "# if...elif...else\n",
    "# if 条件表达式1:\n",
    "#     代码块1\n",
    "# elif 条件表达式2:\n",
    "#     代码块2\n",
    "# elif 条件表达式3:\n",
    "#     代码块3\n",
    "# ...\n",
    "# else:\n",
    "#     代码块n\n",
    "\n",
    "# 定义一个整数变量记录成绩\n",
    "score = int(input(\"请输入你的成绩：\"))\n",
    "\n",
    "# 判断成绩\n",
    "if score >= 90:\n",
    "    print(\"优秀\")\n",
    "elif score >= 80:\n",
    "    print(\"良好\")\n",
    "elif score >= 60:\n",
    "    print(\"及格\")\n",
    "else:\n",
    "    print(\"不及格\")"
   ]
  },
  {
   "cell_type": "code",
   "execution_count": 14,
   "metadata": {},
   "outputs": [
    {
     "name": "stdout",
     "output_type": "stream",
     "text": [
      "每天都是节日\n"
     ]
    }
   ],
   "source": [
    "holiday_name = \"春节\"\n",
    "\n",
    "if holiday_name == \"情人节\":\n",
    "    print(\"买玫瑰\")\n",
    "    print(\"看电影\")\n",
    "elif holiday_name == \"平安夜\":\n",
    "    print(\"买苹果\")\n",
    "    print(\"吃大餐\")\n",
    "elif holiday_name == \"生日\":\n",
    "    print(\"买蛋糕\")\n",
    "else:\n",
    "    print(\"每天都是节日\")"
   ]
  },
  {
   "cell_type": "code",
   "execution_count": 17,
   "metadata": {},
   "outputs": [
    {
     "name": "stdout",
     "output_type": "stream",
     "text": [
      "车票检查通过，准备安检\n",
      "刀具长度21cm，超过安检标准，无法进站\n"
     ]
    }
   ],
   "source": [
    "# if 嵌套\n",
    "# if 条件表达式1:\n",
    "#     代码块1\n",
    "#     if 条件表达式2:\n",
    "#         代码块2\n",
    "#     else:\n",
    "#         代码块3\n",
    "# else:\n",
    "#     代码块4\n",
    "\n",
    "has_ticket = True\n",
    "knife_length = 21\n",
    "\n",
    "if has_ticket:\n",
    "    print(\"车票检查通过，准备安检\")\n",
    "    if knife_length > 20:\n",
    "        # print(\"刀长%dcm，超过安检标准，无法进站\" % knife_length)\n",
    "        print(f\"刀具长度{knife_length}cm，超过安检标准，无法进站\")\n",
    "    else:\n",
    "        print(\"安检通过，进站\")\n",
    "else:\n",
    "    print(\"请先买票\")\n",
    "\n"
   ]
  },
  {
   "cell_type": "code",
   "execution_count": 20,
   "metadata": {},
   "outputs": [
    {
     "name": "stdout",
     "output_type": "stream",
     "text": [
      "电脑出拳：2\n",
      "您输了\n"
     ]
    }
   ],
   "source": [
    "# 从控制台输入要出的拳 - 石头（1）/剪刀（2）/布（3）\n",
    "player = int(input(\"请输入您要出的拳 - 石头（1）/剪刀（2）/布（3）：\"))\n",
    "\n",
    "# 电脑随机出拳\n",
    "import random\n",
    "computer = random.randint(1, 3)\n",
    "print(f\"电脑出拳：{computer}\")\n",
    "\n",
    "# 比较胜负\n",
    "# 石头 胜 剪刀\n",
    "# 剪刀 胜 布\n",
    "# 布 胜 石头\n",
    "\n",
    "if (player == 1 and computer == 2) or (player == 2 and computer == 3) or (player == 3 and computer == 1):\n",
    "    print(\"您赢了\")\n",
    "elif player == computer:\n",
    "    print(\"平局\")\n",
    "else:\n",
    "    print(\"您输了\")"
   ]
  },
  {
   "cell_type": "code",
   "execution_count": 26,
   "metadata": {},
   "outputs": [
    {
     "name": "stdout",
     "output_type": "stream",
     "text": [
      "5\n"
     ]
    }
   ],
   "source": [
    "print(random.randint(1, 30)) # 生成[1, 30]之间的随机数，下限必须小于上限\n",
    "# print(random.randint(30, 1)) "
   ]
  }
 ],
 "metadata": {
  "kernelspec": {
   "display_name": "base",
   "language": "python",
   "name": "python3"
  },
  "language_info": {
   "codemirror_mode": {
    "name": "ipython",
    "version": 3
   },
   "file_extension": ".py",
   "mimetype": "text/x-python",
   "name": "python",
   "nbconvert_exporter": "python",
   "pygments_lexer": "ipython3",
   "version": "3.12.7"
  }
 },
 "nbformat": 4,
 "nbformat_minor": 2
}
