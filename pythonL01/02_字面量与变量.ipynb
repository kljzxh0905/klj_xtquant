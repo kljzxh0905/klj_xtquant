{
 "cells": [
  {
   "cell_type": "code",
   "execution_count": 3,
   "metadata": {},
   "outputs": [
    {
     "name": "stdout",
     "output_type": "stream",
     "text": [
      "100 4 64 256\n",
      "3.14 314.0\n",
      "(3+4j) (3+4j)\n",
      "True False\n"
     ]
    }
   ],
   "source": [
    "# 什么是字面量?\n",
    "# 字面量是指在程序中直接使用的数据值\n",
    "\n",
    "# 一. 数字字面量\n",
    "# 数字字面量是指数字的字面量\n",
    "# 1. 整数字面量\n",
    "# 整数字面量是指整数的字面量\n",
    "# 整数字面量有三种表示方式:\n",
    "# 十进制整数字面量: 由数字0-9组成, 不能以0开头\n",
    "# 二进制整数字面量: 由数字0-1组成, 以0b或0B开头\n",
    "# 八进制整数字面量: 由数字0-7组成, 以0o或0O开头\n",
    "# 十六进制整数字面量: 由数字0-9和字母A-F组成, 以0x或0X开头\n",
    "a = 100\n",
    "b = 0b100\n",
    "c = 0o100\n",
    "d = 0x100\n",
    "print(a, b, c, d)\n",
    "\n",
    "# 2. 浮点数字面量\n",
    "# 浮点数字面量是指浮点数的字面量\n",
    "# 浮点数字面量有两种表示方式:\n",
    "# 十进制浮点数字面量: 由数字0-9组成, 必须包含小数点\n",
    "# 科学计数法浮点数字面量: 由数字0-9组成, 必须包含小数点和e或E\n",
    "e = 3.14\n",
    "f = 3.14e2\n",
    "print(e, f)\n",
    "\n",
    "# 3. 复数字面量\n",
    "# 复数字面量是指复数的字面量\n",
    "# 复数字面量有两种表示方式:\n",
    "# 1. 使用j或J表示虚部\n",
    "# 2. 使用complex函数\n",
    "g = 3 + 4j\n",
    "h = complex(3, 4)\n",
    "print(g, h)\n",
    "\n",
    "# 4. 布尔字面量\n",
    "# 布尔字面量是指布尔值的字面量\n",
    "# 布尔字面量有两个: True和False\n",
    "i = True\n",
    "j = False\n",
    "print(i, j)"
   ]
  },
  {
   "cell_type": "code",
   "execution_count": 4,
   "metadata": {},
   "outputs": [
    {
     "name": "stdout",
     "output_type": "stream",
     "text": [
      "hello world hello\n",
      "world\n"
     ]
    }
   ],
   "source": [
    "# 二. 字符串字面量\n",
    "# 字符串字面量是指字符串的字面量\n",
    "# 字符串字面量有三种表示方式:\n",
    "# 1. 单引号字符串字面量: 由单引号包裹的字符串\n",
    "# 2. 双引号字符串字面量: 由双引号包裹的字符串\n",
    "# 3. 三引号字符串字面量: 由三个单引号或双引号包裹的字符串\n",
    "k = 'hello'\n",
    "l = \"world\"\n",
    "m = '''hello\n",
    "world'''\n",
    "print(k, l, m)"
   ]
  },
  {
   "cell_type": "code",
   "execution_count": 5,
   "metadata": {},
   "outputs": [
    {
     "name": "stdout",
     "output_type": "stream",
     "text": [
      "[1, 2, 3] [1, 2, 3]\n"
     ]
    }
   ],
   "source": [
    "# 三.列表字面量\n",
    "# 列表字面量是指列表的字面量\n",
    "# 列表字面量有两种表示方式:\n",
    "# 1. 使用中括号表示列表\n",
    "# 2. 使用list函数\n",
    "n = [1, 2, 3]\n",
    "o = list((1, 2, 3))\n",
    "print(n, o)"
   ]
  },
  {
   "cell_type": "code",
   "execution_count": 6,
   "metadata": {},
   "outputs": [
    {
     "name": "stdout",
     "output_type": "stream",
     "text": [
      "(1, 2, 3) (1, 2, 3)\n"
     ]
    }
   ],
   "source": [
    "# 四.元组字面量\n",
    "# 元组字面量是指元组的字面量\n",
    "# 元组字面量有两种表示方式:\n",
    "# 1. 使用小括号表示元组\n",
    "# 2. 使用tuple函数\n",
    "p = (1, 2, 3)\n",
    "q = tuple([1, 2, 3])\n",
    "print(p, q)"
   ]
  },
  {
   "cell_type": "code",
   "execution_count": 7,
   "metadata": {},
   "outputs": [
    {
     "name": "stdout",
     "output_type": "stream",
     "text": [
      "{1, 2, 3} {1, 2, 3}\n"
     ]
    }
   ],
   "source": [
    "# 五.集合字面量\n",
    "# 集合字面量是指集合的字面量\n",
    "# 集合字面量有两种表示方式:\n",
    "# 1. 使用大括号表示集合\n",
    "# 2. 使用set函数\n",
    "r = {1, 2, 3}\n",
    "s = set([1, 2, 3])\n",
    "print(r, s)"
   ]
  },
  {
   "cell_type": "code",
   "execution_count": 8,
   "metadata": {},
   "outputs": [
    {
     "name": "stdout",
     "output_type": "stream",
     "text": [
      "{'name': 'Tom', 'age': 18} {'name': 'Tom', 'age': 18}\n"
     ]
    }
   ],
   "source": [
    "# 六.字典字面量\n",
    "# 字典字面量是指字典的字面量\n",
    "# 字典字面量有两种表示方式:\n",
    "# 1. 使用大括号表示字典\n",
    "# 2. 使用dict函数\n",
    "t = {'name': 'Tom', 'age': 18}\n",
    "u = dict(name='Tom', age=18)\n",
    "print(t, u)"
   ]
  },
  {
   "cell_type": "code",
   "execution_count": null,
   "metadata": {},
   "outputs": [
    {
     "name": "stdout",
     "output_type": "stream",
     "text": [
      "100 100 200 300\n",
      "1 2 6 7\n"
     ]
    }
   ],
   "source": [
    "# 什么是变量?\n",
    "# 变量是指在程序中用于保存数据的内存空间\n",
    "# 变量的命名规则:\n",
    "# 1. 变量名只能包含字母、数字和下划线\n",
    "# 2. 变量名不能以数字开头,可以以下划线开头，但是不建议，因为在Python中以单下划线开头的变量是私有变量，以双下划线开头的变量是特殊变量\n",
    "# 3. 变量名不能是Python的关键字\n",
    "# 4. 变量名区分大小写\n",
    "# 5. 变量名建议使用小写字母\n",
    "# 6. 变量名建议使用有意义的名字\n",
    "# 7. 变量名建议使用下划线分隔多个单词\n",
    "# 8. 变量名建议使用驼峰命名法\n",
    "\n",
    "# 什么是赋值?\n",
    "# 赋值是指将数据保存到变量中\n",
    "# 赋值的语法:\n",
    "# 变量名 = 数据\n",
    "# 变量名1 = 变量名2 = 数据\n",
    "# 变量名1, 变量名2 = 数据1, 数据2\n",
    "v = 100\n",
    "w = v\n",
    "x, y = 200, 300\n",
    "print(v, w, x, y)\n",
    "\n",
    "a123 = 1\n",
    "_546 = 2\n",
    "# 1a = 3 # 变量名不能以数字开头\n",
    "# a-b = 4 # 变量名只能包含字母、数字和下划线\n",
    "# if = 5 # 变量名不能是Python的关键字\n",
    "# !55qq = 6 # 变量名只能包含字母、数字和下划线,不能包含特殊字符\n",
    "A = 6 # 变量名区分大小写\n",
    "a = 7\n",
    "print(a123, _546, A, a)"
   ]
  },
  {
   "cell_type": "code",
   "execution_count": 11,
   "metadata": {},
   "outputs": [
    {
     "name": "stdout",
     "output_type": "stream",
     "text": [
      "['False', 'None', 'True', 'and', 'as', 'assert', 'async', 'await', 'break', 'class', 'continue', 'def', 'del', 'elif', 'else', 'except', 'finally', 'for', 'from', 'global', 'if', 'import', 'in', 'is', 'lambda', 'nonlocal', 'not', 'or', 'pass', 'raise', 'return', 'try', 'while', 'with', 'yield']\n"
     ]
    }
   ],
   "source": [
    "# 什么是python的关键字?\n",
    "# 关键字是指Python中具有特殊含义的标识符\n",
    "# 关键字的特点:\n",
    "# 1. 不能用作变量名\n",
    "# 2. 区分大小写\n",
    "# 3. 有特殊含义\n",
    "# 4. 有35个关键字\n",
    "# 5. 关键字可以使用keyword模块查看\n",
    "import keyword\n",
    "print(keyword.kwlist)"
   ]
  }
 ],
 "metadata": {
  "kernelspec": {
   "display_name": "base",
   "language": "python",
   "name": "python3"
  },
  "language_info": {
   "codemirror_mode": {
    "name": "ipython",
    "version": 3
   },
   "file_extension": ".py",
   "mimetype": "text/x-python",
   "name": "python",
   "nbconvert_exporter": "python",
   "pygments_lexer": "ipython3",
   "version": "3.12.7"
  }
 },
 "nbformat": 4,
 "nbformat_minor": 2
}
