{
 "cells": [
  {
   "cell_type": "code",
   "execution_count": 14,
   "metadata": {},
   "outputs": [],
   "source": [
    "# 什么是模块？\n",
    "# 一个模块就是一个包含Python代码的文件，后缀名是.py就可以，模块就是个Python文件\n",
    "# 为什么要用模块？\n",
    "# 程序太长，编写维护不方便，需要拆分\n",
    "# 模块可以增加代码重用性\n",
    "# 模块可以被其他程序引入\n",
    "# 如何定义模块？\n",
    "# 每一个以.py结尾的文件都是一个模块\n",
    "# 如何使用模块？\n",
    "# import 模块名\n",
    "# import module1,module2\n",
    "# from module import name1,name2\n",
    "# from module import *\n",
    "# 如何安装模块？\n",
    "# pip install 模块名\n",
    "\n",
    "import sys\n",
    "sys.path.append('d:/miniqmt-demo')"
   ]
  },
  {
   "cell_type": "code",
   "execution_count": 2,
   "metadata": {},
   "outputs": [],
   "source": [
    "# 什么是包？\n",
    "# 包是一种管理Python模块命名空间的形式，采用\"点模块名称\"。\n",
    "# 比如一个模块的名称是A.B， 那么他表示一个包A中的子模块B\n",
    "# 为什么要用包？\n",
    "# 方便管理模块，避免模块重名\n",
    "# 使用import package.module的方式导入\n",
    "# 如何定义包？\n",
    "# 目录下有一个__init__.py文件，那么这个目录就称之为包\n",
    "# __init__.py可以是空文件，也可以有Python代码\n",
    "# __init__.py本身就是一个模块，它的模块名是包名\n",
    "# 如果包含子包，子包目录下也有一个__init__.py文件\n",
    "# 如何使用包？\n",
    "# import package.module\n",
    "# import package.module1,module2\n",
    "# from package import module1,module2\n",
    "# from package.module import name1,name2\n",
    "# from package import *\n",
    "# 如何安装包？\n",
    "# pip install 包名"
   ]
  },
  {
   "cell_type": "code",
   "execution_count": 15,
   "metadata": {},
   "outputs": [
    {
     "name": "stdout",
     "output_type": "stream",
     "text": [
      "d:\\miniqmt-demo\\pythonL02\n"
     ]
    }
   ],
   "source": [
    "import os\n",
    "print(os.getcwd())"
   ]
  },
  {
   "cell_type": "code",
   "execution_count": 16,
   "metadata": {},
   "outputs": [
    {
     "name": "stdout",
     "output_type": "stream",
     "text": [
      "['d:\\\\miniqmt-demo\\\\pythonL02', 'd:\\\\Anaconda\\\\python312.zip', 'd:\\\\Anaconda\\\\DLLs', 'd:\\\\Anaconda\\\\Lib', 'd:\\\\Anaconda', '', 'd:\\\\Anaconda\\\\Lib\\\\site-packages', 'd:\\\\Anaconda\\\\Lib\\\\site-packages\\\\win32', 'd:\\\\Anaconda\\\\Lib\\\\site-packages\\\\win32\\\\lib', 'd:\\\\Anaconda\\\\Lib\\\\site-packages\\\\Pythonwin', 'd:/miniqmt-demo/mypackage', 'd:/miniqmt-demo/mypackage', 'd:/miniqmt-demo']\n"
     ]
    }
   ],
   "source": [
    "import sys\n",
    "print(sys.path)"
   ]
  },
  {
   "cell_type": "code",
   "execution_count": 17,
   "metadata": {},
   "outputs": [],
   "source": [
    "sys.path.append('d:/miniqmt-demo')"
   ]
  },
  {
   "cell_type": "code",
   "execution_count": 18,
   "metadata": {},
   "outputs": [
    {
     "name": "stdout",
     "output_type": "stream",
     "text": [
      "['d:\\\\miniqmt-demo\\\\pythonL02', 'd:\\\\Anaconda\\\\python312.zip', 'd:\\\\Anaconda\\\\DLLs', 'd:\\\\Anaconda\\\\Lib', 'd:\\\\Anaconda', '', 'd:\\\\Anaconda\\\\Lib\\\\site-packages', 'd:\\\\Anaconda\\\\Lib\\\\site-packages\\\\win32', 'd:\\\\Anaconda\\\\Lib\\\\site-packages\\\\win32\\\\lib', 'd:\\\\Anaconda\\\\Lib\\\\site-packages\\\\Pythonwin', 'd:/miniqmt-demo/mypackage', 'd:/miniqmt-demo/mypackage', 'd:/miniqmt-demo', 'd:/miniqmt-demo']\n"
     ]
    }
   ],
   "source": [
    "print(sys.path)"
   ]
  },
  {
   "cell_type": "code",
   "execution_count": null,
   "metadata": {},
   "outputs": [],
   "source": [
    "import test_.module1\n",
    "import test_.module2"
   ]
  },
  {
   "cell_type": "code",
   "execution_count": null,
   "metadata": {},
   "outputs": [
    {
     "name": "stdout",
     "output_type": "stream",
     "text": [
      "func1 in module1\n",
      "func2 in module2\n"
     ]
    }
   ],
   "source": [
    "test_.module1.func1()\n",
    "test_.module2.func2()"
   ]
  },
  {
   "cell_type": "code",
   "execution_count": null,
   "metadata": {},
   "outputs": [
    {
     "name": "stdout",
     "output_type": "stream",
     "text": [
      "func1 in module1\n",
      "func2 in module2\n"
     ]
    }
   ],
   "source": [
    "from test_.module1 import func1\n",
    "from test_.module2 import func2\n",
    "\n",
    "func1()\n",
    "func2()"
   ]
  },
  {
   "cell_type": "code",
   "execution_count": null,
   "metadata": {},
   "outputs": [
    {
     "name": "stdout",
     "output_type": "stream",
     "text": [
      "This is a dog: 旺财\n",
      "This is a cat: 小花\n"
     ]
    }
   ],
   "source": [
    "from test_.module1 import Dog\n",
    "from test_.module2 import Cat\n",
    "\n",
    "d = Dog('旺财')\n",
    "c = Cat('小花')"
   ]
  },
  {
   "cell_type": "code",
   "execution_count": null,
   "metadata": {},
   "outputs": [],
   "source": [
    "from test_.module1 import func1, Dog\n",
    "from test_.module2 import func2, Cat"
   ]
  },
  {
   "cell_type": "code",
   "execution_count": null,
   "metadata": {},
   "outputs": [],
   "source": [
    "from test_.module1 import *\n",
    "from test_.module2 import *"
   ]
  },
  {
   "cell_type": "code",
   "execution_count": 4,
   "metadata": {},
   "outputs": [
    {
     "name": "stdout",
     "output_type": "stream",
     "text": [
      "d:\\Anaconda\\Lib\\random.py\n",
      "87\n"
     ]
    }
   ],
   "source": [
    "# 模块的搜索路径\n",
    "# 当解释器遇到import语句，会在指定的路径下搜索模块\n",
    "# 搜索路径存储在sys模块的path变量中\n",
    "# sys.path是一个列表，可以用append方法添加新的路径\n",
    "# sys.path的第一个路径是空串，表示当前目录\n",
    "\n",
    "# 模块的搜索路径\n",
    "# 1.当前目录\n",
    "# 2.环境变量PYTHONPATH\n",
    "# 3.安装目录\n",
    "# 4.Python内置模块\n",
    "\n",
    "# 包的搜索路径\n",
    "# 1.当前目录\n",
    "# 2.环境变量PYTHONPATH\n",
    "# 3.安装目录\n",
    "# 4.Python内置模块\n",
    "\n",
    "import random\n",
    "print(random.__file__)\n",
    "\n",
    "rand = random.randint(1, 100)\n",
    "print(rand)"
   ]
  },
  {
   "cell_type": "code",
   "execution_count": 3,
   "metadata": {},
   "outputs": [
    {
     "name": "stdout",
     "output_type": "stream",
     "text": [
      "d:\\miniqmt-demo\\pythonL02\\test_\\testmoudule.py\n"
     ]
    }
   ],
   "source": [
    "import test_.testmoudule\n",
    "print(test_.testmoudule.__file__)"
   ]
  },
  {
   "cell_type": "code",
   "execution_count": null,
   "metadata": {},
   "outputs": [
    {
     "name": "stdout",
     "output_type": "stream",
     "text": [
      "Hello, this is a test module.\n"
     ]
    }
   ],
   "source": [
    "test_.testmoudule.say_hello()"
   ]
  },
  {
   "cell_type": "code",
   "execution_count": 1,
   "metadata": {},
   "outputs": [],
   "source": [
    "import test_"
   ]
  },
  {
   "cell_type": "code",
   "execution_count": 2,
   "metadata": {},
   "outputs": [
    {
     "name": "stdout",
     "output_type": "stream",
     "text": [
      "Sending message:  你好\n",
      "receive message from send_message\n"
     ]
    },
    {
     "data": {
      "text/plain": [
       "True"
      ]
     },
     "execution_count": 2,
     "metadata": {},
     "output_type": "execute_result"
    }
   ],
   "source": [
    "import test_.send_message\n",
    "import test_.receive_message\n",
    "\n",
    "test_.send_message.send('你好')\n",
    "test_.receive_message.receive()"
   ]
  },
  {
   "cell_type": "markdown",
   "metadata": {},
   "source": [
    "### 自定义的包与其中的模块导不进来时，重启一下终端就好了"
   ]
  },
  {
   "cell_type": "code",
   "execution_count": null,
   "metadata": {},
   "outputs": [],
   "source": []
  }
 ],
 "metadata": {
  "kernelspec": {
   "display_name": "base",
   "language": "python",
   "name": "python3"
  },
  "language_info": {
   "codemirror_mode": {
    "name": "ipython",
    "version": 3
   },
   "file_extension": ".py",
   "mimetype": "text/x-python",
   "name": "python",
   "nbconvert_exporter": "python",
   "pygments_lexer": "ipython3",
   "version": "3.12.7"
  }
 },
 "nbformat": 4,
 "nbformat_minor": 2
}
