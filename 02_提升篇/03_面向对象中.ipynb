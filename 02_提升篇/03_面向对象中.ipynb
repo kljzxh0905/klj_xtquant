{
 "cells": [
  {
   "cell_type": "code",
   "execution_count": 5,
   "metadata": {},
   "outputs": [
    {
     "name": "stdout",
     "output_type": "stream",
     "text": [
      "100 200 300\n"
     ]
    }
   ],
   "source": [
    "# 父类的私有属性和方法\n",
    "# 在类的继承中，子类可以继承父类的属性和方法，但是不能继承父类的私有属性和方法。\n",
    "# 在类的继承中，子类可以通过父类的公有方法间接访问父类的私有属性和方法。\n",
    "\n",
    "class A:\n",
    "    def __init__(self):\n",
    "        self.__a = 100 # private\n",
    "        self.b = 200 # public\n",
    "        self._c = 300 # protected\n",
    "\n",
    "    def __info(self):\n",
    "        print(self.__a, self.b, self._c)\n",
    "\n",
    "    def test(self):\n",
    "        self.__info()\n",
    "\n",
    "class B(A):\n",
    "    pass\n",
    "    #def test(self):\n",
    "        #print(self.b)\n",
    "        # print(self.__a)  # AttributeError: 'B' object has no attribute '__a'\n",
    "\n",
    "b = B()\n",
    "b.test()"
   ]
  },
  {
   "cell_type": "code",
   "execution_count": null,
   "metadata": {},
   "outputs": [
    {
     "name": "stdout",
     "output_type": "stream",
     "text": [
      "200\n",
      "300\n"
     ]
    }
   ],
   "source": [
    "print(b.b)\n",
    "# print(b.__a)  # AttributeError: 'B' object has no attribute '__a'\n",
    "print(b._c) # 300，protected是可以访问的\n",
    "# b.__info()  # AttributeError: 'B' object has no attribute '__info'"
   ]
  },
  {
   "cell_type": "code",
   "execution_count": null,
   "metadata": {},
   "outputs": [
    {
     "name": "stdout",
     "output_type": "stream",
     "text": [
      "A\n",
      "(<class '__main__.C'>, <class '__main__.B'>, <class '__main__.A'>, <class 'object'>)\n"
     ]
    }
   ],
   "source": [
    "# 什么叫多继承？\n",
    "# 多继承是指一个类可以同时从多个类中继承属性和方法。\n",
    "# 多继承的语法格式如下：\n",
    "# class 类名(父类1, 父类2, ...):\n",
    "#     类体\n",
    "\n",
    "# 多继承的特点：\n",
    "# 一个类可以同时从多个类中继承属性和方法。\n",
    "# 如果多个父类中有同名的属性和方法，子类在调用时，会按照MRO(Method Resolution Order)的顺序调用。\n",
    "# MRO的顺序可以通过类名.__mro__属性查看。\n",
    "# 如果多个父类中有同名的属性和方法，子类可以通过super().父类方法名()的方式调用指定父类的方法。\n",
    "\n",
    "class A:\n",
    "    def test(self):\n",
    "        print('A')\n",
    "\n",
    "class B:\n",
    "    def test1(self): # c.test() 会先找B类中是否有 test() 方法，如果没有再找A类中是否有 test() 方法\n",
    "        print('B')\n",
    "\n",
    "class C(B, A): # 排在前面的优先级高\n",
    "    pass\n",
    "\n",
    "c = C()\n",
    "c.test()  # A\n",
    "print(C.__mro__)  # (<class '__main__.C'>, <class '__main__.B>, <class '__main__.A'>, <class 'object'>)"
   ]
  },
  {
   "cell_type": "code",
   "execution_count": 16,
   "metadata": {},
   "outputs": [
    {
     "data": {
      "text/plain": [
       "['__class__',\n",
       " '__delattr__',\n",
       " '__dict__',\n",
       " '__dir__',\n",
       " '__doc__',\n",
       " '__eq__',\n",
       " '__format__',\n",
       " '__ge__',\n",
       " '__getattribute__',\n",
       " '__getstate__',\n",
       " '__gt__',\n",
       " '__hash__',\n",
       " '__init__',\n",
       " '__init_subclass__',\n",
       " '__le__',\n",
       " '__lt__',\n",
       " '__module__',\n",
       " '__ne__',\n",
       " '__new__',\n",
       " '__reduce__',\n",
       " '__reduce_ex__',\n",
       " '__repr__',\n",
       " '__setattr__',\n",
       " '__sizeof__',\n",
       " '__str__',\n",
       " '__subclasshook__',\n",
       " '__weakref__',\n",
       " 'test']"
      ]
     },
     "execution_count": 16,
     "metadata": {},
     "output_type": "execute_result"
    }
   ],
   "source": [
    "dir(A)"
   ]
  },
  {
   "cell_type": "code",
   "execution_count": null,
   "metadata": {},
   "outputs": [
    {
     "name": "stdout",
     "output_type": "stream",
     "text": [
      "狗在跑\n",
      "猫在跑\n",
      "------------------\n",
      "狗在跑\n",
      "猫在跑\n"
     ]
    }
   ],
   "source": [
    "# 什么是多态？\n",
    "# 多态是指不同的子类对象调用相同的父类方法，产生不同的执行结果。\n",
    "# 多态可以增加代码的灵活度。\n",
    "# 多态的实现需要满足一定的条件：\n",
    "# 1.需要存在继承关系。\n",
    "# 2.需要子类重写父类的方法。\n",
    "# 3.父类引用指向子类对象。\n",
    "\n",
    "class Animal:\n",
    "    def run(self):\n",
    "        pass\n",
    "\n",
    "class Dog(Animal):\n",
    "    def run(self):\n",
    "        print('狗在跑')\n",
    "\n",
    "class Cat(Animal):\n",
    "    def run(self):\n",
    "        print('猫在跑')\n",
    "\n",
    "def func(animal): # 这个animal是一个函数的形参\n",
    "    animal.run() # 这里传入animal时，就是调用animal.run(),传入dog时，就是调用dog.run()，传入cat时，就是调用cat.run()\n",
    "\n",
    "animal = Animal()\n",
    "func(animal) # 这里传入的是一个Animal类的实例，所以调用的是Animal类的run()方法\n",
    "print('------------------')\n",
    "dog = Dog()\n",
    "cat = Cat()\n",
    "func(dog) # 这里传入的是一个Dog类的实例，所以调用的是Dog类的run()方法\n",
    "func(cat) # 这里传入的是一个Cat类的实例，所以调用的是Cat类的run()方法\n",
    "print('------------------')\n",
    "dog.run()\n",
    "cat.run()\n"
   ]
  },
  {
   "cell_type": "code",
   "execution_count": 20,
   "metadata": {},
   "outputs": [
    {
     "name": "stdout",
     "output_type": "stream",
     "text": [
      "狗在跑\n",
      "猫在跑\n",
      "------------------\n",
      "狗在跑\n",
      "猫在跑\n"
     ]
    }
   ],
   "source": [
    "def func1(a): # 把animal改成a\n",
    "    a.run()\n",
    "\n",
    "func1(dog)\n",
    "func1(cat)\n",
    "\n",
    "print('------------------')\n",
    "\n",
    "def func2(b): # 把animal改成b\n",
    "    b.run()\n",
    "\n",
    "func2(dog)\n",
    "func2(cat)"
   ]
  },
  {
   "cell_type": "code",
   "execution_count": 1,
   "metadata": {},
   "outputs": [
    {
     "name": "stdout",
     "output_type": "stream",
     "text": [
      "程序员在写代码\n",
      "设计师在设计\n"
     ]
    }
   ],
   "source": [
    "# 使用多态写三个类，其中人类的工作是父类，具体的工作程序员和设计师是子类\n",
    "class Work:\n",
    "    def work(self):\n",
    "        print('人类需要工作')\n",
    "\n",
    "class Programmer(Work):\n",
    "    def work(self):\n",
    "        print('程序员在写代码')\n",
    "\n",
    "class Designer(Work):\n",
    "    def work(self):\n",
    "        print('设计师在设计')\n",
    "\n",
    "pro = Programmer()\n",
    "des = Designer()\n",
    "\n",
    "pro.work()\n",
    "des.work()\n"
   ]
  },
  {
   "cell_type": "code",
   "execution_count": 2,
   "metadata": {},
   "outputs": [],
   "source": [
    "class Dog1:\n",
    "    # 初始化方法\n",
    "    def __init__(self, name):\n",
    "        self.name = name\n",
    "\n",
    "    # 狗的方法\n",
    "    def game(self):\n",
    "        print('%s在玩耍' % self.name)\n",
    "\n",
    "class XiaoTianQuan(Dog1):\n",
    "    # 初始化方法\n",
    "    '''继承父类的初始化方法'''\n",
    "    \n",
    "\n",
    "    # 狗的方法\n",
    "    def game(self):\n",
    "        print('%s在飞到天上去玩耍' % self.name)\n",
    "\n",
    "\n",
    "class Person:\n",
    "    # 初始化方法\n",
    "    def __init__(self, name):\n",
    "        self.name = name\n",
    "\n",
    "    # 人的方法\n",
    "    def game_with_dog(self, dog):\n",
    "        print('%s和%s在玩耍' % (self.name, dog.name))"
   ]
  },
  {
   "cell_type": "code",
   "execution_count": 3,
   "metadata": {},
   "outputs": [
    {
     "name": "stdout",
     "output_type": "stream",
     "text": [
      "小明和旺财在玩耍\n",
      "小明和哮天犬在玩耍\n"
     ]
    }
   ],
   "source": [
    "wangcai = Dog1('旺财')\n",
    "xiaotianquan = XiaoTianQuan('哮天犬')\n",
    "xiaoming = Person('小明')\n",
    "\n",
    "# 调用人类中的 game_with_dog 方法\n",
    "xiaoming.game_with_dog(wangcai)\n",
    "xiaoming.game_with_dog(xiaotianquan)"
   ]
  },
  {
   "cell_type": "code",
   "execution_count": null,
   "metadata": {},
   "outputs": [],
   "source": [
    "# 什么是类的实例化？\n",
    "# 类的实例化是指通过类创建对象的过程。\n",
    "# 类的实例化的语法格式如下：\n",
    "# 对象名 = 类名()\n",
    "# 类的实例化的特点：\n",
    "# 类的实例化是通过类创建对象的过程。\n",
    "# 类的实例化可以创建多个对象。\n",
    "# 类的实例化会自动调用初始化方法。\n",
    "# 类的实例化可以通过对象名.属性名的方式访问对象的属性。\n",
    "# 类的实例化可以通过对象名.方法名()的方式调用对象的方法。\n",
    "# __init__方法是一个特殊的方法，用于在创建对象时进行初始化操作。\n",
    "# __init__方法在创建对象时自动调用。\n",
    "# __init__方法的第一个参数是self，表示创建的对象。\n",
    "# __init__方法中定义对象的属性。\n",
    "# __init__方法中可以定义多个参数，用于在创建对象时传递参数。\n"
   ]
  }
 ],
 "metadata": {
  "kernelspec": {
   "display_name": "base",
   "language": "python",
   "name": "python3"
  },
  "language_info": {
   "codemirror_mode": {
    "name": "ipython",
    "version": 3
   },
   "file_extension": ".py",
   "mimetype": "text/x-python",
   "name": "python",
   "nbconvert_exporter": "python",
   "pygments_lexer": "ipython3",
   "version": "3.12.7"
  }
 },
 "nbformat": 4,
 "nbformat_minor": 2
}
