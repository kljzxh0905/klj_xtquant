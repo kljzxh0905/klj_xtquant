{
 "cells": [
  {
   "cell_type": "code",
   "execution_count": null,
   "metadata": {},
   "outputs": [],
   "source": [
    "# 什么是函数？\n",
    "# 函数是一段可以重复调用的代码块，它可以接受参数，也可以返回值。\n",
    "# 函数的定义\n",
    "# 函数的定义使用关键字def，后面跟着函数名和圆括号()，圆括号中可以包含参数，也可以为空。\n",
    "# def function_name():\n",
    "#     pass\n",
    "# 函数的调用\n",
    "# 函数的调用使用函数名加圆括号()的形式。\n",
    "# function_name()\n",
    "# 函数的参数\n",
    "# 函数的参数是在函数定义时使用圆括号()中声明的，参数可以是0个、1个或多个。\n",
    "# def function_name(param1, param2, ...):\n",
    "#     pass"
   ]
  },
  {
   "cell_type": "code",
   "execution_count": 5,
   "metadata": {},
   "outputs": [
    {
     "name": "stdout",
     "output_type": "stream",
     "text": [
      "Hello Python\n",
      "Hello World\n",
      "Hello Everyone\n"
     ]
    }
   ],
   "source": [
    "# 函数的声明与定义,声明一个说hello的函数\n",
    "def say_hello():\n",
    "    '''这里是函数的文档字符串，用于描述函数的功能'''\n",
    "    print(\"Hello Python\")\n",
    "    print(\"Hello World\")\n",
    "    print(\"Hello Everyone\")\n",
    "\n",
    "# 函数的调用\n",
    "say_hello()"
   ]
  },
  {
   "cell_type": "code",
   "execution_count": 7,
   "metadata": {},
   "outputs": [
    {
     "name": "stdout",
     "output_type": "stream",
     "text": [
      "Hello Python\n",
      "Hello 123\n",
      "Hello [1, 2, 3]\n"
     ]
    }
   ],
   "source": [
    "# 函数的参数\n",
    "def say_hello_to(name):\n",
    "    print(\"Hello\", name)\n",
    "\n",
    "say_hello_to(\"Python\") # 传入字符串参数\n",
    "say_hello_to(123) # 传入数字参数\n",
    "say_hello_to([1, 2, 3]) # 传入列表参数"
   ]
  },
  {
   "cell_type": "code",
   "execution_count": 11,
   "metadata": {},
   "outputs": [],
   "source": [
    "from pydantic import validate_call, ValidationError"
   ]
  },
  {
   "cell_type": "code",
   "execution_count": null,
   "metadata": {},
   "outputs": [
    {
     "name": "stdout",
     "output_type": "stream",
     "text": [
      "Hello Python\n",
      "1 validation error for say_hello_to_str\n",
      "0\n",
      "  Input should be a valid string [type=string_type, input_value=123, input_type=int]\n",
      "    For further information visit https://errors.pydantic.dev/2.8/v/string_type\n"
     ]
    }
   ],
   "source": [
    "# 函数的参数类型检查,使用装饰器,validate_arguments 已经被弃用，使用validate_call\n",
    "\n",
    "@validate_call\n",
    "def say_hello_to_str(name: str):\n",
    "    print(\"Hello\", name)\n",
    "\n",
    "try:\n",
    "    say_hello_to_str(\"Python\") # 传入字符串参数\n",
    "    say_hello_to_str(123) # 传入数字参数\n",
    "    # say_hello_to_str([1, 2, 3]) # 传入列表参数\n",
    "except ValidationError as e:\n",
    "    print(e)"
   ]
  },
  {
   "cell_type": "code",
   "execution_count": 3,
   "metadata": {},
   "outputs": [
    {
     "name": "stdout",
     "output_type": "stream",
     "text": [
      "10 + 20 = 30\n",
      "11 + 22 = 33\n"
     ]
    }
   ],
   "source": [
    "# 函数的计算的值是固定的，不会改变\n",
    "def sum_two_numbers():\n",
    "    a = 10\n",
    "    b = 20\n",
    "    result = a + b\n",
    "    print(f\"{a} + {b} = {result}\")\n",
    "\n",
    "sum_two_numbers()\n",
    "\n",
    "# 传入两个参数，计算两个数的和\n",
    "def sum_two_numbers_para(a, b):\n",
    "    result = a + b\n",
    "    print(f\"{a} + {b} = {result}\")\n",
    "\n",
    "sum_two_numbers_para(11, 22)"
   ]
  },
  {
   "cell_type": "code",
   "execution_count": 4,
   "metadata": {},
   "outputs": [
    {
     "name": "stdout",
     "output_type": "stream",
     "text": [
      "33\n"
     ]
    }
   ],
   "source": [
    "# 函数的返回值\n",
    "# 函数的返回值使用关键字return，可以返回一个值，也可以返回多个值。\n",
    "# def function_name():\n",
    "#     return value\n",
    "# def function_name():\n",
    "#     return value1, value2, ...\n",
    "# 函数的返回值可以赋值给一个变量，也可以直接使用。\n",
    "# result = function_name()\n",
    "# print(result)\n",
    "# print(function_name())\n",
    "\n",
    "def sum_two_numbers_return(a, b):\n",
    "    return a + b\n",
    "\n",
    "result = sum_two_numbers_return(11, 22)\n",
    "print(result)"
   ]
  },
  {
   "cell_type": "code",
   "execution_count": null,
   "metadata": {},
   "outputs": [
    {
     "name": "stdout",
     "output_type": "stream",
     "text": [
      "(33, -11)\n",
      "<class 'tuple'>\n",
      "33\n",
      "-11\n"
     ]
    }
   ],
   "source": [
    "# 函数的返回值可以是多个值\n",
    "def sum_and_subtract(a, b):\n",
    "    return a + b, a - b\n",
    "\n",
    "result = sum_and_subtract(11, 22) # 返回值是一个元组\n",
    "print(result)\n",
    "print(type(result))\n",
    "print(result[0])\n",
    "print(result[1])"
   ]
  },
  {
   "cell_type": "code",
   "execution_count": null,
   "metadata": {},
   "outputs": [
    {
     "name": "stdout",
     "output_type": "stream",
     "text": [
      "33\n",
      "-11\n"
     ]
    }
   ],
   "source": [
    "# 函数的返回值可以直接赋值给多个变量\n",
    "sum_result, subtract_result = sum_and_subtract(11, 22) # 返回值是两个值\n",
    "print(sum_result)\n",
    "print(subtract_result)"
   ]
  },
  {
   "cell_type": "code",
   "execution_count": null,
   "metadata": {},
   "outputs": [
    {
     "name": "stdout",
     "output_type": "stream",
     "text": [
      "(33, -11)\n"
     ]
    }
   ],
   "source": [
    "# 函数的嵌套调用\n",
    "def sum_and_subtract(a, b):\n",
    "    def sum_two_numbers(a, b):                      # 这里定义了一个内部函数,这就是嵌套函数\n",
    "        return a + b\n",
    "    def subtract_two_numbers(a, b):                 # 这里定义了一个内部函数,这就是嵌套函数\n",
    "        return a - b\n",
    "    sum_result = sum_two_numbers(a, b)              # 调用嵌套函数\n",
    "    subtract_result = subtract_two_numbers(a, b)    # 调用嵌套函数\n",
    "    return sum_result, subtract_result\n",
    "\n",
    "result = sum_and_subtract(11, 22)\n",
    "print(result)"
   ]
  },
  {
   "cell_type": "code",
   "execution_count": 11,
   "metadata": {},
   "outputs": [
    {
     "name": "stdout",
     "output_type": "stream",
     "text": [
      "--------------------------------------------------\n",
      "test 2\n",
      "**************************************************\n",
      "test 1\n",
      "**************************************************\n",
      "--------------------------------------------------\n"
     ]
    }
   ],
   "source": [
    "def test():\n",
    "    print(\"*\" * 50)\n",
    "    print(\"test 1\")\n",
    "    print(\"*\" * 50)\n",
    "\n",
    "def test2():\n",
    "    print(\"-\" * 50)\n",
    "    print(\"test 2\")\n",
    "    test()\n",
    "    print(\"-\" * 50)\n",
    "\n",
    "test2()"
   ]
  },
  {
   "cell_type": "code",
   "execution_count": 14,
   "metadata": {},
   "outputs": [
    {
     "name": "stdout",
     "output_type": "stream",
     "text": [
      "**************************************************\n",
      "%%%%%%%%%%%%%%%%%%%%%%%%%%%%%%%%%%%%%%%%%%%%%%%%%%\n",
      "%%%%%%%%%%%%%%%%%%%%%%%%%%%%%%%%%%%%%%%%%%%%%%%%%%\n",
      "%%%%%%%%%%%%%%%%%%%%%%%%%%%%%%%%%%%%%%%%%%%%%%%%%%\n",
      "%%%%%%%%%%%%%%%%%%%%%%%%%%%%%%%%%%%%%%%%%%%%%%%%%%\n",
      "%%%%%%%%%%%%%%%%%%%%%%%%%%%%%%%%%%%%%%%%%%%%%%%%%%\n"
     ]
    }
   ],
   "source": [
    "def print_char(char, times):\n",
    "    print(char * times)\n",
    "\n",
    "print_char(\"*\", 50)\n",
    "\n",
    "# 用for循环调用5次print_char函数\n",
    "for i in range(5):\n",
    "    print_char(\"%\", 50)"
   ]
  },
  {
   "cell_type": "code",
   "execution_count": 15,
   "metadata": {},
   "outputs": [
    {
     "name": "stdout",
     "output_type": "stream",
     "text": [
      "['d:\\\\miniqmt-demo\\\\pythonL02', 'd:\\\\Anaconda\\\\python312.zip', 'd:\\\\Anaconda\\\\DLLs', 'd:\\\\Anaconda\\\\Lib', 'd:\\\\Anaconda', '', 'd:\\\\Anaconda\\\\Lib\\\\site-packages', 'd:\\\\Anaconda\\\\Lib\\\\site-packages\\\\win32', 'd:\\\\Anaconda\\\\Lib\\\\site-packages\\\\win32\\\\lib', 'd:\\\\Anaconda\\\\Lib\\\\site-packages\\\\Pythonwin']\n"
     ]
    }
   ],
   "source": [
    "# 使用模块中的函数\n",
    "import sys\n",
    "print(sys.path)"
   ]
  },
  {
   "cell_type": "code",
   "execution_count": 24,
   "metadata": {},
   "outputs": [],
   "source": [
    "import python模块\n"
   ]
  },
  {
   "cell_type": "code",
   "execution_count": 25,
   "metadata": {},
   "outputs": [
    {
     "name": "stdout",
     "output_type": "stream",
     "text": [
      "Python\n"
     ]
    }
   ],
   "source": [
    "python模块.name = \"Python\"\n",
    "print(python模块.name)"
   ]
  }
 ],
 "metadata": {
  "kernelspec": {
   "display_name": "base",
   "language": "python",
   "name": "python3"
  },
  "language_info": {
   "codemirror_mode": {
    "name": "ipython",
    "version": 3
   },
   "file_extension": ".py",
   "mimetype": "text/x-python",
   "name": "python",
   "nbconvert_exporter": "python",
   "pygments_lexer": "ipython3",
   "version": "3.12.7"
  }
 },
 "nbformat": 4,
 "nbformat_minor": 2
}
