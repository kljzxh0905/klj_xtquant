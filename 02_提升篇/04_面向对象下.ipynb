{
 "cells": [
  {
   "cell_type": "code",
   "execution_count": 2,
   "metadata": {},
   "outputs": [],
   "source": [
    "# 类属性和实例属性\n",
    "\n",
    "class Tool(object):\n",
    "    # 使用赋值语句定义类属性，记录所有工具对象的数量\n",
    "    count = 0\n",
    "\n",
    "    def __init__(self, name):\n",
    "        self.name = name\n",
    "\n",
    "        # 针对类属性做一个计数+1\n",
    "        Tool.count += 1\n",
    "\n"
   ]
  },
  {
   "cell_type": "code",
   "execution_count": null,
   "metadata": {},
   "outputs": [
    {
     "name": "stdout",
     "output_type": "stream",
     "text": [
      "3\n",
      "99\n"
     ]
    }
   ],
   "source": [
    "# 重置类属性\n",
    "Tool.count = 0\n",
    "\n",
    "# 创建工具对象\n",
    "tool1 = Tool(\"斧头\")\n",
    "tool2 = Tool(\"榔头\")\n",
    "tool3 = Tool(\"水桶\")\n",
    "\n",
    "# 输出工具对象的数量\n",
    "print(Tool.count)  # 3\n",
    "# print(tool1.count)  # 3 不推荐使用对象调用类属性\n",
    "# print(tool2.count)  # 3\n",
    "# print(tool3.count)  # 3\n",
    "tool1.count = 99\n",
    "print(tool1.count)  # 99 为什么这里是99，而不是3? 因为这里是给对象添加了一个实例属性，而不是修改类属性."
   ]
  },
  {
   "cell_type": "code",
   "execution_count": 8,
   "metadata": {},
   "outputs": [],
   "source": [
    "# 类方法和静态方法\n",
    "class Game(object):\n",
    "    # 类属性\n",
    "    top_score = 0\n",
    "\n",
    "    # 类方法\n",
    "    @classmethod\n",
    "    def show_top_score(cls):\n",
    "        print(\"游戏最高分是 %d\" % cls.top_score)\n",
    "\n",
    "    # 静态方法\n",
    "    @staticmethod\n",
    "    def show_help():\n",
    "        print(\"帮助信息：让僵尸进入大门\")\n",
    "\n",
    "    def __init__(self, player_name):\n",
    "        self.player_name = player_name\n",
    "\n",
    "    # 实例方法\n",
    "    def start_game(self):\n",
    "        print(\"[%s] 开始游戏\" % self.player_name)"
   ]
  },
  {
   "cell_type": "code",
   "execution_count": 10,
   "metadata": {},
   "outputs": [
    {
     "name": "stdout",
     "output_type": "stream",
     "text": [
      "帮助信息：让僵尸进入大门\n",
      "游戏最高分是 0\n",
      "[小明] 开始游戏\n",
      "游戏最高分是 999\n",
      "游戏最高分是 1500\n"
     ]
    }
   ],
   "source": [
    "# 1. 查看游戏的帮助信息\n",
    "Game.show_help()\n",
    "\n",
    "# 2. 查看游戏的历史最高分\n",
    "Game.show_top_score()\n",
    "\n",
    "# 3. 创建游戏对象\n",
    "game = Game(\"小明\")\n",
    "\n",
    "game.start_game()\n",
    "\n",
    "# 4. 游戏中途，查看历史最高分\n",
    "Game.top_score = 999\n",
    "Game.show_top_score()  # 999\n",
    "\n",
    "# 5. 游戏结束，查看历史最高分\n",
    "Game.top_score = 1500\n",
    "Game.show_top_score()  # 1500"
   ]
  },
  {
   "cell_type": "code",
   "execution_count": 13,
   "metadata": {},
   "outputs": [
    {
     "name": "stdout",
     "output_type": "stream",
     "text": [
      "初始化音乐播放器\n",
      "<__main__.MusicPlayer object at 0x00000274A4CC9430>\n",
      "<__main__.MusicPlayer object at 0x00000274A4CC9430>\n",
      "<__main__.MusicPlayer object at 0x00000274A4CC9430>\n",
      "<__main__.MusicPlayer object at 0x00000274A4CC9430>\n"
     ]
    }
   ],
   "source": [
    "# 单列设计模式\n",
    "class MusicPlayer(object):\n",
    "    # 记录第一个被创建对象的引用\n",
    "    instance = None\n",
    "\n",
    "    # 记录是否执行过初始化动作\n",
    "    init_flag = False\n",
    "\n",
    "    def __new__(cls, *args, **kwargs):\n",
    "        # 1. 判断类属性是否是空对象\n",
    "        if cls.instance is None:\n",
    "            # 2. 调用父类的方法，为第一个对象分配空间\n",
    "            cls.instance = super().__new__(cls)\n",
    "\n",
    "        # 3. 返回类属性保存的对象引用\n",
    "        return cls.instance\n",
    "\n",
    "    def __init__(self):\n",
    "        # 1. 判断是否执行过初始化动作\n",
    "        if MusicPlayer.init_flag:\n",
    "            return\n",
    "\n",
    "        # 2. 如果没有执行过，再执行初始化动作\n",
    "        print(\"初始化音乐播放器\")\n",
    "\n",
    "        # 3. 修改类属性的标记\n",
    "        MusicPlayer.init_flag = True\n",
    "\n",
    "# 创建多个对象\n",
    "player1 = MusicPlayer()\n",
    "print(player1)\n",
    "\n",
    "player2 = MusicPlayer()\n",
    "print(player2)\n",
    "\n",
    "player3 = MusicPlayer()\n",
    "print(player3)\n",
    "\n",
    "player4 = MusicPlayer()\n",
    "print(player4)"
   ]
  },
  {
   "cell_type": "code",
   "execution_count": null,
   "metadata": {},
   "outputs": [
    {
     "name": "stdout",
     "output_type": "stream",
     "text": [
      "初始化音乐播放器\n",
      "<__main__.MusicPlayer2 object at 0x00000274A4CC5C70>\n",
      "初始化音乐播放器\n",
      "<__main__.MusicPlayer2 object at 0x00000274A4CC5760>\n",
      "初始化音乐播放器\n",
      "<__main__.MusicPlayer2 object at 0x00000274A4CC7FB0>\n",
      "初始化音乐播放器\n",
      "<__main__.MusicPlayer2 object at 0x00000274A4CC4E30>\n"
     ]
    }
   ],
   "source": [
    "class MusicPlayer2:\n",
    "    def __init__(self):\n",
    "        print(\"初始化音乐播放器\")\n",
    "\n",
    "player2_1 = MusicPlayer2()\n",
    "print(player2_1)\n",
    "\n",
    "player2_2 = MusicPlayer2()\n",
    "print(player2_2)\n",
    "\n",
    "player2_3 = MusicPlayer2()\n",
    "print(player2_3)\n",
    "\n",
    "player2_4 = MusicPlayer2()\n",
    "print(player2_4)\n",
    "\n",
    "'''\n",
    "可以看到，MusicPlayer2类每次创建对象都会执行初始化动作，而MusicPlayer类只有第一次创建对象才会执行初始化动作。\n",
    "'''"
   ]
  },
  {
   "cell_type": "code",
   "execution_count": null,
   "metadata": {},
   "outputs": [
    {
     "name": "stdout",
     "output_type": "stream",
     "text": [
      "创建对象，分配空间\n",
      "None\n"
     ]
    }
   ],
   "source": [
    "class MusicPlayer3:\n",
    "    # 创建new方法\n",
    "    def __new__(cls, *args, **kwargs):\n",
    "        # 1. 创建对象时，new方法会被自动调用\n",
    "        print(\"创建对象，分配空间\")\n",
    "\n",
    "        # 2. 为对象分配空间\n",
    "        # instance = super().__new__(cls)\n",
    "\n",
    "        # 3. 返回对象的引用\n",
    "        # return instance\n",
    "    \n",
    "    # 创建init方法\n",
    "    def __init__(self):\n",
    "        print(\"初始化播放器\") # 当new方法不返回对象时，init方法不会被调用\n",
    "\n",
    "player3_1 = MusicPlayer3()\n",
    "print(player3_1)"
   ]
  },
  {
   "cell_type": "code",
   "execution_count": 19,
   "metadata": {},
   "outputs": [
    {
     "name": "stdout",
     "output_type": "stream",
     "text": [
      "创建对象，分配空间\n",
      "初始化播放器\n",
      "<__main__.MusicPlayer3_1 object at 0x00000274A4A737D0>\n"
     ]
    }
   ],
   "source": [
    "class MusicPlayer3_1:\n",
    "    # 创建new方法\n",
    "    def __new__(cls, *args, **kwargs):\n",
    "        # 1. 创建对象时，new方法会被自动调用\n",
    "        print(\"创建对象，分配空间\")\n",
    "\n",
    "        # 2. 为对象分配空间\n",
    "        instance = super().__new__(cls)\n",
    "\n",
    "        # 3. 返回对象的引用\n",
    "        return instance\n",
    "    \n",
    "    # 创建init方法\n",
    "    def __init__(self):\n",
    "        print(\"初始化播放器\") # 当new方法返回对象时，init方法会被调用\n",
    "\n",
    "player3_1_1 = MusicPlayer3_1()\n",
    "print(player3_1_1)"
   ]
  },
  {
   "cell_type": "code",
   "execution_count": 27,
   "metadata": {},
   "outputs": [],
   "source": [
    "# 单例就是让类创建的对象，在系统中只有唯一的一个实例\n",
    "# 1. 定义一个类属性，初始值是None，用于记录单例对象的引用\n",
    "# 2. 重写new方法\n",
    "# 3. 判断类属性是否是空对象\n",
    "# 4. 如果没有，调用父类方法分配空间，并在类属性中记录对象引用\n",
    "# 5. 返回类属性中记录的对象引用\n",
    "# 6. 重写init方法，初始化对象\n",
    "# 7. 判断是否执行过初始化动作\n",
    "# 8. 如果没有，再执行初始化动作\n",
    "# 9. 修改类属性的标记\n",
    "# 10. 返回类属性\n",
    "\n",
    "class MusicPlayer4:\n",
    "    # 创建类属性 记录第一个被创建对象的引用地址的\n",
    "    isinstance = None\n",
    "\n",
    "    # 创建类属性 记录是否执行过初始化动作\n",
    "    init_flag = False\n",
    "\n",
    "    # 重写new方法 分配空间\n",
    "    def __new__(cls, *args, **kwargs):\n",
    "        # 1. 判断类属性是否是空对象\n",
    "        if cls.isinstance is None:\n",
    "            # 2. 调用父类方法分配空间\n",
    "            cls.isinstance = super().__new__(cls)\n",
    "\n",
    "        # 3. 返回类属性中记录的对象引用\n",
    "        return cls.isinstance\n",
    "    \n",
    "    # 重写init方法 初始化对象\n",
    "    def __init__(self):\n",
    "        # print(\"初始化播放器\") # 当new方法返回对象时，init方法会被调用。如果使用单例模式，只有第一次创建对象时才会执行初始化动作\n",
    "\n",
    "        # 1. 判断是否执行过初始化动作\n",
    "        if MusicPlayer4.init_flag:\n",
    "            return\n",
    "        \n",
    "        # 2. 如果没有执行过，再执行初始化动作\n",
    "        print(\"初始化播放器\")\n",
    "\n",
    "        # 3. 修改类属性的标记\n",
    "        MusicPlayer4.init_flag = True\n",
    "        # pass"
   ]
  },
  {
   "cell_type": "code",
   "execution_count": 28,
   "metadata": {},
   "outputs": [
    {
     "name": "stdout",
     "output_type": "stream",
     "text": [
      "初始化播放器\n",
      "<__main__.MusicPlayer4 object at 0x00000274A4A731D0>\n",
      "<__main__.MusicPlayer4 object at 0x00000274A4A731D0>\n"
     ]
    }
   ],
   "source": [
    "player4_1 = MusicPlayer4()\n",
    "print(player4_1)\n",
    "player4_2 = MusicPlayer4()\n",
    "print(player4_2)"
   ]
  }
 ],
 "metadata": {
  "kernelspec": {
   "display_name": "base",
   "language": "python",
   "name": "python3"
  },
  "language_info": {
   "codemirror_mode": {
    "name": "ipython",
    "version": 3
   },
   "file_extension": ".py",
   "mimetype": "text/x-python",
   "name": "python",
   "nbconvert_exporter": "python",
   "pygments_lexer": "ipython3",
   "version": "3.12.7"
  }
 },
 "nbformat": 4,
 "nbformat_minor": 2
}
