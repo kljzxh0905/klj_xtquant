{
 "cells": [
  {
   "cell_type": "code",
   "execution_count": 2,
   "metadata": {},
   "outputs": [
    {
     "name": "stdout",
     "output_type": "stream",
     "text": [
      "123\n"
     ]
    }
   ],
   "source": [
    "# 什么是异常？\n",
    "# 异常是一个事件，该事件会在程序执行过程中发生，影响了程序的正常执行。\n",
    "# 一般情况下，在Python无法正常处理程序时就会发生一个异常。\n",
    "# 异常是Python对象，表示一个错误。\n",
    "# 当Python脚本发生异常时我们需要捕获处理它，否则程序会终止执行。\n",
    "\n",
    "try: # 检测范围\n",
    "    # 检测当前代码是否有异常\n",
    "    num = int(input(\"请输入一个数字：\"))\n",
    "    print(num)\n",
    "except: # 捕获所有异常\n",
    "    # 捕获异常\n",
    "    print(\"请输入一个数字\")\n",
    "\n",
    "# try-except 语句\n",
    "# try:\n",
    "#    检测范围\n",
    "# except Exception[as reason]:\n",
    "#    出现异常后的处理代码\n"
   ]
  },
  {
   "cell_type": "code",
   "execution_count": 11,
   "metadata": {},
   "outputs": [
    {
     "name": "stdout",
     "output_type": "stream",
     "text": [
      "0.43478260869565216\n"
     ]
    }
   ],
   "source": [
    "# 错误类型\n",
    "# 在try语句块中，你可以根据需要捕获多个异常。以下为一个简单的例子：\n",
    "\n",
    "try:\n",
    "    # 检测范围\n",
    "    num = int(input(\"请输入一个数字：\"))\n",
    "\n",
    "    #if num == 0:\n",
    "    #    # 抛出异常\n",
    "    #    raise ZeroDivisionError(\"除数不能为0\")\n",
    "    \n",
    "    result = 10 / num\n",
    "    print(result)\n",
    "    # print(num)\n",
    "except ValueError:\n",
    "    # 如果输入的不是数字\n",
    "    print(\"请输入一个数字\")\n",
    "except ZeroDivisionError:\n",
    "    # 如果输入的是0\n",
    "    print(\"请输入一个非0数字\")\n",
    "except:\n",
    "    # 捕获所有异常\n",
    "    print(\"未知错误\")"
   ]
  },
  {
   "cell_type": "code",
   "execution_count": 16,
   "metadata": {},
   "outputs": [
    {
     "name": "stdout",
     "output_type": "stream",
     "text": [
      "5.0\n",
      "没有异常\n",
      "无论是否有异常都会执行这块代码\n"
     ]
    }
   ],
   "source": [
    "# 异常的完整语法\n",
    "# try:\n",
    "#    检测范围\n",
    "# except Exception[as reason]:\n",
    "#    出现异常后的处理代码\n",
    "# except Exception[as reason]:\n",
    "#    出现异常后的处理代码\n",
    "# else:\n",
    "#    如果没有异常执行这块代码\n",
    "# finally:\n",
    "#    无论是否有异常都会执行这块代码\n",
    "\n",
    "try:\n",
    "    num = int(input(\"请输入一个数字：\"))\n",
    "    if num == 999:\n",
    "        raise TypeError(\"不能输入999\")\n",
    "    result = 10 / num\n",
    "    print(result)\n",
    "except ValueError:\n",
    "    print(\"请输入一个数字\")\n",
    "except ZeroDivisionError:\n",
    "    print(\"请输入一个非0数字\")\n",
    "except:\n",
    "    print(\"未知错误\")\n",
    "else:\n",
    "    print(\"没有异常\")\n",
    "finally:\n",
    "    print(\"无论是否有异常都会执行这块代码\")"
   ]
  },
  {
   "cell_type": "code",
   "execution_count": 18,
   "metadata": {},
   "outputs": [
    {
     "name": "stdout",
     "output_type": "stream",
     "text": [
      "异常传递\n"
     ]
    }
   ],
   "source": [
    "# 异常的传递\n",
    "# 一个函数调用发生异常，异常会被传递给调用函数，如果调用函数没有处理异常，异常会一直传递，直到传递到主程序为止。\n",
    "\n",
    "def A():\n",
    "    \n",
    "    num = int(input(\"请输入一个数字：\"))\n",
    "    result = 10 / num\n",
    "    print(result)\n",
    "    \n",
    "\n",
    "def B():\n",
    "    try:\n",
    "        A()\n",
    "    except:\n",
    "        print(\"异常传递\")\n",
    "\n",
    "B()"
   ]
  },
  {
   "cell_type": "code",
   "execution_count": null,
   "metadata": {},
   "outputs": [
    {
     "name": "stdout",
     "output_type": "stream",
     "text": [
      "异常传递 division by zero\n"
     ]
    }
   ],
   "source": [
    "def A1():\n",
    "    num = int(input(\"请输入一个数字：\"))\n",
    "    result = 10 / num\n",
    "    print(result)\n",
    "\n",
    "def B1():\n",
    "    A1()\n",
    "\n",
    "\n",
    "# 在主程序中去添加异常处理，可以提高代码的简洁性\n",
    "if __name__ == \"__main__\":\n",
    "    try:\n",
    "        B1()\n",
    "    \n",
    "    # 如果在调用函数的时候不知道异常的类型，可以直接写一个Exception\n",
    "    except Exception as e:\n",
    "        print(\"异常传递\", e)"
   ]
  },
  {
   "cell_type": "code",
   "execution_count": 22,
   "metadata": {},
   "outputs": [
    {
     "name": "stdout",
     "output_type": "stream",
     "text": [
      "密码长度不够\n"
     ]
    }
   ],
   "source": [
    "# 抛出 raise 异常\n",
    "# Python 使用 raise 语句抛出一个指定的异常。\n",
    "# raise语法格式如下：\n",
    "# raise [Exception [, args [, traceback]]]\n",
    "\n",
    "# 验证用户输入的密码是否合法，如果密码长度大于等于8，则通过，否则抛出异常\n",
    "def input_password():\n",
    "    pwd = input(\"请输入密码：\")\n",
    "    if len(pwd) >= 8:\n",
    "        return pwd\n",
    "    # 创建异常对象\n",
    "    ex = Exception(\"密码长度不够\")\n",
    "    # 抛出异常\n",
    "    raise ex\n",
    "\n",
    "try:\n",
    "    print(input_password())\n",
    "except Exception as result:\n",
    "    print(result)\n",
    "\n",
    "    \n",
    "\n"
   ]
  }
 ],
 "metadata": {
  "kernelspec": {
   "display_name": "base",
   "language": "python",
   "name": "python3"
  },
  "language_info": {
   "codemirror_mode": {
    "name": "ipython",
    "version": 3
   },
   "file_extension": ".py",
   "mimetype": "text/x-python",
   "name": "python",
   "nbconvert_exporter": "python",
   "pygments_lexer": "ipython3",
   "version": "3.12.7"
  }
 },
 "nbformat": 4,
 "nbformat_minor": 2
}
