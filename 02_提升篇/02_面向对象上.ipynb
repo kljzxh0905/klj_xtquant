{
 "cells": [
  {
   "cell_type": "code",
   "execution_count": null,
   "metadata": {},
   "outputs": [],
   "source": [
    "# 什么叫面向对象编程？\n",
    "# 面向对象编程是一种程序设计范式，它以类和对象为基础，通过封装、继承、多态等特性来提高代码的复用性、灵活性和扩展性。\n",
    "# 面向对象编程的主要特点有：\n",
    "# 类和对象：类是对具有相同属性和方法的对象的抽象，对象是类的实例。\n",
    "# 封装：封装是指隐藏对象的属性和实现细节，仅对外提供公共访问方式。\n",
    "# 继承：继承是指子类继承父类的属性和方法。\n",
    "# 多态：多态是指不同类的对象对同一消息作出响应。\n",
    "# 面向对象编程的实现方式有多种，如Python、Java、C++、C#等。"
   ]
  },
  {
   "cell_type": "code",
   "execution_count": null,
   "metadata": {},
   "outputs": [],
   "source": [
    "# object 对象\n",
    "# class 类\n",
    "# encapsulation 封装\n",
    "# inheritance 继承\n",
    "# polymorphism 多态"
   ]
  },
  {
   "cell_type": "code",
   "execution_count": null,
   "metadata": {},
   "outputs": [],
   "source": [
    "# 创建一个学生类\n",
    "class Student:\n",
    "    # 类属性\n",
    "    count = 0\n",
    "\n",
    "    # 构造方法\n",
    "    def __init__(self, name, age):\n",
    "        # 实例属性\n",
    "        self.name = name\n",
    "        self.age = age\n",
    "        # 类属性\n",
    "        Student.count += 1\n",
    "\n",
    "    # 实例方法\n",
    "    def study(self, course_name):\n",
    "        print(f'{self.name}正在学习{course_name}, {self.name}今年{self.age}岁')\n",
    "\n",
    "    # 静态方法\n",
    "    @staticmethod\n",
    "    def plus(a, b):\n",
    "        return a + b\n",
    "\n",
    "    # 类方法\n",
    "    @classmethod\n",
    "    def get_count(cls):\n",
    "        return cls.count\n",
    "    \n",
    "    "
   ]
  },
  {
   "cell_type": "code",
   "execution_count": 24,
   "metadata": {},
   "outputs": [
    {
     "name": "stdout",
     "output_type": "stream",
     "text": [
      "Alice正在学习数学, Alice今年20岁\n",
      "Bob正在学习英语, Bob今年21岁\n",
      "Cindy正在学习物理, Cindy今年22岁\n",
      "11 + 22 = 33\n",
      "学生总数为: 3\n"
     ]
    }
   ],
   "source": [
    "# 重置类属性 count\n",
    "Student.count = 0\n",
    "\n",
    "# 创建学生实例(对象)\n",
    "student1 = Student('Alice', 20)\n",
    "student2 = Student('Bob', 21)\n",
    "student3 = Student('Cindy', 22)\n",
    "\n",
    "# 调用实例方法\n",
    "student1.study('数学')\n",
    "student2.study('英语')\n",
    "student3.study('物理')\n",
    "\n",
    "# 调用静态方法\n",
    "result = Student.plus(11, 22)\n",
    "print(f\"11 + 22 = {result}\")\n",
    "\n",
    "# 调用类方法\n",
    "count = Student.get_count()\n",
    "print(f'学生总数为: {count}')"
   ]
  },
  {
   "cell_type": "code",
   "execution_count": 13,
   "metadata": {},
   "outputs": [
    {
     "name": "stdout",
     "output_type": "stream",
     "text": [
      "<__main__.Student object at 0x000001BBBDE340B0>\n"
     ]
    }
   ],
   "source": [
    "stu1 = Student('kuanglinjiang', 18)\n",
    "print(stu1)"
   ]
  },
  {
   "cell_type": "code",
   "execution_count": null,
   "metadata": {},
   "outputs": [],
   "source": [
    "# 创建一个学生类 包含__str__方法\n",
    "class Student_str:\n",
    "    # 类属性\n",
    "    count = 0\n",
    "\n",
    "    # 构造方法\n",
    "    def __init__(self, name, age):\n",
    "        # 实例属性\n",
    "        self.name = name\n",
    "        self.age = age\n",
    "        # 类属性\n",
    "        Student.count += 1\n",
    "\n",
    "    # 实例方法\n",
    "    def study(self, course_name):\n",
    "        print(f'{self.name}正在学习{course_name}')\n",
    "\n",
    "    # 静态方法\n",
    "    @staticmethod\n",
    "    def plus(a, b):\n",
    "        return a + b\n",
    "\n",
    "    # 类方法\n",
    "    @classmethod\n",
    "    def get_count(cls):\n",
    "        return cls.count\n",
    "    \n",
    "    # 重写__str__方法\n",
    "    def __str__(self):\n",
    "        return f'{self.name}的年龄为{self.age}'"
   ]
  },
  {
   "cell_type": "code",
   "execution_count": null,
   "metadata": {},
   "outputs": [
    {
     "name": "stdout",
     "output_type": "stream",
     "text": [
      "kuanglinjiang的年龄为18\n"
     ]
    }
   ],
   "source": [
    "stu1 = Student_str('kuanglinjiang', 18)\n",
    "print(stu1)"
   ]
  },
  {
   "cell_type": "code",
   "execution_count": 16,
   "metadata": {},
   "outputs": [],
   "source": [
    "# 创建一个学生类 包含__repr__方法\n",
    "class Student_repr:\n",
    "    # 类属性\n",
    "    count = 0\n",
    "\n",
    "    # 构造方法\n",
    "    def __init__(self, name, age):\n",
    "        # 实例属性\n",
    "        self.name = name\n",
    "        self.age = age\n",
    "        # 类属性\n",
    "        Student.count += 1\n",
    "\n",
    "    # 实例方法\n",
    "    def study(self, course_name):\n",
    "        print(f'{self.name}正在学习{course_name}')\n",
    "\n",
    "    # 静态方法\n",
    "    @staticmethod\n",
    "    def plus(a, b):\n",
    "        return a + b\n",
    "\n",
    "    # 类方法\n",
    "    @classmethod\n",
    "    def get_count(cls):\n",
    "        return cls.count    \n",
    "    \n",
    "    # 重写__repr__方法\n",
    "    def __repr__(self):\n",
    "        return f'{self.name}的年龄为{self.age}'"
   ]
  },
  {
   "cell_type": "code",
   "execution_count": 17,
   "metadata": {},
   "outputs": [
    {
     "name": "stdout",
     "output_type": "stream",
     "text": [
      "kuanglinjiang的年龄为18\n"
     ]
    }
   ],
   "source": [
    "stu2 = Student_repr('kuanglinjiang', 18)\n",
    "print(stu2)"
   ]
  },
  {
   "cell_type": "code",
   "execution_count": 18,
   "metadata": {},
   "outputs": [],
   "source": [
    "# 创建一个学生类，包含__str__和__repr__方法\n",
    "class Student_str_repr:\n",
    "    # 类属性\n",
    "    count = 0\n",
    "\n",
    "    # 构造方法\n",
    "    def __init__(self, name, age):\n",
    "        # 实例属性\n",
    "        self.name = name\n",
    "        self.age = age\n",
    "        # 类属性\n",
    "        Student.count += 1\n",
    "\n",
    "    # 实例方法\n",
    "    def study(self, course_name):\n",
    "        print(f'{self.name}正在学习{course_name}')\n",
    "\n",
    "    # 静态方法\n",
    "    @staticmethod\n",
    "    def plus(a, b):\n",
    "        return a + b\n",
    "\n",
    "    # 类方法\n",
    "    @classmethod\n",
    "    def get_count(cls):\n",
    "        return cls.count    \n",
    "    \n",
    "    # 重写__str__方法\n",
    "    def __str__(self):\n",
    "        return f'{self.name}的年龄为{self.age},这是__str__方法'\n",
    "    \n",
    "    # 重写__repr__方法\n",
    "    def __repr__(self):\n",
    "        return f'{self.name}的年龄为{self.age},这是__repr__方法'"
   ]
  },
  {
   "cell_type": "code",
   "execution_count": 19,
   "metadata": {},
   "outputs": [
    {
     "name": "stdout",
     "output_type": "stream",
     "text": [
      "kuanglinjiang的年龄为18,这是__str__方法\n",
      "kuanglinjiang的年龄为18,这是__repr__方法\n"
     ]
    }
   ],
   "source": [
    "stu3 = Student_str_repr('kuanglinjiang', 18)\n",
    "print(stu3)\n",
    "print(repr(stu3))"
   ]
  },
  {
   "cell_type": "code",
   "execution_count": 20,
   "metadata": {},
   "outputs": [
    {
     "name": "stdout",
     "output_type": "stream",
     "text": [
      "0x1bbbde36e70 0x1bbbde37680 0x1bbbde33fb0\n"
     ]
    }
   ],
   "source": [
    "print(hex(id(stu3)),hex(id(stu2)),hex(id(stu1)))"
   ]
  },
  {
   "cell_type": "code",
   "execution_count": 21,
   "metadata": {},
   "outputs": [
    {
     "name": "stdout",
     "output_type": "stream",
     "text": [
      "['ArithmeticError', 'AssertionError', 'AttributeError', 'BaseException', 'BaseExceptionGroup', 'BlockingIOError', 'BrokenPipeError', 'BufferError', 'BytesWarning', 'ChildProcessError', 'ConnectionAbortedError', 'ConnectionError', 'ConnectionRefusedError', 'ConnectionResetError', 'DeprecationWarning', 'EOFError', 'Ellipsis', 'EncodingWarning', 'EnvironmentError', 'Exception', 'ExceptionGroup', 'False', 'FileExistsError', 'FileNotFoundError', 'FloatingPointError', 'FutureWarning', 'GeneratorExit', 'IOError', 'ImportError', 'ImportWarning', 'IndentationError', 'IndexError', 'InterruptedError', 'IsADirectoryError', 'KeyError', 'KeyboardInterrupt', 'LookupError', 'MemoryError', 'ModuleNotFoundError', 'NameError', 'None', 'NotADirectoryError', 'NotImplemented', 'NotImplementedError', 'OSError', 'OverflowError', 'PendingDeprecationWarning', 'PermissionError', 'ProcessLookupError', 'RecursionError', 'ReferenceError', 'ResourceWarning', 'RuntimeError', 'RuntimeWarning', 'StopAsyncIteration', 'StopIteration', 'SyntaxError', 'SyntaxWarning', 'SystemError', 'SystemExit', 'TabError', 'TimeoutError', 'True', 'TypeError', 'UnboundLocalError', 'UnicodeDecodeError', 'UnicodeEncodeError', 'UnicodeError', 'UnicodeTranslateError', 'UnicodeWarning', 'UserWarning', 'ValueError', 'Warning', 'WindowsError', 'ZeroDivisionError', '__IPYTHON__', '__build_class__', '__debug__', '__doc__', '__import__', '__loader__', '__name__', '__package__', '__spec__', 'abs', 'aiter', 'all', 'anext', 'any', 'ascii', 'bin', 'bool', 'breakpoint', 'bytearray', 'bytes', 'callable', 'chr', 'classmethod', 'compile', 'complex', 'copyright', 'credits', 'delattr', 'dict', 'dir', 'display', 'divmod', 'enumerate', 'eval', 'exec', 'execfile', 'filter', 'float', 'format', 'frozenset', 'get_ipython', 'getattr', 'globals', 'hasattr', 'hash', 'help', 'hex', 'id', 'input', 'int', 'isinstance', 'issubclass', 'iter', 'len', 'license', 'list', 'locals', 'map', 'max', 'memoryview', 'min', 'next', 'object', 'oct', 'open', 'ord', 'pow', 'print', 'property', 'range', 'repr', 'reversed', 'round', 'runfile', 'set', 'setattr', 'slice', 'sorted', 'staticmethod', 'str', 'sum', 'super', 'tuple', 'type', 'vars', 'zip']\n"
     ]
    }
   ],
   "source": [
    "import builtins\n",
    "print(dir(builtins))"
   ]
  },
  {
   "cell_type": "code",
   "execution_count": 2,
   "metadata": {},
   "outputs": [],
   "source": [
    "# 类初始化方法\n",
    "class Student_init:\n",
    "    '''学生'''\n",
    "    count = 0\n",
    "\n",
    "    def __init__(self, name, age, score, address):\n",
    "        '''初始化方法'''\n",
    "        self.name = name\n",
    "        self.age = age\n",
    "        self.score = score\n",
    "        self.address = address        \n",
    "        Student_init.count += 1\n",
    "\n",
    "    def study(self, course_name):\n",
    "        '''学习'''\n",
    "        # 在方法中访问实例属性，需要使用 self.属性。参数 course_name 是方法study的参数，直接使用即可\n",
    "        print(f'{self.name} 正在学习 {course_name}, {self.name} 今年 {self.age} 岁, 成绩为 {self.score}, 住址为 {self.address}')\n",
    "\n",
    "    def play(self, game_name):\n",
    "        '''玩游戏'''\n",
    "        print(f'{self.name}正在玩{game_name}')\n",
    "\n",
    "    @staticmethod\n",
    "    def plus(a, b):\n",
    "        '''加法'''\n",
    "        return a + b\n",
    "    \n",
    "    @classmethod\n",
    "    def get_count(cls):\n",
    "        '''获取学生总数'''\n",
    "        return cls.count\n",
    "    \n",
    "    # 重写__str__方法\n",
    "    def __str__(self):\n",
    "        return f'{self.name} 的年龄为 {self.age},分数是 {self.score},家庭地址是 {self.address},这是__str__方法'"
   ]
  },
  {
   "cell_type": "code",
   "execution_count": 3,
   "metadata": {},
   "outputs": [
    {
     "name": "stdout",
     "output_type": "stream",
     "text": [
      "Alice 的年龄为 20,分数是 100,家庭地址是 北京,这是__str__方法\n",
      "Alice 20 100 北京\n",
      "99\n",
      "Bob\n",
      "Bob 的年龄为 20,分数是 99,家庭地址是 北京,这是__str__方法\n"
     ]
    }
   ],
   "source": [
    "# 类的 __init__ 方法有两个作用：\n",
    "# 1. 初始化实例属性\n",
    "# 2. 为实例属性设置初始值\n",
    "stu1 = Student_init('Alice', 20, 100, '北京')\n",
    "print(stu1)\n",
    "print(stu1.name, stu1.age, stu1.score, stu1.address)\n",
    "stu1.score = 99\n",
    "print(stu1.score)\n",
    "stu1.name = 'Bob'\n",
    "print(stu1.name)\n",
    "print(stu1)"
   ]
  },
  {
   "cell_type": "code",
   "execution_count": 5,
   "metadata": {},
   "outputs": [
    {
     "name": "stdout",
     "output_type": "stream",
     "text": [
      "Bob 正在学习 数学, Bob 今年 20 岁, 成绩为 99, 住址为 北京\n",
      "Bob正在玩王者荣耀\n"
     ]
    }
   ],
   "source": [
    "stu1.study('数学')\n",
    "stu1.play('王者荣耀')"
   ]
  },
  {
   "cell_type": "code",
   "execution_count": 6,
   "metadata": {},
   "outputs": [],
   "source": [
    "# 在类中使用内置的方法 __repr__\n",
    "# 创建一个学生类，使用内置方法 __repr__ 等方法\n",
    "\n",
    "class Student_builtin:\n",
    "    '''内置方法学习'''\n",
    "    count = 0\n",
    "\n",
    "    # 初始化方法\n",
    "    def __init__(self, name, age):\n",
    "        self.name = name\n",
    "        self.age = age\n",
    "        Student_builtin.count += 1\n",
    "\n",
    "    # 实例方法\n",
    "    def study(self, course_name):\n",
    "        print(f'{self.name}正在学习{course_name}')\n",
    "\n",
    "    # 静态方法\n",
    "    @staticmethod\n",
    "    def plus(a, b):\n",
    "        return a + b\n",
    "    \n",
    "    # 类方法\n",
    "    @classmethod\n",
    "    def get_count(cls):\n",
    "        return cls.count\n",
    "    \n",
    "    # 重写__str__方法\n",
    "    def __str__(self):\n",
    "        return f'{self.name}的年龄为{self.age}'\n",
    "    \n",
    "    # 重写__repr__方法\n",
    "    def __repr__(self):\n",
    "        return f'{self.name}的年龄为{self.age}'\n",
    "    \n",
    "    # 重写__del__方法\n",
    "    def __del__(self):\n",
    "        print(f'{self.name}被删除')\n",
    "\n",
    "    # 重写__len__方法\n",
    "    def __len__(self):\n",
    "        return len(self.name)\n",
    "    \n",
    "    # 重写__call__方法\n",
    "    def __call__(self):\n",
    "        print(f'{self.name}正在调用__call__方法')"
   ]
  },
  {
   "cell_type": "code",
   "execution_count": 8,
   "metadata": {},
   "outputs": [
    {
     "name": "stdout",
     "output_type": "stream",
     "text": [
      "Alice被删除\n",
      "Alice的年龄为20\n",
      "Alice的年龄为20\n",
      "5\n",
      "Alice正在调用__call__方法\n"
     ]
    }
   ],
   "source": [
    "stu4 = Student_builtin('Alice', 20)\n",
    "print(stu4)\n",
    "print(repr(stu4))\n",
    "print(len(stu4))\n",
    "stu4()"
   ]
  },
  {
   "cell_type": "code",
   "execution_count": null,
   "metadata": {},
   "outputs": [],
   "source": [
    "# 类的可见性\n",
    "# 在类中，属性和方法有不同的可见性，主要有三种：\n",
    "# 1. 公有属性和方法：在类的外部可以直接访问。\n",
    "# 2. 私有属性和方法：在类的外部不能直接访问，需要在类的内部使用。\n",
    "# 3. 保护属性和方法：在类的外部不能直接访问，但可以在子类中访问。\n",
    "\n",
    "# 类的属性装饰器\n",
    "# 在类中，属性装饰器可以用来设置属性的可见性，主要有两种：\n",
    "# 1. @property：将方法转换为只读属性。\n",
    "# 2. @property.setter：将方法转换为可写属性。\n",
    "\n",
    "# 创建一个学生类，包含公有属性、私有属性和保护属性\n",
    "class Student_visibility:\n",
    "    '''学生类'''\n",
    "    count = 0\n",
    "\n",
    "    def __init__(self, name, age):\n",
    "        self.name = name # 公有属性 public\n",
    "        self.age = age # 公有属性 public\n",
    "        self.__score = 0 # 私有属性 private\n",
    "        self._address = '北京' # 保护属性 protected\n",
    "        Student_visibility.count += 1\n",
    "\n",
    "    def study(self, course_name):\n",
    "        print(f'{self.name}正在学习{course_name}')\n",
    "    '''\n",
    "    @property\n",
    "    def score(self):\n",
    "        return self.__score\n",
    "\n",
    "    @score.setter\n",
    "    def score(self, score):\n",
    "        if score < 0:\n",
    "            self.__score = 0\n",
    "        elif score > 100:\n",
    "            self.__score = 100\n",
    "        else:\n",
    "            self.__score = score\n",
    "    '''\n",
    "    # 使私有属性score变为可以写入的属性 \n",
    "    def set_score(self, score):\n",
    "        if score < 0:\n",
    "            self.__score = 0\n",
    "        elif score > 100:\n",
    "            self.__score = 100\n",
    "        else:\n",
    "            self.__score = score\n",
    "\n",
    "    # 使私有属性score变为可以读取的属性\n",
    "    def get_score(self):\n",
    "        return self.__score\n",
    "\n",
    "\n",
    "    def __str__(self):\n",
    "        return f'{self.name}的年龄为{self.age},成绩为{self.__score},住址为{self._address}'"
   ]
  },
  {
   "cell_type": "code",
   "execution_count": 22,
   "metadata": {},
   "outputs": [
    {
     "name": "stdout",
     "output_type": "stream",
     "text": [
      "Alice的年龄为20,成绩为0,住址为北京\n",
      "上海\n",
      "100\n"
     ]
    }
   ],
   "source": [
    "# 创建学生实例\n",
    "stu5 = Student_visibility('Alice', 20)\n",
    "print(stu5)\n",
    "\n",
    "# 访问保护属性\n",
    "stu5._address = '上海'\n",
    "print(stu5._address)\n",
    "\n",
    "# 访问私有属性\n",
    "# print(stu5.__score) AttributeError: 'Student_visibility' object has no attribute '__score'\n",
    "\n",
    "# stu5._Student_visibility__score = 100 # 通过这种方式可以访问私有属性,但不推荐\n",
    "# print(stu5._Student_visibility__score)\n",
    "\n",
    "# 使用类方法访问私有属性(推荐)\n",
    "stu5.set_score(100)\n",
    "print(stu5.get_score())"
   ]
  },
  {
   "cell_type": "code",
   "execution_count": null,
   "metadata": {},
   "outputs": [],
   "source": [
    "# 创建一个学生类，包含公有属性、私有属性和保护属性\n",
    "class Student_visibility_property:\n",
    "    '''学生类'''\n",
    "    count = 0\n",
    "\n",
    "    def __init__(self, name, age):\n",
    "        self.name = name # 公有属性 public\n",
    "        self.age = age # 公有属性 public\n",
    "        self.__score = 0 # 私有属性 private\n",
    "        self._address = '北京' # 保护属性 protected\n",
    "        Student_visibility.count += 1\n",
    "\n",
    "    def study(self, course_name):\n",
    "        print(f'{self.name}正在学习{course_name}')\n",
    "    \n",
    "    # 使用@property装饰器将方法转换为只读属性\n",
    "    @property\n",
    "    def score(self):\n",
    "        return self.__score\n",
    "    \n",
    "    # 使用@score.setter装饰器将方法转换为可写属性\n",
    "    @score.setter\n",
    "    def score(self, score):\n",
    "        if score < 0:\n",
    "            self.__score = 0\n",
    "        elif score > 100:\n",
    "            self.__score = 100\n",
    "        else:\n",
    "            self.__score = score\n",
    "        \n",
    "    def __str__(self):\n",
    "        return f'{self.name}的年龄为{self.age},成绩为{self.__score},住址为{self._address}'"
   ]
  },
  {
   "cell_type": "code",
   "execution_count": 24,
   "metadata": {},
   "outputs": [
    {
     "name": "stdout",
     "output_type": "stream",
     "text": [
      "Alice的年龄为20,成绩为0,住址为北京\n",
      "99\n",
      "100\n",
      "0\n"
     ]
    }
   ],
   "source": [
    "# 创建学生实例\n",
    "stu6 = Student_visibility_property('Alice', 20)\n",
    "print(stu6)\n",
    "\n",
    "# 访问私有和修改私有属性 __score\n",
    "stu6.score = 99\n",
    "print(stu6.score)\n",
    "\n",
    "stu6.score = 101\n",
    "print(stu6.score)\n",
    "\n",
    "stu6.score = -1\n",
    "print(stu6.score)"
   ]
  },
  {
   "cell_type": "code",
   "execution_count": 2,
   "metadata": {},
   "outputs": [],
   "source": [
    "# 静态方法和类方法\n",
    "# 在类中，静态方法和类方法可以使用装饰器 @staticmethod 和 @classmethod 来定义。\n",
    "# 静态方法：使用 @staticmethod 装饰器定义，不需要传入 self 或 cls 参数。\n",
    "# 类方法：使用 @classmethod 装饰器定义，需要传入 cls 参数。\n",
    "\n",
    "# 创建一个三角形类，继承object类,包含静态方法和类方法\n",
    "class Triangle(object):\n",
    "    '''三角形类'''\n",
    "    count = 0\n",
    "    def __init__(self, a, b, c):\n",
    "        self.a = a\n",
    "        self.b = b\n",
    "        self.c = c\n",
    "        Triangle.count += 1\n",
    "\n",
    "    @staticmethod\n",
    "    def is_valid(a, b, c):\n",
    "        '''判断三条边是否能构成三角形'''\n",
    "        return a + b > c and a + c > b and b + c > a\n",
    "\n",
    "    @classmethod\n",
    "    def get_count(cls):\n",
    "        '''获取三角形对象的数量'''\n",
    "        return cls.count\n",
    "\n",
    "    def perimeter(self):\n",
    "        '''计算周长'''\n",
    "        return self.a + self.b + self.c\n",
    "\n",
    "    def area(self):\n",
    "        '''计算面积'''\n",
    "        p = self.perimeter() / 2\n",
    "        return (p * (p - self.a) * (p - self.b) * (p - self.c)) ** 0.5"
   ]
  },
  {
   "cell_type": "code",
   "execution_count": 6,
   "metadata": {},
   "outputs": [
    {
     "name": "stdout",
     "output_type": "stream",
     "text": [
      "12\n",
      "6.0\n",
      "True\n",
      "2\n",
      "--------------------------------------------------\n",
      "3.5540000000000003\n",
      "0.5876218795781861\n",
      "True\n",
      "2\n"
     ]
    }
   ],
   "source": [
    "# 重置类属性 count\n",
    "Triangle.count = 0\n",
    "\n",
    "# 创建三角形实例\n",
    "tri1 = Triangle(3, 4, 5)\n",
    "tri2 = Triangle(1.3, 1.004, 1.25)\n",
    "\n",
    "# 调用实例方法\n",
    "print(tri1.perimeter())\n",
    "print(tri1.area())\n",
    "print(Triangle.is_valid(3, 4, 5))\n",
    "print(Triangle.get_count())\n",
    "\n",
    "print(\"-\" * 50)\n",
    "\n",
    "print(tri2.perimeter())\n",
    "print(tri2.area())\n",
    "print(Triangle.is_valid(1.3, 1.004, 1.25))\n",
    "print(Triangle.get_count())\n"
   ]
  },
  {
   "cell_type": "code",
   "execution_count": 1,
   "metadata": {},
   "outputs": [],
   "source": [
    "import python模块"
   ]
  },
  {
   "cell_type": "code",
   "execution_count": 2,
   "metadata": {},
   "outputs": [
    {
     "name": "stdout",
     "output_type": "stream",
     "text": [
      "1 + 2 = 3\n"
     ]
    }
   ],
   "source": [
    "python模块.sum_two_numbers(1, 2)"
   ]
  },
  {
   "cell_type": "code",
   "execution_count": 3,
   "metadata": {},
   "outputs": [
    {
     "name": "stdout",
     "output_type": "stream",
     "text": [
      "Alice\n"
     ]
    }
   ],
   "source": [
    "python模块.name = 'Alice'\n",
    "print(python模块.name)"
   ]
  },
  {
   "cell_type": "code",
   "execution_count": 4,
   "metadata": {},
   "outputs": [
    {
     "data": {
      "text/plain": [
       "'\\n\\nPython 是一门动态语言，维基百科对动态语言的定义是：在运行时可以改变程序结构的语言。列如：新的函数、对象、甚至代码可以被引进，\\n已有的函数可以被删除或是其他结构上的变化。\\n\\n动态语言的一个特点是在运行时才能确定对象的类型，这与静态语言相反，静态语言在编译时就能确定对象的类型。\\n\\n动态语言非常灵活，但也容易出错，因为在运行时才能确定对象的类型，所以在编写代码时需要特别小心，避免出现错误。\\n\\n目前主流的动态语言有 Python、JavaScript、Ruby、PHP 等。而静态语言有 Java、C++、C#、Go 等。\\n\\n在 Python 中，我们可以动态为对象添加属性，这是 Python 作为动态语言的一项特性。我们可以使用点号添加属性，也可以使用 setattr() 函数添加属性。\\n需要提醒大家的是，对象的方法也是对象的属性，我们可以动态添加方法，但不推荐这样做。\\n\\n'"
      ]
     },
     "execution_count": 4,
     "metadata": {},
     "output_type": "execute_result"
    }
   ],
   "source": [
    "# 动态属性\n",
    "# 在Python中，对象的属性可以动态添加和删除，主要有两种方法：\n",
    "# 1. 使用点号添加属性。\n",
    "# 2. 使用 setattr() 函数添加属性。\n",
    "# 3. 使用 del 关键字删除属性。\n",
    "\n",
    "'''\n",
    "\n",
    "Python 是一门动态语言，维基百科对动态语言的定义是：在运行时可以改变程序结构的语言。列如：新的函数、对象、甚至代码可以被引进，\n",
    "已有的函数可以被删除或是其他结构上的变化。\n",
    "\n",
    "动态语言的一个特点是在运行时才能确定对象的类型，这与静态语言相反，静态语言在编译时就能确定对象的类型。\n",
    "\n",
    "动态语言非常灵活，但也容易出错，因为在运行时才能确定对象的类型，所以在编写代码时需要特别小心，避免出现错误。\n",
    "\n",
    "目前主流的动态语言有 Python、JavaScript、Ruby、PHP 等。而静态语言有 Java、C++、C#、Go 等。\n",
    "\n",
    "在 Python 中，我们可以动态为对象添加属性，这是 Python 作为动态语言的一项特性。我们可以使用点号添加属性，也可以使用 setattr() 函数添加属性。\n",
    "需要提醒大家的是，对象的方法也是对象的属性，我们可以动态添加方法，但不推荐这样做。\n",
    "\n",
    "'''"
   ]
  },
  {
   "cell_type": "code",
   "execution_count": null,
   "metadata": {},
   "outputs": [
    {
     "name": "stdout",
     "output_type": "stream",
     "text": [
      "Alice 20 女 100\n"
     ]
    }
   ],
   "source": [
    "class Student_dynamic:\n",
    "    '''学生类'''\n",
    "\n",
    "    def __init__(self, name, age):\n",
    "        self.name = name\n",
    "        self.age = age\n",
    "\n",
    "stu7 = Student_dynamic('Alice', 20)\n",
    "# 使用点号添加属性\n",
    "# stu7.gender = '女' # 动态添加属性，不推荐，因为会破坏类的封装性，导致代码不易维护，不易阅读\n",
    "# setattr(stu7, 'score', 100) # 使用 setattr() 函数添加属性，不推荐，因为会破坏类的封装性，导致代码不易维护，不易阅读\n",
    "# print(stu7.name, stu7.age, stu7.gender, stu7.score)"
   ]
  },
  {
   "cell_type": "code",
   "execution_count": 8,
   "metadata": {},
   "outputs": [],
   "source": [
    "class Student_dynamic_slots:\n",
    "    '''学生类'''\n",
    "\n",
    "    # 使用 __slots__ 魔法属性限定对象的属性\n",
    "    __slots__ = ('name', 'age')\n",
    "\n",
    "    def __init__(self, name, age):\n",
    "        self.name = name\n",
    "        self.age = age\n",
    "\n",
    "stu8 = Student_dynamic_slots('Alice', 20)\n",
    "# 使用点号添加属性\n",
    "# stu8.gender = '女' # AttributeError: 'Student_dynamic_slots' object has no attribute\n",
    "# print(stu8.gender)"
   ]
  },
  {
   "cell_type": "code",
   "execution_count": null,
   "metadata": {},
   "outputs": [],
   "source": [
    "# 类的继承\n",
    "# 在Python中，类的继承是指一个类可以派生出一个或多个子类，子类可以继承父类的属性和方法。\n",
    "# 在类的继承中，父类也称为基类、超类，子类也称为派生类。\n",
    "# 在Python中，类的继承可以使用括号 () 来指定父类，如果不指定父类，则默认继承 object 类。\n",
    "# 在类的继承中，子类可以继承父类的属性和方法，也可以重写父类的方法。\n",
    "\n",
    "# 面向对象三大特性\n",
    "# 在面向对象编程中，有三大特性，分别是封装、继承和多态。\n",
    "# 封装：封装是指隐藏对象的属性和实现细节，仅对外提供公共访问方式。\n",
    "# 继承：继承是指子类继承父类的属性和方法。\n",
    "# 多态：多态是指不同类的对象对同一消息作出响应。"
   ]
  },
  {
   "cell_type": "code",
   "execution_count": 9,
   "metadata": {},
   "outputs": [],
   "source": [
    "'''\n",
    "开发两个类 动物类 和 狗类\n",
    "动物类：\n",
    "    属性：姓名、年龄\n",
    "    方法：吃、睡、跑、喝\n",
    "\n",
    "狗类：\n",
    "    属性：姓名、年龄、品种\n",
    "    方法：吃、睡、跑、喝、叫\n",
    "'''\n",
    "\n",
    "class Animal:\n",
    "    '''动物类'''\n",
    "    def __init__(self, name, age):\n",
    "        self.name = name\n",
    "        self.age = age\n",
    "\n",
    "    def eat(self):\n",
    "        print(f'{self.name}正在吃东西')\n",
    "\n",
    "    def sleep(self):\n",
    "        print(f'{self.name}正在睡觉')\n",
    "\n",
    "    def run(self):\n",
    "        print(f'{self.name}正在跑步')\n",
    "\n",
    "    def drink(self):\n",
    "        print(f'{self.name}正在喝水')\n",
    "\n",
    "class Dog:\n",
    "    '''狗类'''\n",
    "    def __init__(self, name, age, breed):\n",
    "        self.name = name\n",
    "        self.age = age\n",
    "        self.breed = breed\n",
    "\n",
    "    def eat(self):\n",
    "        print(f'{self.name}正在吃东西')\n",
    "\n",
    "    def sleep(self):\n",
    "        print(f'{self.name}正在睡觉')\n",
    "\n",
    "    def run(self):\n",
    "        print(f'{self.name}正在跑步')\n",
    "\n",
    "    def drink(self):\n",
    "        print(f'{self.name}正在喝水')\n",
    "\n",
    "    def bark(self):\n",
    "        print(f'{self.name}正在叫')\n",
    "\n",
    "        "
   ]
  },
  {
   "cell_type": "code",
   "execution_count": 10,
   "metadata": {},
   "outputs": [
    {
     "name": "stdout",
     "output_type": "stream",
     "text": [
      "小白正在吃东西\n",
      "小白正在睡觉\n",
      "小白正在跑步\n",
      "小白正在喝水\n"
     ]
    }
   ],
   "source": [
    "# 创建一个动物实例\n",
    "animal1 = Animal('小白', 2)\n",
    "animal1.eat()\n",
    "animal1.sleep()\n",
    "animal1.run()\n",
    "animal1.drink()"
   ]
  },
  {
   "cell_type": "code",
   "execution_count": 11,
   "metadata": {},
   "outputs": [
    {
     "name": "stdout",
     "output_type": "stream",
     "text": [
      "旺财正在吃东西\n",
      "旺财正在睡觉\n",
      "旺财正在跑步\n",
      "旺财正在喝水\n",
      "旺财正在叫\n"
     ]
    }
   ],
   "source": [
    "# 创建一个狗实例\n",
    "dog1 = Dog('旺财', 3, '拉布拉多')\n",
    "dog1.eat()\n",
    "dog1.sleep()\n",
    "dog1.run()\n",
    "dog1.drink()\n",
    "dog1.bark()"
   ]
  },
  {
   "cell_type": "code",
   "execution_count": 13,
   "metadata": {},
   "outputs": [],
   "source": [
    "# 使用继承实现\n",
    "class Animal_inherit:\n",
    "    '''动物类'''\n",
    "    def __init__(self, name, age):\n",
    "        self.name = name\n",
    "        self.age = age\n",
    "\n",
    "    def eat(self):\n",
    "        print(f'{self.name}正在吃东西')\n",
    "\n",
    "    def sleep(self):\n",
    "        print(f'{self.name}正在睡觉')\n",
    "\n",
    "    def run(self):\n",
    "        print(f'{self.name}正在跑步')\n",
    "\n",
    "    def drink(self):\n",
    "        print(f'{self.name}正在喝水')\n",
    "\n",
    "class Dog_inherit(Animal_inherit):\n",
    "    '''狗类'''\n",
    "    def __init__(self, name, age, breed):\n",
    "        super().__init__(name, age)\n",
    "        self.breed = breed\n",
    "\n",
    "    def bark(self):\n",
    "        print(f'{self.name}正在叫')\n",
    "\n",
    "\n",
    "\n"
   ]
  },
  {
   "cell_type": "code",
   "execution_count": 14,
   "metadata": {},
   "outputs": [
    {
     "name": "stdout",
     "output_type": "stream",
     "text": [
      "小白正在吃东西\n",
      "小白正在睡觉\n",
      "小白正在跑步\n",
      "小白正在喝水\n"
     ]
    }
   ],
   "source": [
    "# 创建一个动物实例\n",
    "animal2 = Animal_inherit('小白', 2)\n",
    "animal2.eat()\n",
    "animal2.sleep()\n",
    "animal2.run()\n",
    "animal2.drink()"
   ]
  },
  {
   "cell_type": "code",
   "execution_count": 15,
   "metadata": {},
   "outputs": [
    {
     "name": "stdout",
     "output_type": "stream",
     "text": [
      "旺财正在吃东西\n",
      "旺财正在睡觉\n",
      "旺财正在跑步\n",
      "旺财正在喝水\n",
      "旺财正在叫\n"
     ]
    }
   ],
   "source": [
    "# 创建一个狗实例\n",
    "dog2 = Dog_inherit('旺财', 3, '拉布拉多')\n",
    "dog2.eat()\n",
    "dog2.sleep()\n",
    "dog2.run()\n",
    "dog2.drink()\n",
    "dog2.bark()"
   ]
  },
  {
   "cell_type": "code",
   "execution_count": null,
   "metadata": {},
   "outputs": [
    {
     "name": "stdout",
     "output_type": "stream",
     "text": [
      "哮天犬正在吃东西\n",
      "哮天犬正在睡觉\n",
      "哮天犬正在跑步\n",
      "哮天犬正在喝水\n",
      "哮天犬正在叫\n",
      "哮天犬正在飞\n"
     ]
    }
   ],
   "source": [
    "# 面向对象的传递性\n",
    "# 在类的继承中，子类可以继承父类的属性和方法，也可以继承父类的父类的属性和方法。这种继承关系称为传递性。\n",
    "\n",
    "# 创建哮天犬类，继承狗类\n",
    "class XTDog(Dog_inherit):\n",
    "    '''哮天犬类'''\n",
    "    def fly(self):\n",
    "        print(f'{self.name}正在飞')\n",
    "\n",
    "# 创建一个哮天犬实例\n",
    "xtdog1 = XTDog('哮天犬', 5, '神兽')\n",
    "xtdog1.eat()    # 继承自动物类\n",
    "xtdog1.sleep()  # 继承自动物类\n",
    "xtdog1.run()    # 继承自动物类\n",
    "xtdog1.drink()  # 继承自动物类\n",
    "xtdog1.bark()   # 继承自狗类\n",
    "xtdog1.fly()    # 自己的方法\n"
   ]
  },
  {
   "cell_type": "code",
   "execution_count": null,
   "metadata": {},
   "outputs": [
    {
     "name": "stdout",
     "output_type": "stream",
     "text": [
      "旺财正在吃东西\n",
      "旺财正在睡觉\n",
      "旺财正在飞奔\n",
      "旺财正在喝水\n",
      "旺财正在叫\n"
     ]
    }
   ],
   "source": [
    "# 在子类中为什么要重写父类的方法？\n",
    "# 在类的继承中，子类可以继承父类的属性和方法，也可以重写父类的方法。子类重写父类的方法，可以实现子类对父类方法的扩展和修改。\n",
    "\n",
    "# 创建一个狗类，重写父类的方法\n",
    "class Dog_override(Animal_inherit):\n",
    "    '''狗类'''\n",
    "    def __init__(self, name, age, breed):\n",
    "        super().__init__(name, age)\n",
    "        self.breed = breed\n",
    "\n",
    "    # 实例方法\n",
    "    def bark(self):\n",
    "        print(f'{self.name}正在叫')\n",
    "\n",
    "    # 重写父类的方法\n",
    "    def run(self):\n",
    "        print(f'{self.name}正在飞奔')\n",
    "\n",
    "# 创建一个狗实例\n",
    "dog3 = Dog_override('旺财', 3, '拉布拉多')\n",
    "dog3.eat()\n",
    "dog3.sleep()\n",
    "dog3.run()\n",
    "dog3.drink()\n",
    "dog3.bark()"
   ]
  },
  {
   "cell_type": "code",
   "execution_count": null,
   "metadata": {},
   "outputs": [
    {
     "name": "stdout",
     "output_type": "stream",
     "text": [
      "哮天犬正在吃东西\n",
      "哮天犬正在睡觉\n",
      "哮天犬正在跑步\n",
      "哮天犬正在喝水\n",
      "哮天犬正在叫\n",
      "--------------------------------------------------\n",
      "哮天犬正在飞\n",
      "哮天犬正在叫\n",
      "这是一个测试...\n",
      "哮天犬正在叫\n",
      "--------------------------------------------------\n",
      "哮天犬\n",
      "5\n",
      "神兽\n"
     ]
    }
   ],
   "source": [
    "# super() 函数\n",
    "# 在类的继承中，子类可以通过 super() 函数调用父类的方法，super() 函数的语法格式如下：\n",
    "# super().父类方法(参数)\n",
    "# 在子类中，可以使用 super() 函数调用父类的方法，实现子类对父类方法的扩展和修改。\n",
    "\n",
    "# 创建一个狗类，使用 super() 函数调用父类的方法\n",
    "class Dog_super(Animal_inherit):\n",
    "    '''狗类'''\n",
    "    def __init__(self, name, age, breed):\n",
    "        super().__init__(name, age)\n",
    "        self.breed = breed\n",
    "\n",
    "    # 实例方法\n",
    "    def bark(self):\n",
    "        print(f'{self.name}正在叫')\n",
    "\n",
    "# 创建哮天犬类，继承狗类\n",
    "class XTDog_super(Dog_super):\n",
    "    '''哮天犬类'''\n",
    "    def __init__(self, name, age, breed):\n",
    "        super().__init__(name, age, breed)\n",
    "\n",
    "    # 实例方法\n",
    "    def fly(self):\n",
    "        print(f'{self.name}正在飞')\n",
    "        super().bark() # 调用父类的方法为子类实例用，所以狗叫变成了哮天犬叫\n",
    "        print(\"这是一个测试...\")\n",
    "        Dog_super.bark(self) # 这种方式也可以调用父类的方法\n",
    "\n",
    "        # 递归调用\n",
    "        # XTDog_super.fly(self) # RecursionError: maximum recursion depth exceeded in comparison\n",
    "\n",
    "\n",
    "# 创建一个哮天犬实例\n",
    "xtdog2 = XTDog_super('哮天犬', 5, '神兽')\n",
    "xtdog2.eat()\n",
    "xtdog2.sleep()\n",
    "xtdog2.run()\n",
    "xtdog2.drink()\n",
    "xtdog2.bark()\n",
    "print(\"-\" * 50)\n",
    "xtdog2.fly()\n",
    "print(\"-\" * 50)\n",
    "print(xtdog2.name) # 虽说name age 是父类的属性，但是子类可以直接调用\n",
    "print(xtdog2.age)\n",
    "print(xtdog2.breed)"
   ]
  },
  {
   "cell_type": "code",
   "execution_count": null,
   "metadata": {},
   "outputs": [],
   "source": [
    "# 父类的私有属性和方法\n",
    "# 在类的继承中，子类可以继承父类的属性和方法，但是不能继承父类的私有属性和方法。\n",
    "# 在类的继承中，子类可以通过父类的公有方法间接访问父类的私有属性和方法。\n"
   ]
  }
 ],
 "metadata": {
  "kernelspec": {
   "display_name": "base",
   "language": "python",
   "name": "python3"
  },
  "language_info": {
   "codemirror_mode": {
    "name": "ipython",
    "version": 3
   },
   "file_extension": ".py",
   "mimetype": "text/x-python",
   "name": "python",
   "nbconvert_exporter": "python",
   "pygments_lexer": "ipython3",
   "version": "3.12.7"
  }
 },
 "nbformat": 4,
 "nbformat_minor": 2
}
