{
 "cells": [
  {
   "cell_type": "code",
   "execution_count": 1,
   "metadata": {},
   "outputs": [],
   "source": [
    "import time, datetime, traceback, sys\n",
    "from xtquant import xtdata\n",
    "from xtquant.xttrader import XtQuantTrader, XtQuantTraderCallback\n",
    "from xtquant.xttype import StockAccount\n",
    "from xtquant import xtconstant"
   ]
  },
  {
   "cell_type": "code",
   "execution_count": 2,
   "metadata": {},
   "outputs": [
    {
     "name": "stdout",
     "output_type": "stream",
     "text": [
      "***** xtdata连接成功 *****\n",
      "服务信息: {'tag': 'sp3', 'version': '1.0'}\n",
      "服务地址: 127.0.0.1:58610\n",
      "数据路径: D:\\国金QMT交易端模拟\\bin.x64/../userdata_mini/datadir\n",
      "设置xtdata.enable_hello = False可隐藏此消息\n",
      "\n"
     ]
    }
   ],
   "source": [
    "# 定义一个类 创建类的实例 作为状态的容器\n",
    "class _a():\n",
    "    def __init__(self):\n",
    "        self.bought_list = []\n",
    "        self.hsa = None  # 初始化 hsa 属性\n",
    "\n",
    "\n",
    "A = _a()\n",
    "A.bought_list = []\n",
    "A.hsa = xtdata.get_stock_list_in_sector('沪深A股')"
   ]
  },
  {
   "cell_type": "code",
   "execution_count": 3,
   "metadata": {},
   "outputs": [],
   "source": [
    "def interact():\n",
    "    \"\"\"执行后进入repl模式\"\"\"\n",
    "    import code\n",
    "    code.InteractiveConsole(locals=globals()).interact()"
   ]
  },
  {
   "cell_type": "code",
   "execution_count": 4,
   "metadata": {},
   "outputs": [],
   "source": [
    "xtdata.download_sector_data()"
   ]
  },
  {
   "cell_type": "code",
   "execution_count": 5,
   "metadata": {},
   "outputs": [],
   "source": [
    "class MyXtQuantTraderCallback(XtQuantTraderCallback):\n",
    "    def on_disconnected(self):\n",
    "        \"\"\"\n",
    "        连接断开\n",
    "        :return:\n",
    "        \"\"\"\n",
    "        print(datetime.datetime.now(), '连接断开回调')\n",
    "\n",
    "    def on_stock_order(self, order):\n",
    "        \"\"\"\n",
    "        委托回报推送\n",
    "        :param order: XtOrder对象\n",
    "        :return:\n",
    "        \"\"\"\n",
    "        print(datetime.datetime.now(), '委托回调 投资备注', order.order_remark)\n",
    "\n",
    "    def on_stock_trade(self, trade):\n",
    "        \"\"\"\n",
    "        成交变动推送\n",
    "        :param trade: XtTrade对象\n",
    "        :return:\n",
    "        \"\"\"\n",
    "        print(datetime.datetime.now(), '成交回调', trade.order_remark, f\"委托方向(48买 49卖) {trade.offset_flag} 成交价格 {trade.traded_price} 成交数量 {trade.traded_volume}\")\n",
    "\n",
    "    def on_order_error(self, order_error):\n",
    "        \"\"\"\n",
    "        委托失败推送\n",
    "        :param order_error:XtOrderError 对象\n",
    "        :return:\n",
    "        \"\"\"\n",
    "        # print(\"on order_error callback\")\n",
    "        # print(order_error.order_id, order_error.error_id, order_error.error_msg)\n",
    "        print(f\"委托报错回调 {order_error.order_remark} {order_error.error_msg}\")\n",
    "\n",
    "    def on_cancel_error(self, cancel_error):\n",
    "        \"\"\"\n",
    "        撤单失败推送\n",
    "        :param cancel_error: XtCancelError 对象\n",
    "        :return:\n",
    "        \"\"\"\n",
    "        print(datetime.datetime.now(), sys._getframe().f_code.co_name)\n",
    "\n",
    "    def on_order_stock_async_response(self, response):\n",
    "        \"\"\"\n",
    "        异步下单回报推送\n",
    "        :param response: XtOrderResponse 对象\n",
    "        :return:\n",
    "        \"\"\"\n",
    "        print(f\"异步委托回调 投资备注: {response.order_remark}\")\n",
    "\n",
    "    def on_cancel_order_stock_async_response(self, response):\n",
    "        \"\"\"\n",
    "        :param response: XtCancelOrderResponse 对象\n",
    "        :return:\n",
    "        \"\"\"\n",
    "        print(datetime.datetime.now(), sys._getframe().f_code.co_name)\n",
    "\n",
    "    def on_account_status(self, status):\n",
    "        \"\"\"\n",
    "        :param response: XtAccountStatus 对象\n",
    "        :return:\n",
    "        \"\"\"\n",
    "        print(datetime.datetime.now(), sys._getframe().f_code.co_name)"
   ]
  },
  {
   "cell_type": "code",
   "execution_count": 6,
   "metadata": {},
   "outputs": [
    {
     "name": "stdout",
     "output_type": "stream",
     "text": [
      "start\n",
      "到这了 <xtquant.xttrader.XtQuantTrader object at 0x000001F7E4E8E330>\n"
     ]
    }
   ],
   "source": [
    "print(\"start\")\n",
    "# 指定客户端所在路径, 券商端指定到 userdata_mini文件夹\n",
    "# 注意：如果是连接投研端进行交易，文件目录需要指定到f\"{安装目录}\\userdata\"\n",
    "path = r'D:\\国金QMT交易端模拟\\userdata_mini\\datadir'\n",
    "# 生成session id 整数类型 同时运行的策略不能重复\n",
    "session_id = int(time.time())\n",
    "xt_trader = XtQuantTrader(path, session_id)\n",
    "# 开启主动请求接口的专用线程 开启后在on_stock_xxx回调函数里调用XtQuantTrader.query_xxx函数不会卡住回调线程，但是查询和推送的数据在时序上会变得不确定\n",
    "# 详见: http://docs.thinktrader.net/vip/pages/ee0e9b/#开启主动请求接口的专用线程\n",
    "# xt_trader.set_relaxed_response_order_enabled(True)\n",
    "print(\"到这了\", xt_trader)"
   ]
  },
  {
   "cell_type": "code",
   "execution_count": 7,
   "metadata": {},
   "outputs": [],
   "source": [
    "# 创建资金账号为 800068 的证券账号对象 股票账号为STOCK 信用CREDIT 期货FUTURE\n",
    "acc = StockAccount('39021176', 'STOCK')"
   ]
  },
  {
   "cell_type": "code",
   "execution_count": 8,
   "metadata": {},
   "outputs": [],
   "source": [
    "# 创建交易回调类对象，并声明接收回调\n",
    "callback = MyXtQuantTraderCallback()\n",
    "xt_trader.register_callback(callback)"
   ]
  },
  {
   "cell_type": "code",
   "execution_count": 9,
   "metadata": {},
   "outputs": [],
   "source": [
    "# 启动交易线程\n",
    "xt_trader.start()"
   ]
  },
  {
   "cell_type": "code",
   "execution_count": 10,
   "metadata": {},
   "outputs": [
    {
     "name": "stdout",
     "output_type": "stream",
     "text": [
      "建立交易连接,返回0表示连接成功 -1\n"
     ]
    }
   ],
   "source": [
    "# 建立交易连接，返回0表示连接成功\n",
    "connect_result = xt_trader.connect()\n",
    "print('建立交易连接,返回0表示连接成功', connect_result)"
   ]
  },
  {
   "cell_type": "code",
   "execution_count": 11,
   "metadata": {},
   "outputs": [
    {
     "name": "stdout",
     "output_type": "stream",
     "text": [
      "对交易回调进行订阅,订阅后可以收到交易主推,返回0表示订阅成功 -1\n"
     ]
    }
   ],
   "source": [
    "# 对交易回调进行订阅，订阅后可以收到交易主推，返回0表示订阅成功\n",
    "subscribe_result = xt_trader.subscribe(acc)\n",
    "print('对交易回调进行订阅,订阅后可以收到交易主推,返回0表示订阅成功', subscribe_result)"
   ]
  },
  {
   "cell_type": "code",
   "execution_count": 13,
   "metadata": {},
   "outputs": [
    {
     "name": "stdout",
     "output_type": "stream",
     "text": [
      "取账号信息 None\n"
     ]
    }
   ],
   "source": [
    "#取账号信息\n",
    "account_info = xt_trader.query_stock_asset(acc)\n",
    "print('取账号信息', account_info)"
   ]
  },
  {
   "cell_type": "code",
   "execution_count": null,
   "metadata": {},
   "outputs": [
    {
     "name": "stdout",
     "output_type": "stream",
     "text": [
      "可用资金 100000\n",
      "<xtquant.xttype.StockAccount object at 0x000001F7E48D3C50>\n",
      "账号ID 39021176\n",
      "39021176 可用资金 100000\n"
     ]
    }
   ],
   "source": [
    "#取可用资金\n",
    "available_cash = account_info.md_Cash\n",
    "print(acc.account_id, '可用资金', available_cash)"
   ]
  },
  {
   "cell_type": "code",
   "execution_count": 18,
   "metadata": {},
   "outputs": [],
   "source": [
    "#查账号持仓\n",
    "positions = xt_trader.query_stock_positions(acc)"
   ]
  },
  {
   "cell_type": "code",
   "execution_count": null,
   "metadata": {},
   "outputs": [],
   "source": [
    "# 取各品种 总持仓 可用持仓\n",
    "position_total_dict = {i.stock_code: i.m_nVolume for i in positions}\n",
    "position_available_dict = {i.stock_code: i.m_nCanUseVolume for i in positions}\n",
    "print(acc.account_id, '持仓字典', position_total_dict)\n",
    "print(acc.account_id, '可用持仓字典', position_available_dict)"
   ]
  },
  {
   "cell_type": "code",
   "execution_count": null,
   "metadata": {},
   "outputs": [],
   "source": [
    "#买入 浦发银行 最新价 两万元\n",
    "stock = '600000.SH'\n",
    "target_amount = 20000\n",
    "full_tick = xtdata.get_full_tick([stock])\n",
    "print(f\"{stock} 全推行情： {full_tick}\")\n",
    "current_price = full_tick[stock]['lastPrice']\n",
    "#买入金额 取目标金额 与 可用金额中较小的\n",
    "buy_amount = min(target_amount, available_cash)\n",
    "#买入数量 取整为100的整数倍\n",
    "buy_vol = int(buy_amount / current_price / 100) * 100\n",
    "print(f\"当前可用资金 {available_cash} 目标买入金额 {target_amount} 买入股数 {buy_vol}股\")\n",
    "async_seq = xt_trader.order_stock_async(acc, stock, xtconstant.STOCK_BUY, buy_vol, xtconstant.FIX_PRICE, current_price,\n",
    "                                            'strategy_name', stock)"
   ]
  },
  {
   "cell_type": "code",
   "execution_count": null,
   "metadata": {},
   "outputs": [],
   "source": [
    "#卖出 500股\n",
    "stock = '513130.SH'\n",
    "#目标数量\n",
    "target_vol = 500\n",
    "#可用数量\n",
    "available_vol = position_available_dict[stock] if stock in position_available_dict else 0\n",
    "#卖出量取目标量与可用量中较小的\n",
    "sell_vol = min(target_vol, available_vol)\n",
    "print(f\"{stock} 目标卖出量 {target_vol} 可用数量 {available_vol} 卖出 {sell_vol}股\")\n",
    "if sell_vol > 0:\n",
    "    async_seq = xt_trader.order_stock_async(acc, stock, xtconstant.STOCK_SELL, sell_vol, xtconstant.LATEST_PRICE,\n",
    "                                                -1,\n",
    "                                                'strategy_name', stock)"
   ]
  },
  {
   "cell_type": "code",
   "execution_count": null,
   "metadata": {},
   "outputs": [],
   "source": [
    "# 阻塞主线程退出\n",
    "xt_trader.run_forever()\n",
    "# 如果使用vscode pycharm等本地编辑器 可以进入交互模式 方便调试 （把上一行的run_forever注释掉 否则不会执行到这里）\n",
    "interact()"
   ]
  }
 ],
 "metadata": {
  "kernelspec": {
   "display_name": "base",
   "language": "python",
   "name": "python3"
  },
  "language_info": {
   "codemirror_mode": {
    "name": "ipython",
    "version": 3
   },
   "file_extension": ".py",
   "mimetype": "text/x-python",
   "name": "python",
   "nbconvert_exporter": "python",
   "pygments_lexer": "ipython3",
   "version": "3.12.7"
  }
 },
 "nbformat": 4,
 "nbformat_minor": 2
}
