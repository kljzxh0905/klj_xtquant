{
 "cells": [
  {
   "cell_type": "code",
   "execution_count": 1,
   "metadata": {},
   "outputs": [],
   "source": [
    "from xtquant import xtdata\n",
    "import time\n",
    "import threading"
   ]
  },
  {
   "cell_type": "code",
   "execution_count": 2,
   "metadata": {},
   "outputs": [
    {
     "name": "stdout",
     "output_type": "stream",
     "text": [
      "hello world\n"
     ]
    }
   ],
   "source": [
    "# 设定一个标的列表\n",
    "code_list = [\"000001.SZ\", \"000058.SZ\", \"000016.SZ\", \"300368.SZ\", \"600601.SH\", \"002091.SZ\"]\n",
    "# 设定获取数据的周期\n",
    "period = \"1d\"\n",
    "\n",
    "print(\"hello world\")"
   ]
  },
  {
   "cell_type": "code",
   "execution_count": null,
   "metadata": {},
   "outputs": [
    {
     "name": "stdout",
     "output_type": "stream",
     "text": [
      "code_list:  ['000001.SZ', '000058.SZ', '000016.SZ', '300368.SZ', '600601.SH', '002091.SZ']\n",
      "Downloading data for code:  000001.SZ\n",
      "Downloading data for code:  000058.SZ\n",
      "Downloading data for code:  000016.SZ\n",
      "Downloading data for code:  300368.SZ\n",
      "Downloading data for code:  600601.SH\n",
      "Downloading data for code:  002091.SZ\n",
      "====================\n"
     ]
    }
   ],
   "source": [
    "# 下载标的行情数据\n",
    "if 1:\n",
    "    print(\"code_list: \", code_list)\n",
    "    for i in code_list:\n",
    "        print(\"Downloading data for code: \", i)\n",
    "        xtdata.download_history_data(i, period=period, incrementally=True, start_time='20240101', end_time='')  # 增量下载行情数据（开高低收,等等）到本地\n",
    "        time.sleep(1)  # 间隔1秒，防止下载过快被服务器封IP\n",
    "\n",
    "    \n",
    "\n",
    "print(\"=\" * 20)"
   ]
  },
  {
   "cell_type": "code",
   "execution_count": 8,
   "metadata": {},
   "outputs": [
    {
     "name": "stdout",
     "output_type": "stream",
     "text": [
      "<class 'dict'>\n",
      "dict_keys(['000001.SZ', '000058.SZ', '000016.SZ', '300368.SZ', '600601.SH', '002091.SZ'])\n",
      "Index(['time', 'open', 'high', 'low', 'close', 'volume', 'amount',\n",
      "       'settelementPrice', 'openInterest', 'preClose', 'suspendFlag'],\n",
      "      dtype='object')\n",
      "000001.SZ\n",
      "['11.51', '11.66', '11.63', '11.67', '11.59', '11.61', '11.85', '11.84', '11.97', '11.51']\n",
      "000058.SZ\n",
      "['9.17', '9.37', '9.44', '8.95', '9.12', '9.16', '9.24', '8.87', '8.97', '8.93']\n",
      "000016.SZ\n",
      "['5.80', '5.50', '5.55', '5.37', '5.42', '5.42', '5.48', '5.26', '5.30', '5.34']\n",
      "300368.SZ\n",
      "['4.68', '4.77', '4.79', '4.72', '4.68', '4.75', '4.85', '4.91', '5.13', '5.10']\n",
      "600601.SH\n",
      "['4.73', '4.77', '4.87', '4.91', '4.90', '5.05', '4.99', '4.91', '5.40', '5.43']\n",
      "002091.SZ\n",
      "['7.74', '7.69', '7.72', '7.72', '7.89', '8.00', '7.90', '7.97', '7.95', '7.88']\n",
      "====================\n"
     ]
    }
   ],
   "source": [
    "# 读取本地历史行情数据\n",
    "history_data = xtdata.get_market_data_ex([],code_list,period=period, start_time='20250101', end_time='', count=10, dividend_type='front', fill_data=True)  # 读取本地历史行情数据\n",
    "print(type(history_data))\n",
    "print(history_data.keys())\n",
    "print(history_data[code_list[0]].keys())\n",
    "for i in code_list:\n",
    "    print(i)\n",
    "    close_prices = [f\"{price:.2f}\" for price in history_data[i][\"close\"]]\n",
    "    print(close_prices)\n",
    "\n",
    "print(\"=\" * 20)"
   ]
  },
  {
   "cell_type": "code",
   "execution_count": null,
   "metadata": {},
   "outputs": [],
   "source": [
    "# 向服务器订阅数据\n",
    "for i in code_list:\n",
    "    xtdata.subscribe_quote(i,period=period,count=-1) # 设置count = -1来取到当天所有实时行情\n",
    "\n",
    "# 等待订阅完成\n",
    "time.sleep(1)"
   ]
  },
  {
   "cell_type": "code",
   "execution_count": null,
   "metadata": {},
   "outputs": [],
   "source": [
    "# 获取订阅后的行情\n",
    "kline_data = xtdata.get_market_data_ex([],code_list,period=period, start_time='20240101', end_time='', count=10, dividend_type='front', fill_data=True)\n",
    "print(type(kline_data))\n",
    "print(kline_data.keys())\n",
    "print(kline_data[code_list[0]].keys())\n",
    "for i in code_list:\n",
    "    print(i)\n",
    "    close_prices = [f\"{price:.2f}\" for price in kline_data[i][\"close\"]]\n",
    "    print(close_prices)"
   ]
  },
  {
   "cell_type": "code",
   "execution_count": null,
   "metadata": {},
   "outputs": [],
   "source": [
    "# 获取订阅后的行情，并以固定间隔进行刷新,预期会循环打印10次\n",
    "for i in range(10):\n",
    "    # 这边做演示，就用for来循环了，实际使用中可以用while True\n",
    "    kline_data = xtdata.get_market_data_ex([],code_list,period=period, start_time='20240101', end_time='', count=1, dividend_type='front', fill_data=True)\n",
    "    for i in code_list:\n",
    "        print(i)\n",
    "        close_prices = [f\"{price:.2f}\" for price in kline_data[i][\"close\"]]\n",
    "        print(close_prices)\n",
    "    # print(kline_data)\n",
    "    time.sleep(3) # 三秒后再次获取行情\n",
    "    print(\"=\" * 20)"
   ]
  },
  {
   "cell_type": "code",
   "execution_count": null,
   "metadata": {},
   "outputs": [],
   "source": [
    "# 如果不想用固定间隔触发，可以以用订阅后的回调来执行\n",
    "# 这种模式下当订阅的callback回调函数将会异步的执行，每当订阅的标的tick发生变化更新，callback回调函数就会被调用一次\n",
    "# 本地已有的数据不会触发callback\n",
    "\n",
    "# 定义的回测函数\n",
    "## 回调函数中，data是本次触发回调的数据，只有一条\n",
    "def f(data):\n",
    "    print(\"回调函数被触发\")\n",
    "    print(\"回调数据:\",data)\n",
    "    \n",
    "    code_list = list(data.keys())    # 获取到本次触发的标的代码\n",
    "\n",
    "    kline_in_callback = xtdata.get_market_data_ex([],code_list,period = period, start_time='20250101', end_time='', count=10, dividend_type='none', fill_data=True)    # 在回调中获取klines数据\n",
    "    # print(\"获取的行情数据:\", kline_in_callback)\n",
    "    for i in code_list:\n",
    "        print(i)\n",
    "        close_prices = [f\"{price:.2f}\" for price in kline_in_callback[i][\"close\"]]\n",
    "        print(close_prices)\n",
    "        time.sleep(3)\n",
    "    print(\"=\" * 20)\n",
    "\n",
    "# 手动触发回调函数进行测试\n",
    "# test_data = {'000001.SZ': {'time': '2025-03-17 09:30:00',  'price': 10.0}}\n",
    "# f(test_data)\n",
    "\n",
    "for i in code_list:\n",
    "    xtdata.subscribe_quote(i,period=period, start_time='20250301', end_time='' ,count=10,callback=f) # 订阅时设定回调函数\n",
    "\n",
    "# 使用回调时，必须要同时使用xtdata.run()来阻塞程序，否则程序运行到最后一行就直接结束退出了。\n",
    "# xtdata.run()"
   ]
  }
 ],
 "metadata": {
  "kernelspec": {
   "display_name": "base",
   "language": "python",
   "name": "python3"
  },
  "language_info": {
   "codemirror_mode": {
    "name": "ipython",
    "version": 3
   },
   "file_extension": ".py",
   "mimetype": "text/x-python",
   "name": "python",
   "nbconvert_exporter": "python",
   "pygments_lexer": "ipython3",
   "version": "3.12.7"
  }
 },
 "nbformat": 4,
 "nbformat_minor": 2
}
